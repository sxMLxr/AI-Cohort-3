{
  "cells": [
    {
      "cell_type": "markdown",
      "metadata": {
        "id": "view-in-github",
        "colab_type": "text"
      },
      "source": [
        "<a href=\"https://colab.research.google.com/github/michaelwnau/ai_academy_notebooks/blob/main/qdrant_collections_1.ipynb\" target=\"_parent\"><img src=\"https://colab.research.google.com/assets/colab-badge.svg\" alt=\"Open In Colab\"/></a>"
      ]
    },
    {
      "cell_type": "code",
      "source": [
        "!pip install qdrant-client"
      ],
      "metadata": {
        "id": "455Yq6P9JUPN"
      },
      "id": "455Yq6P9JUPN",
      "execution_count": null,
      "outputs": []
    },
    {
      "cell_type": "code",
      "execution_count": 4,
      "id": "13136de9-10e8-49a6-8462-689a44077d8b",
      "metadata": {
        "id": "13136de9-10e8-49a6-8462-689a44077d8b"
      },
      "outputs": [],
      "source": [
        "from qdrant_client import QdrantClient\n",
        "from qdrant_client.http import models"
      ]
    },
    {
      "cell_type": "code",
      "execution_count": 5,
      "id": "13fcf5d7-5799-4bd7-9023-9aa8066f8c02",
      "metadata": {
        "id": "13fcf5d7-5799-4bd7-9023-9aa8066f8c02"
      },
      "outputs": [],
      "source": [
        "client = QdrantClient(\"localhost\", port=6333)"
      ]
    },
    {
      "cell_type": "code",
      "execution_count": null,
      "id": "5326ffd1-1d30-4344-a25c-1a9091f4b736",
      "metadata": {
        "id": "5326ffd1-1d30-4344-a25c-1a9091f4b736"
      },
      "outputs": [],
      "source": [
        "client.create_collection(\n",
        "    collection_name=\"hello_world_collection\",\n",
        "    vectors_config=models.VectorParams(size=4, distance=models.Distance.COSINE)\n",
        ")"
      ]
    },
    {
      "cell_type": "code",
      "execution_count": null,
      "id": "8ed4e433-c8f1-49d6-8fb7-c83e15ee4bf4",
      "metadata": {
        "id": "8ed4e433-c8f1-49d6-8fb7-c83e15ee4bf4"
      },
      "outputs": [],
      "source": [
        "client.get_collections()"
      ]
    },
    {
      "cell_type": "code",
      "execution_count": null,
      "id": "b4f285b8-95be-45a1-b7cd-ccfcbde7fe26",
      "metadata": {
        "id": "b4f285b8-95be-45a1-b7cd-ccfcbde7fe26",
        "outputId": "29fef76a-4e36-4685-ae7e-bc47331be992"
      },
      "outputs": [
        {
          "data": {
            "text/plain": [
              "True"
            ]
          },
          "execution_count": 7,
          "metadata": {},
          "output_type": "execute_result"
        }
      ],
      "source": [
        "client.create_collection(\n",
        "    collection_name=\"multi_vector_collection\",\n",
        "    vectors_config={\n",
        "        \"vector_set_1\":models.VectorParams(size=1024, distance=models.Distance.DOT),\n",
        "        \"vector_set_2\":models.VectorParams(size=2048, distance=models.Distance.COSINE),\n",
        "    }\n",
        ")"
      ]
    },
    {
      "cell_type": "code",
      "execution_count": null,
      "id": "aad39067-d039-440c-9776-4f6e28ea3ee3",
      "metadata": {
        "id": "aad39067-d039-440c-9776-4f6e28ea3ee3",
        "outputId": "d5827169-8b92-47b9-c769-ff66ceb1f920"
      },
      "outputs": [
        {
          "data": {
            "text/plain": [
              "CollectionsResponse(collections=[CollectionDescription(name='hellow_world_collection'), CollectionDescription(name='hello_world_collection'), CollectionDescription(name='multi_vector_collection')])"
            ]
          },
          "execution_count": 8,
          "metadata": {},
          "output_type": "execute_result"
        }
      ],
      "source": [
        "client.get_collections()"
      ]
    },
    {
      "cell_type": "code",
      "execution_count": null,
      "id": "c55c08ac-a4a6-4e4a-973a-851eebdbd548",
      "metadata": {
        "id": "c55c08ac-a4a6-4e4a-973a-851eebdbd548",
        "outputId": "ed356e81-6a01-4e8c-f575-b046c9f2ce9b"
      },
      "outputs": [
        {
          "data": {
            "text/plain": [
              "True"
            ]
          },
          "execution_count": 9,
          "metadata": {},
          "output_type": "execute_result"
        }
      ],
      "source": [
        "client.create_collection(\n",
        "    collection_name=\"sparse_vector_collection\",\n",
        "    sparse_vectors_config={\n",
        "        \"vectors_set_sparse\": models.SparseVectorParams(),\n",
        "    },\n",
        "    vectors_config={}\n",
        ")"
      ]
    },
    {
      "cell_type": "code",
      "execution_count": null,
      "id": "f2c27e94-b352-405e-a0c7-e7084b7970ff",
      "metadata": {
        "id": "f2c27e94-b352-405e-a0c7-e7084b7970ff",
        "outputId": "6494cae9-dd85-441c-ea3a-90711cd0c893"
      },
      "outputs": [
        {
          "data": {
            "text/plain": [
              "CollectionsResponse(collections=[CollectionDescription(name='sparse_vector_collection'), CollectionDescription(name='hello_world_collection'), CollectionDescription(name='hellow_world_collection'), CollectionDescription(name='multi_vector_collection')])"
            ]
          },
          "execution_count": 10,
          "metadata": {},
          "output_type": "execute_result"
        }
      ],
      "source": [
        "client.get_collections()"
      ]
    },
    {
      "cell_type": "code",
      "execution_count": null,
      "id": "a757d4a5-2c6f-4f89-a723-f53a29049115",
      "metadata": {
        "id": "a757d4a5-2c6f-4f89-a723-f53a29049115",
        "outputId": "794dd32f-0576-46c5-d1ec-50da0158a02a"
      },
      "outputs": [
        {
          "data": {
            "text/plain": [
              "True"
            ]
          },
          "execution_count": 13,
          "metadata": {},
          "output_type": "execute_result"
        }
      ],
      "source": [
        "client.delete_collection(collection_name=\"hellow_world_collection\")"
      ]
    },
    {
      "cell_type": "code",
      "execution_count": null,
      "id": "1318e696-7f5f-409d-b569-38c14a018bd9",
      "metadata": {
        "id": "1318e696-7f5f-409d-b569-38c14a018bd9",
        "outputId": "14f630c5-782d-42a0-c073-f12d5920b9f5"
      },
      "outputs": [
        {
          "data": {
            "text/plain": [
              "True"
            ]
          },
          "execution_count": 14,
          "metadata": {},
          "output_type": "execute_result"
        }
      ],
      "source": [
        "client.delete_collection(collection_name=\"hello_world_collection\")"
      ]
    },
    {
      "cell_type": "code",
      "execution_count": null,
      "id": "edbb9dc6-1ec5-411f-a8fc-82485f6b992d",
      "metadata": {
        "id": "edbb9dc6-1ec5-411f-a8fc-82485f6b992d",
        "outputId": "f81cf8a6-c15f-4815-ed16-f9ae1c877004"
      },
      "outputs": [
        {
          "data": {
            "text/plain": [
              "CollectionsResponse(collections=[CollectionDescription(name='sparse_vector_collection'), CollectionDescription(name='multi_vector_collection')])"
            ]
          },
          "execution_count": 15,
          "metadata": {},
          "output_type": "execute_result"
        }
      ],
      "source": [
        "client.get_collections()"
      ]
    },
    {
      "cell_type": "code",
      "execution_count": null,
      "id": "fc3de765-37ba-4041-8998-ccc65be73c4d",
      "metadata": {
        "id": "fc3de765-37ba-4041-8998-ccc65be73c4d"
      },
      "outputs": [],
      "source": []
    }
  ],
  "metadata": {
    "kernelspec": {
      "display_name": "Python 3 (ipykernel)",
      "language": "python",
      "name": "python3"
    },
    "language_info": {
      "codemirror_mode": {
        "name": "ipython",
        "version": 3
      },
      "file_extension": ".py",
      "mimetype": "text/x-python",
      "name": "python",
      "nbconvert_exporter": "python",
      "pygments_lexer": "ipython3",
      "version": "3.12.0"
    },
    "colab": {
      "provenance": [],
      "include_colab_link": true
    }
  },
  "nbformat": 4,
  "nbformat_minor": 5
}