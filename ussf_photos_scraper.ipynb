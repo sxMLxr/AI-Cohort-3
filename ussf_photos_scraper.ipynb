{
  "nbformat": 4,
  "nbformat_minor": 0,
  "metadata": {
    "colab": {
      "provenance": [],
      "mount_file_id": "1siSSN77gWMwm1nIEKr0hnl3cax2WWJkI",
      "authorship_tag": "ABX9TyPpKpm2uu7RPn6TgRnquc5h",
      "include_colab_link": true
    },
    "kernelspec": {
      "name": "python3",
      "display_name": "Python 3"
    },
    "language_info": {
      "name": "python"
    }
  },
  "cells": [
    {
      "cell_type": "markdown",
      "metadata": {
        "id": "view-in-github",
        "colab_type": "text"
      },
      "source": [
        "<a href=\"https://colab.research.google.com/github/michaelwnau/ai_academy_notebooks/blob/main/ussf_photos_scraper.ipynb\" target=\"_parent\"><img src=\"https://colab.research.google.com/assets/colab-badge.svg\" alt=\"Open In Colab\"/></a>"
      ]
    },
    {
      "cell_type": "code",
      "execution_count": 7,
      "metadata": {
        "id": "W_qTaKS4vxWq"
      },
      "outputs": [],
      "source": [
        "import os\n",
        "import requests\n",
        "from bs4 import BeautifulSoup\n",
        "from google.colab import drive\n",
        "import re\n",
        "\n",
        "#drive.mount('/content/drive')\n",
        "\n",
        "def download_image(image_url, target_path):\n",
        "    response = requests.get(image_url, stream=True)\n",
        "    if response.status_code == 200:\n",
        "        with open(target_path, 'wb') as f:\n",
        "            f.write(response.content)\n",
        "\n",
        "def scrape_images(url, page=0):\n",
        "    response = requests.get(url)\n",
        "    soup = BeautifulSoup(response.text, 'html.parser')\n",
        "    figures = soup.find_all('figure', {'class': 'gallery_container'})\n",
        "\n",
        "    target_folder = '/content/drive/MyDrive/sf-photos-beautifulsoup'\n",
        "    if not os.path.exists(target_folder):\n",
        "        os.makedirs(target_folder)\n",
        "\n",
        "    for i, figure in enumerate(figures):\n",
        "        image_div = figure.find('div', {'class': 'gallery-image'})\n",
        "        style = image_div['style']\n",
        "        image_url = re.findall('url\\((.*?)\\)', style)[0]  # Extract URL from the 'style' attribute\n",
        "        target_path = os.path.join(target_folder, f'image_{page}_{i}.jpg')\n",
        "        download_image(image_url, target_path)\n",
        "\n",
        "    # Check for a 'next page' link and if it exists, follow it\n",
        "    next_page = soup.find('a', {'class': 'next'})\n",
        "    if next_page and 'href' in next_page.attrs:\n",
        "        next_page_url = next_page['href']\n",
        "        if not next_page_url.startswith('http'):\n",
        "            next_page_url = url + next_page_url\n",
        "        scrape_images(next_page_url, page + 1)\n",
        "\n",
        "scrape_images('https://www.spaceforce.mil/Multimedia/Photos/')\n"
      ]
    },
    {
      "cell_type": "code",
      "source": [],
      "metadata": {
        "id": "0FtHCvpTwld2"
      },
      "execution_count": null,
      "outputs": []
    }
  ]
}