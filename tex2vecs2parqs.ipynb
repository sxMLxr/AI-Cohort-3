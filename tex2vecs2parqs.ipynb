{
  "nbformat": 4,
  "nbformat_minor": 0,
  "metadata": {
    "colab": {
      "private_outputs": true,
      "provenance": [],
      "toc_visible": true,
      "mount_file_id": "1VMvJYRBVSZrYjpmlFrdHLu3QjT_K4MAL",
      "authorship_tag": "ABX9TyNX+gTMGJeuIdjJWHL6/QUc",
      "include_colab_link": true
    },
    "kernelspec": {
      "name": "python3",
      "display_name": "Python 3"
    },
    "language_info": {
      "name": "python"
    }
  },
  "cells": [
    {
      "cell_type": "markdown",
      "metadata": {
        "id": "view-in-github",
        "colab_type": "text"
      },
      "source": [
        "<a href=\"https://colab.research.google.com/github/michaelwnau/ai_academy_notebooks/blob/main/tex2vecs2parqs.ipynb\" target=\"_parent\"><img src=\"https://colab.research.google.com/assets/colab-badge.svg\" alt=\"Open In Colab\"/></a>"
      ]
    },
    {
      "cell_type": "code",
      "execution_count": null,
      "metadata": {
        "id": "EpjDk5nXc3Ag"
      },
      "outputs": [],
      "source": [
        "# Install necessary libraries\n",
        "!pip install pydrive\n",
        "\n",
        "from pydrive.auth import GoogleAuth\n",
        "from pydrive.drive import GoogleDrive\n",
        "from google.colab import auth\n",
        "from oauth2client.client import GoogleCredentials\n",
        "\n",
        "# Authenticate and create the PyDrive client\n",
        "auth.authenticate_user()\n",
        "gauth = GoogleAuth()\n",
        "gauth.credentials = GoogleCredentials.get_application_default()\n",
        "drive = GoogleDrive(gauth)\n"
      ]
    },
    {
      "cell_type": "code",
      "source": [
        "file_path = '/content/drive/MyDrive/corpus-zeta/2023/oit-videos-bios/brad-houston-bios-talk.txt'\n",
        "with open(file_path, 'r') as file:\n",
        "    file_content = file.read()\n"
      ],
      "metadata": {
        "id": "QEv5H-Brd0jk"
      },
      "execution_count": null,
      "outputs": []
    },
    {
      "cell_type": "code",
      "source": [
        "def chunk_text(text, size=1000):\n",
        "    tokens = text.split()\n",
        "    chunks = []\n",
        "\n",
        "    for i in range(0, len(tokens), size):\n",
        "        chunks.append(' '.join(tokens[i:i+size]))\n",
        "\n",
        "    return chunks\n",
        "\n",
        "chunked_texts = chunk_text(file_content)\n"
      ],
      "metadata": {
        "id": "Uvnz3LW4ndqT"
      },
      "execution_count": null,
      "outputs": []
    },
    {
      "cell_type": "code",
      "source": [
        "!pip install spacy\n",
        "!python -m spacy download en_core_web_md\n",
        "\n",
        "import spacy\n",
        "\n",
        "nlp = spacy.load('en_core_web_md')\n",
        "\n",
        "def embed_text(text):\n",
        "    doc = nlp(text)\n",
        "    return [token.vector for token in doc]\n",
        "\n",
        "embedded_texts = [embed_text(text) for text in chunked_texts]\n"
      ],
      "metadata": {
        "id": "f5fAPMXxnh7M"
      },
      "execution_count": null,
      "outputs": []
    },
    {
      "cell_type": "code",
      "source": [
        "!pip install matplotlib scikit-learn numpy\n",
        "\n",
        "import matplotlib.pyplot as plt\n",
        "import numpy as np\n",
        "from sklearn.manifold import TSNE\n"
      ],
      "metadata": {
        "id": "7kx0KrYXnlUt"
      },
      "execution_count": null,
      "outputs": []
    },
    {
      "cell_type": "code",
      "source": [
        "n_samples = averaged_embeddings_array.shape[0]\n",
        "print(f\"Number of samples: {n_samples}\")\n",
        "\n",
        "adjusted_perplexity = n_samples // 2  # Using floor division\n",
        "tsne_model = TSNE(perplexity=adjusted_perplexity, n_components=2, init='pca', n_iter=3500, random_state=32)\n",
        "low_dim_data = tsne_model.fit_transform(averaged_embeddings_array)\n"
      ],
      "metadata": {
        "id": "OHSygiwenpfN"
      },
      "execution_count": null,
      "outputs": []
    },
    {
      "cell_type": "code",
      "source": [
        "plt.figure(figsize=(12, 6))\n",
        "plt.scatter(low_dim_data[:, 0], low_dim_data[:, 1])\n",
        "\n",
        "# Optionally, annotate points with some text data or indices\n",
        "for i, txt in enumerate(chunked_texts):\n",
        "    if i < 10:  # Only annotate the first 10 points for clarity\n",
        "        plt.annotate(txt[:30] + '...', (low_dim_data[i, 0], low_dim_data[i, 1]))  # Displaying first 30 characters of each chunk\n",
        "\n",
        "plt.xlabel('Dimension 1')\n",
        "plt.ylabel('Dimension 2')\n",
        "plt.title('2D t-SNE representation of Text Embeddings')\n",
        "plt.show()\n"
      ],
      "metadata": {
        "id": "s0R7ktC2osGl"
      },
      "execution_count": null,
      "outputs": []
    },
    {
      "cell_type": "code",
      "source": [
        "!pip install pandas pyarrow\n",
        "\n",
        "import pandas as pd\n",
        "\n",
        "# Create a DataFrame\n",
        "df = pd.DataFrame({\n",
        "    'text': chunked_texts,\n",
        "    'embedding': embedded_texts\n",
        "})\n",
        "\n",
        "# Export to Parquet format\n",
        "df.to_parquet('output.parquet')\n"
      ],
      "metadata": {
        "id": "h40BR1Ypo33L"
      },
      "execution_count": null,
      "outputs": []
    },
    {
      "cell_type": "code",
      "source": [
        "uploaded = drive.CreateFile({'title': 'output.parquet'})\n",
        "uploaded.SetContentFile('output.parquet')\n",
        "uploaded.Upload()\n"
      ],
      "metadata": {
        "id": "cifeL6UFo8xj"
      },
      "execution_count": null,
      "outputs": []
    }
  ]
}