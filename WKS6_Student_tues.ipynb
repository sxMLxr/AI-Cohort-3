{
  "cells": [
    {
      "cell_type": "markdown",
      "metadata": {
        "id": "view-in-github",
        "colab_type": "text"
      },
      "source": [
        "<a href=\"https://colab.research.google.com/github/michaelwnau/ai_academy_notebooks/blob/main/WKS6_Student_tues_nau.ipynb\" target=\"_parent\"><img src=\"https://colab.research.google.com/assets/colab-badge.svg\" alt=\"Open In Colab\"/></a>"
      ]
    },
    {
      "cell_type": "markdown",
      "metadata": {
        "id": "0fv5JIEKAutY"
      },
      "source": [
        "# **Workshop 6**\n",
        "\n",
        "In this workshop, you'll be working with KNN and AdaBoost."
      ]
    },
    {
      "cell_type": "code",
      "source": [
        "from google.colab import drive\n",
        "drive.mount('/content/drive')"
      ],
      "metadata": {
        "id": "5VJEPyegB6Nh",
        "colab": {
          "base_uri": "https://localhost:8080/"
        },
        "outputId": "a304b604-5872-47c6-9ea6-f79cc3746d73"
      },
      "execution_count": null,
      "outputs": [
        {
          "output_type": "stream",
          "name": "stdout",
          "text": [
            "Mounted at /content/drive\n"
          ]
        }
      ]
    },
    {
      "cell_type": "markdown",
      "metadata": {
        "id": "oOlKo53VAutb"
      },
      "source": [
        "# 0) Loading Data & Libraries"
      ]
    },
    {
      "cell_type": "code",
      "execution_count": 16,
      "metadata": {
        "id": "qe3MT9kcAutb"
      },
      "outputs": [],
      "source": [
        "from sklearn import metrics\n",
        "import numpy as np\n",
        "\n",
        "import pandas as pd\n",
        "import matplotlib.pyplot as plt\n",
        "\n",
        "from sklearn import datasets\n",
        "\n",
        "# set a seed for reproducibility\n",
        "random_seed = 25\n",
        "np.random.seed(random_seed)\n",
        "\n",
        "import warnings\n",
        "warnings.filterwarnings(\"ignore\")"
      ]
    },
    {
      "cell_type": "markdown",
      "metadata": {
        "id": "QKItD3N4Autc"
      },
      "source": [
        "# 1) Twitter Sentiment Analysis using KNN\n",
        "\n",
        "[Sentiment analysis](https://en.wikipedia.org/wiki/Sentiment_analysis) is the study of how we can systematically identify and quantify sentiment of a given segment of text. In this problem, you will be using the [Sentiment140](http://help.sentiment140.com/for-students/) dataset to build a classifier that will rate the sentiment of a string of text on a scale from 0 to 4.\n",
        "\n",
        "**WARNING:** This is *real* data from *real* people from Twitter. That means you might (and probably will) see some unscrupulous language when browsing the dataset. Don't browse with kids around!"
      ]
    },
    {
      "cell_type": "markdown",
      "metadata": {
        "id": "k3kY44GPAutc"
      },
      "source": [
        "Let's take a look at our data, and what attributes we have.\n",
        "\n",
        "* **polarity**: The assumed polarity of the tweet. For this subset, we're only considering positive and negative tweets, no neutrality.\n",
        "* **id**: The tweet ID.\n",
        "* **date**: The date the tweet was posted.\n",
        "* **query**: The search term used in order to find tweets of a certain topic.\n",
        "* **text**: The actual text of the tweet.\n",
        "\n",
        "For now, we only consider the **polarity** and **text** attributes."
      ]
    },
    {
      "cell_type": "code",
      "execution_count": 17,
      "metadata": {
        "id": "yOrKsGgQAutd"
      },
      "outputs": [],
      "source": [
        "train_data = pd.read_csv(\"/content/drive/MyDrive/AI ACADEMY/2 - Data Mining/6- Week 6/WKS6_Student/data/train_reduced.csv\")"
      ]
    },
    {
      "cell_type": "code",
      "execution_count": 18,
      "metadata": {
        "id": "FwDuW3YxAutd",
        "colab": {
          "base_uri": "https://localhost:8080/",
          "height": 206
        },
        "outputId": "4a0b25e7-1953-46ec-cf99-cac390751bb6"
      },
      "outputs": [
        {
          "output_type": "execute_result",
          "data": {
            "text/plain": [
              "   polarity          id                          date     query  \\\n",
              "0         4  1468251446  Tue Apr 07 00:33:05 PDT 2009  NO_QUERY   \n",
              "1         4  2052426181  Sat Jun 06 00:41:22 PDT 2009  NO_QUERY   \n",
              "2         4  1692413347  Sun May 03 19:56:39 PDT 2009  NO_QUERY   \n",
              "3         4  2176577445  Mon Jun 15 04:14:20 PDT 2009  NO_QUERY   \n",
              "4         4  1771234509  Mon May 11 23:38:42 PDT 2009  NO_QUERY   \n",
              "\n",
              "              user                                               text  \n",
              "0         derek319      www.killerjo.net try not to focus on science   \n",
              "1   DJSunshine1980  After Rain following often the Sun, so don't b...  \n",
              "2  MicheleBlueston  @Sixtiesguy Hey it's sexy to be unemployed...a...  \n",
              "3        is_selene  NVM. Thank god for auto recovery. I didn't los...  \n",
              "4     STARj0NES314            @IamSpectacular damn like dat ?  hahaha  "
            ],
            "text/html": [
              "\n",
              "  <div id=\"df-ca95513f-8822-4613-a7bd-d5b8877fa5d4\">\n",
              "    <div class=\"colab-df-container\">\n",
              "      <div>\n",
              "<style scoped>\n",
              "    .dataframe tbody tr th:only-of-type {\n",
              "        vertical-align: middle;\n",
              "    }\n",
              "\n",
              "    .dataframe tbody tr th {\n",
              "        vertical-align: top;\n",
              "    }\n",
              "\n",
              "    .dataframe thead th {\n",
              "        text-align: right;\n",
              "    }\n",
              "</style>\n",
              "<table border=\"1\" class=\"dataframe\">\n",
              "  <thead>\n",
              "    <tr style=\"text-align: right;\">\n",
              "      <th></th>\n",
              "      <th>polarity</th>\n",
              "      <th>id</th>\n",
              "      <th>date</th>\n",
              "      <th>query</th>\n",
              "      <th>user</th>\n",
              "      <th>text</th>\n",
              "    </tr>\n",
              "  </thead>\n",
              "  <tbody>\n",
              "    <tr>\n",
              "      <th>0</th>\n",
              "      <td>4</td>\n",
              "      <td>1468251446</td>\n",
              "      <td>Tue Apr 07 00:33:05 PDT 2009</td>\n",
              "      <td>NO_QUERY</td>\n",
              "      <td>derek319</td>\n",
              "      <td>www.killerjo.net try not to focus on science</td>\n",
              "    </tr>\n",
              "    <tr>\n",
              "      <th>1</th>\n",
              "      <td>4</td>\n",
              "      <td>2052426181</td>\n",
              "      <td>Sat Jun 06 00:41:22 PDT 2009</td>\n",
              "      <td>NO_QUERY</td>\n",
              "      <td>DJSunshine1980</td>\n",
              "      <td>After Rain following often the Sun, so don't b...</td>\n",
              "    </tr>\n",
              "    <tr>\n",
              "      <th>2</th>\n",
              "      <td>4</td>\n",
              "      <td>1692413347</td>\n",
              "      <td>Sun May 03 19:56:39 PDT 2009</td>\n",
              "      <td>NO_QUERY</td>\n",
              "      <td>MicheleBlueston</td>\n",
              "      <td>@Sixtiesguy Hey it's sexy to be unemployed...a...</td>\n",
              "    </tr>\n",
              "    <tr>\n",
              "      <th>3</th>\n",
              "      <td>4</td>\n",
              "      <td>2176577445</td>\n",
              "      <td>Mon Jun 15 04:14:20 PDT 2009</td>\n",
              "      <td>NO_QUERY</td>\n",
              "      <td>is_selene</td>\n",
              "      <td>NVM. Thank god for auto recovery. I didn't los...</td>\n",
              "    </tr>\n",
              "    <tr>\n",
              "      <th>4</th>\n",
              "      <td>4</td>\n",
              "      <td>1771234509</td>\n",
              "      <td>Mon May 11 23:38:42 PDT 2009</td>\n",
              "      <td>NO_QUERY</td>\n",
              "      <td>STARj0NES314</td>\n",
              "      <td>@IamSpectacular damn like dat ?  hahaha</td>\n",
              "    </tr>\n",
              "  </tbody>\n",
              "</table>\n",
              "</div>\n",
              "      <button class=\"colab-df-convert\" onclick=\"convertToInteractive('df-ca95513f-8822-4613-a7bd-d5b8877fa5d4')\"\n",
              "              title=\"Convert this dataframe to an interactive table.\"\n",
              "              style=\"display:none;\">\n",
              "        \n",
              "  <svg xmlns=\"http://www.w3.org/2000/svg\" height=\"24px\"viewBox=\"0 0 24 24\"\n",
              "       width=\"24px\">\n",
              "    <path d=\"M0 0h24v24H0V0z\" fill=\"none\"/>\n",
              "    <path d=\"M18.56 5.44l.94 2.06.94-2.06 2.06-.94-2.06-.94-.94-2.06-.94 2.06-2.06.94zm-11 1L8.5 8.5l.94-2.06 2.06-.94-2.06-.94L8.5 2.5l-.94 2.06-2.06.94zm10 10l.94 2.06.94-2.06 2.06-.94-2.06-.94-.94-2.06-.94 2.06-2.06.94z\"/><path d=\"M17.41 7.96l-1.37-1.37c-.4-.4-.92-.59-1.43-.59-.52 0-1.04.2-1.43.59L10.3 9.45l-7.72 7.72c-.78.78-.78 2.05 0 2.83L4 21.41c.39.39.9.59 1.41.59.51 0 1.02-.2 1.41-.59l7.78-7.78 2.81-2.81c.8-.78.8-2.07 0-2.86zM5.41 20L4 18.59l7.72-7.72 1.47 1.35L5.41 20z\"/>\n",
              "  </svg>\n",
              "      </button>\n",
              "      \n",
              "  <style>\n",
              "    .colab-df-container {\n",
              "      display:flex;\n",
              "      flex-wrap:wrap;\n",
              "      gap: 12px;\n",
              "    }\n",
              "\n",
              "    .colab-df-convert {\n",
              "      background-color: #E8F0FE;\n",
              "      border: none;\n",
              "      border-radius: 50%;\n",
              "      cursor: pointer;\n",
              "      display: none;\n",
              "      fill: #1967D2;\n",
              "      height: 32px;\n",
              "      padding: 0 0 0 0;\n",
              "      width: 32px;\n",
              "    }\n",
              "\n",
              "    .colab-df-convert:hover {\n",
              "      background-color: #E2EBFA;\n",
              "      box-shadow: 0px 1px 2px rgba(60, 64, 67, 0.3), 0px 1px 3px 1px rgba(60, 64, 67, 0.15);\n",
              "      fill: #174EA6;\n",
              "    }\n",
              "\n",
              "    [theme=dark] .colab-df-convert {\n",
              "      background-color: #3B4455;\n",
              "      fill: #D2E3FC;\n",
              "    }\n",
              "\n",
              "    [theme=dark] .colab-df-convert:hover {\n",
              "      background-color: #434B5C;\n",
              "      box-shadow: 0px 1px 3px 1px rgba(0, 0, 0, 0.15);\n",
              "      filter: drop-shadow(0px 1px 2px rgba(0, 0, 0, 0.3));\n",
              "      fill: #FFFFFF;\n",
              "    }\n",
              "  </style>\n",
              "\n",
              "      <script>\n",
              "        const buttonEl =\n",
              "          document.querySelector('#df-ca95513f-8822-4613-a7bd-d5b8877fa5d4 button.colab-df-convert');\n",
              "        buttonEl.style.display =\n",
              "          google.colab.kernel.accessAllowed ? 'block' : 'none';\n",
              "\n",
              "        async function convertToInteractive(key) {\n",
              "          const element = document.querySelector('#df-ca95513f-8822-4613-a7bd-d5b8877fa5d4');\n",
              "          const dataTable =\n",
              "            await google.colab.kernel.invokeFunction('convertToInteractive',\n",
              "                                                     [key], {});\n",
              "          if (!dataTable) return;\n",
              "\n",
              "          const docLinkHtml = 'Like what you see? Visit the ' +\n",
              "            '<a target=\"_blank\" href=https://colab.research.google.com/notebooks/data_table.ipynb>data table notebook</a>'\n",
              "            + ' to learn more about interactive tables.';\n",
              "          element.innerHTML = '';\n",
              "          dataTable['output_type'] = 'display_data';\n",
              "          await google.colab.output.renderOutput(dataTable, element);\n",
              "          const docLink = document.createElement('div');\n",
              "          docLink.innerHTML = docLinkHtml;\n",
              "          element.appendChild(docLink);\n",
              "        }\n",
              "      </script>\n",
              "    </div>\n",
              "  </div>\n",
              "  "
            ]
          },
          "metadata": {},
          "execution_count": 18
        }
      ],
      "source": [
        "train_data.head()"
      ]
    },
    {
      "cell_type": "code",
      "execution_count": 19,
      "metadata": {
        "id": "QO_KqjH1Autd",
        "colab": {
          "base_uri": "https://localhost:8080/"
        },
        "outputId": "e978ff1d-7f2a-42f9-8945-9a077b180796"
      },
      "outputs": [
        {
          "output_type": "execute_result",
          "data": {
            "text/plain": [
              "4    345223\n",
              "0    344777\n",
              "Name: polarity, dtype: int64"
            ]
          },
          "metadata": {},
          "execution_count": 19
        }
      ],
      "source": [
        "# Check our disribution of polarity\n",
        "# 4 means postive sentiment\n",
        "# 0 means negative sentiment\n",
        "train_data.polarity.value_counts()"
      ]
    },
    {
      "cell_type": "markdown",
      "metadata": {
        "id": "GCl65rFaAute"
      },
      "source": [
        "## 1.1) Brief Introduction to tf-idf (Follow)\n",
        "In information retreival [tf-idf](https://en.wikipedia.org/wiki/Tf%E2%80%93idf) (*term frequency – inverse document frequency*) is a metric that represents how \"important\" a word is to a corpus of text. While we won't go into detail about how it works, essentially all you need to know is that it balances two metrics.\n",
        "\n",
        "**Term Frequency**: Is exactly what one would expect, it is the the frequency at which a word is present in a corpus of text. A word with a higher term-frequency score appears much more in the corpus compared to one with a low term frequency.\n",
        "\n",
        "**Inverse Document Frequency**: If we only used term frequency, common words like \"the\" or \"and\" would have a high score, even though they don't give us that much information since they are present in every document. *Inverse Document Frequency* is a metric of how much \"information\" a word provides, and if a word is common or rare across all documents."
      ]
    },
    {
      "cell_type": "markdown",
      "metadata": {
        "id": "pH9OewOxAute"
      },
      "source": [
        "### tf-idf with sklearn"
      ]
    },
    {
      "cell_type": "code",
      "execution_count": 24,
      "metadata": {
        "id": "k5vxkd3vAutf",
        "colab": {
          "base_uri": "https://localhost:8080/"
        },
        "outputId": "638784e0-4b9e-45b4-b4e2-eaca84eadebe"
      },
      "outputs": [
        {
          "output_type": "stream",
          "name": "stdout",
          "text": [
            "(4, 9)\n",
            "  (0, 1)\t0.46979138557992045\n",
            "  (0, 2)\t0.5802858236844359\n",
            "  (0, 6)\t0.38408524091481483\n",
            "  (0, 3)\t0.38408524091481483\n",
            "  (0, 8)\t0.38408524091481483\n",
            "  (1, 5)\t0.5386476208856763\n",
            "  (1, 1)\t0.6876235979836938\n",
            "  (1, 6)\t0.281088674033753\n",
            "  (1, 3)\t0.281088674033753\n",
            "  (1, 8)\t0.281088674033753\n",
            "  (2, 4)\t0.511848512707169\n",
            "  (2, 7)\t0.511848512707169\n",
            "  (2, 0)\t0.511848512707169\n",
            "  (2, 6)\t0.267103787642168\n",
            "  (2, 3)\t0.267103787642168\n",
            "  (2, 8)\t0.267103787642168\n",
            "  (3, 1)\t0.46979138557992045\n",
            "  (3, 2)\t0.5802858236844359\n",
            "  (3, 6)\t0.38408524091481483\n",
            "  (3, 3)\t0.38408524091481483\n",
            "  (3, 8)\t0.38408524091481483\n",
            "['and' 'document' 'first' 'is' 'one' 'second' 'the' 'third' 'this']\n"
          ]
        }
      ],
      "source": [
        "from sklearn.feature_extraction.text import TfidfVectorizer\n",
        "corpus = [\n",
        "    'This is the first document.',\n",
        "    'This document is the second document.',\n",
        "    'And this is the third one.',\n",
        "    'Is this the first document?'\n",
        "]\n",
        "vectorizer = TfidfVectorizer()\n",
        "X = vectorizer.fit_transform(corpus)\n",
        "print(X.shape)\n",
        "print(X)\n",
        "\n",
        "feature_names = vectorizer.get_feature_names_out()\n",
        "print(feature_names)\n",
        "\n"
      ]
    },
    {
      "cell_type": "markdown",
      "metadata": {
        "id": "IGBQVT4mAutf"
      },
      "source": [
        "The tf-idf vectorizer's `fit_transform` method returns a NxM matrix. `N` is the number of documents (sentences) you have in your corpus, and `M` is the number of unique words in your corpus. Item `n`x`m` is how important word `m` is to document `n`."
      ]
    },
    {
      "cell_type": "code",
      "execution_count": 25,
      "metadata": {
        "scrolled": true,
        "id": "6TX-pN2sAutf",
        "colab": {
          "base_uri": "https://localhost:8080/"
        },
        "outputId": "1c3139f7-ce0d-4234-caae-a4cf17fb1f31"
      },
      "outputs": [
        {
          "output_type": "stream",
          "name": "stdout",
          "text": [
            "[[0.     0.4698 0.5803 0.3841 0.     0.     0.3841 0.     0.3841]\n",
            " [0.     0.6876 0.     0.2811 0.     0.5386 0.2811 0.     0.2811]\n",
            " [0.5118 0.     0.     0.2671 0.5118 0.     0.2671 0.5118 0.2671]\n",
            " [0.     0.4698 0.5803 0.3841 0.     0.     0.3841 0.     0.3841]]\n"
          ]
        }
      ],
      "source": [
        "# Printing out the tf-idf matrix\n",
        "np.set_printoptions(precision=4)\n",
        "print(X.toarray())"
      ]
    },
    {
      "cell_type": "code",
      "execution_count": 23,
      "metadata": {
        "id": "KQ5Z2ejIAutf",
        "colab": {
          "base_uri": "https://localhost:8080/"
        },
        "outputId": "8b189a2e-d2d3-40ab-e180-a03417368bcc"
      },
      "outputs": [
        {
          "output_type": "execute_result",
          "data": {
            "text/plain": [
              "<4x9 sparse matrix of type '<class 'numpy.float64'>'\n",
              "\twith 21 stored elements in Compressed Sparse Row format>"
            ]
          },
          "metadata": {},
          "execution_count": 23
        }
      ],
      "source": [
        "# Notice that if we try and print X directly, we get an overview saying that X is a \"sparse matrix\".\n",
        "# In very large corpi with many unique words, a lot of row entries are going to consist of majority zeros\n",
        "# Thus numpy saves theses in a special compressed sparse format\n",
        "X"
      ]
    },
    {
      "cell_type": "code",
      "execution_count": 6,
      "metadata": {
        "id": "h75dv9bQAutf",
        "colab": {
          "base_uri": "https://localhost:8080/"
        },
        "outputId": "06ad2996-c005-474c-a912-3dba6abc9192"
      },
      "outputs": [
        {
          "output_type": "execute_result",
          "data": {
            "text/plain": [
              "array(['and', 'document', 'first', 'is', 'one', 'second', 'the', 'third',\n",
              "       'this'], dtype=object)"
            ]
          },
          "metadata": {},
          "execution_count": 6
        }
      ],
      "source": [
        "# Next let's see what word each column corresponds to:\n",
        "vectorizer.get_feature_names_out()"
      ]
    },
    {
      "cell_type": "markdown",
      "metadata": {
        "id": "9zH6PsfCAutg"
      },
      "source": [
        "Let's look at the tf-idf vectors for two different documents.\n",
        "\n",
        "**Note**: `dic(zip(A, B))` in pyton makes a dictionary out of a list of keys (A) and values (B). This just makes it easier to view each term with it's corresponding TFIDF value."
      ]
    },
    {
      "cell_type": "code",
      "execution_count": 9,
      "metadata": {
        "id": "BUYX-UTKAutg",
        "colab": {
          "base_uri": "https://localhost:8080/"
        },
        "outputId": "8205e15a-0a53-47ec-b27b-f6399324b011"
      },
      "outputs": [
        {
          "output_type": "stream",
          "name": "stdout",
          "text": [
            "This is the first document.\n"
          ]
        },
        {
          "output_type": "execute_result",
          "data": {
            "text/plain": [
              "{'and': 0.0,\n",
              " 'document': 0.46979138557992045,\n",
              " 'first': 0.5802858236844359,\n",
              " 'is': 0.38408524091481483,\n",
              " 'one': 0.0,\n",
              " 'second': 0.0,\n",
              " 'the': 0.38408524091481483,\n",
              " 'third': 0.0,\n",
              " 'this': 0.38408524091481483}"
            ]
          },
          "metadata": {},
          "execution_count": 9
        }
      ],
      "source": [
        "print(corpus[0])\n",
        "dict(zip(vectorizer.get_feature_names_out(),X.toarray()[0]))"
      ]
    },
    {
      "cell_type": "code",
      "execution_count": 30,
      "metadata": {
        "id": "Ib4-XTBBAutg",
        "colab": {
          "base_uri": "https://localhost:8080/"
        },
        "outputId": "a463a828-0ff1-4785-bec2-05003043645a"
      },
      "outputs": [
        {
          "output_type": "stream",
          "name": "stdout",
          "text": [
            "After Rain following often the Sun, so don't be worry about a little bit rain. \n"
          ]
        },
        {
          "output_type": "execute_result",
          "data": {
            "text/plain": [
              "{'and': 0.0,\n",
              " 'document': 0.6876235979836938,\n",
              " 'first': 0.0,\n",
              " 'is': 0.281088674033753,\n",
              " 'one': 0.0,\n",
              " 'second': 0.5386476208856763,\n",
              " 'the': 0.281088674033753,\n",
              " 'third': 0.0,\n",
              " 'this': 0.281088674033753}"
            ]
          },
          "metadata": {},
          "execution_count": 30
        }
      ],
      "source": [
        "print(corpus[1])\n",
        "dict(zip(vectorizer.get_feature_names_out(),X.toarray()[1]))"
      ]
    },
    {
      "cell_type": "code",
      "source": [
        "import numpy as np\n",
        "from sklearn.feature_extraction.text import TfidfVectorizer\n",
        "from sklearn.neighbors import KNeighborsClassifier\n",
        "\n",
        "# Corpus and labels\n",
        "corpus = [\n",
        "    'This is the first document.',\n",
        "    'This document is the second document.',\n",
        "    'And this is the third one.',\n",
        "    'Is this the first document?'\n",
        "]\n",
        "\n",
        "labels = np.array([0, 1, 1, 0])  # Assumed labels for demonstration\n",
        "\n",
        "# Feature extraction using TfidfVectorizer\n",
        "vectorizer = TfidfVectorizer()\n",
        "X = vectorizer.fit_transform(corpus)\n",
        "\n",
        "# kNN classifier\n",
        "k = 3  # Number of neighbors to consider\n",
        "knn_classifier = KNeighborsClassifier(n_neighbors=k)\n",
        "knn_classifier.fit(X, labels)\n",
        "\n",
        "# Testing the classifier on a new document\n",
        "new_documents = [\n",
        "    'This is a new document.',\n",
        "    'Is this another first document?',\n",
        "    'This is the fourth document.'\n",
        "]\n",
        "\n",
        "new_X = vectorizer.transform(new_documents)\n",
        "predicted_labels = knn_classifier.predict(new_X)\n",
        "\n",
        "for i, doc in enumerate(new_documents):\n",
        "    print(f\"Predicted label for the new document {i + 1}: {predicted_labels[i]}\")\n",
        "\n"
      ],
      "metadata": {
        "colab": {
          "base_uri": "https://localhost:8080/"
        },
        "id": "bwgnq3_0S2bh",
        "outputId": "d22f0e04-0c99-4486-b28a-366cb02264d5"
      },
      "execution_count": 33,
      "outputs": [
        {
          "output_type": "stream",
          "name": "stdout",
          "text": [
            "Predicted label for the new document 1: 0\n",
            "Predicted label for the new document 2: 0\n",
            "Predicted label for the new document 3: 0\n"
          ]
        }
      ]
    },
    {
      "cell_type": "markdown",
      "metadata": {
        "id": "ZoIeE1iDAutg"
      },
      "source": [
        "Take a look at the tf-idf vectors for both of these sentences and answer the following questions:\n",
        "1. Why is the value for the term \"is\" higher in document1 than document2?\n",
        "2. Why is the value for the term \"document\" higher in document2 than document1?"
      ]
    },
    {
      "cell_type": "markdown",
      "metadata": {
        "id": "S_2Gy6ZLAutg"
      },
      "source": [
        "**Discuss Here**"
      ]
    },
    {
      "cell_type": "markdown",
      "metadata": {
        "id": "EGUOH1VfAutg"
      },
      "source": [
        "## 1.2) Model Design Discussion (Group)"
      ]
    },
    {
      "cell_type": "markdown",
      "metadata": {
        "id": "tToc6024Autg"
      },
      "source": [
        "Now that you're aware of what tf-idf scores are, **discuss with your group on how you could use tf-idf to build a KNN classifier**:\n",
        "1. If the data objects (rows) each represent a tweet, what would the features (columns) of the dataset be?\n",
        "2. How would you represent a single tweet as a vector of numbers (values for each of the features)? What would it mean to have a value of 0 for a given feature? What about 0.4?\n",
        "3. What would it mean for two sentences to be \"nearest neighbors\"?\n",
        "4. Would you expect two near neighbors to have similar sentiment? Why or why not?"
      ]
    },
    {
      "cell_type": "markdown",
      "metadata": {
        "id": "UMLsGMjVAutg"
      },
      "source": [
        "**Discuss Here**"
      ]
    },
    {
      "cell_type": "markdown",
      "metadata": {
        "id": "ZVutqym5Auth"
      },
      "source": [
        "## 1.3) tf-idf on Twitter (Follow)\n",
        "\n",
        "Now, before we build a classifier, let's just try and see what the nearest neighbors of a specified message are."
      ]
    },
    {
      "cell_type": "code",
      "execution_count": 34,
      "metadata": {
        "id": "kSv1n-mYAuth"
      },
      "outputs": [],
      "source": [
        "# Get our text\n",
        "corpus = train_data[\"text\"]"
      ]
    },
    {
      "cell_type": "code",
      "execution_count": 35,
      "metadata": {
        "id": "EGyjOsinAuth"
      },
      "outputs": [],
      "source": [
        "# Run our transform\n",
        "from sklearn.feature_extraction.text import TfidfVectorizer\n",
        "\n",
        "tf = TfidfVectorizer()\n",
        "tfidf_matrix = tf.fit_transform(corpus)"
      ]
    },
    {
      "cell_type": "code",
      "execution_count": 36,
      "metadata": {
        "id": "wEY4GTzfAuth",
        "colab": {
          "base_uri": "https://localhost:8080/"
        },
        "outputId": "d9c9e329-423e-493e-aded-0e9b29f1b198"
      },
      "outputs": [
        {
          "output_type": "execute_result",
          "data": {
            "text/plain": [
              "<690000x387729 sparse matrix of type '<class 'numpy.float64'>'\n",
              "\twith 8185910 stored elements in Compressed Sparse Row format>"
            ]
          },
          "metadata": {},
          "execution_count": 36
        }
      ],
      "source": [
        "# Let's check the size of our matrix\n",
        "tfidf_matrix"
      ]
    },
    {
      "cell_type": "markdown",
      "metadata": {
        "id": "ad42C8qdAuth"
      },
      "source": [
        "Now, let's fit the nearest neighbors tree!"
      ]
    },
    {
      "cell_type": "code",
      "execution_count": 82,
      "metadata": {
        "id": "W8keZVJRAuth"
      },
      "outputs": [],
      "source": [
        "# Fit your KNN model\n",
        "from sklearn.neighbors import NearestNeighbors\n",
        "nbrs = NearestNeighbors(n_neighbors=5).fit(tfidf_matrix)"
      ]
    },
    {
      "cell_type": "markdown",
      "metadata": {
        "id": "Iv-YIastAuth"
      },
      "source": [
        "We can now run custom sentences and see what sentences in the corpus are \"closest\" to what we put in. Try a few and see what shows up! In addition to this, you can change the `n_neighbors` param and get more queries."
      ]
    },
    {
      "cell_type": "code",
      "execution_count": 83,
      "metadata": {
        "id": "hBTvJ5p-Auth",
        "colab": {
          "base_uri": "https://localhost:8080/",
          "height": 215
        },
        "outputId": "9c0a1ac4-e7e7-470e-8f85-9cffaa76b8d6"
      },
      "outputs": [
        {
          "output_type": "execute_result",
          "data": {
            "text/plain": [
              "     polarity          id                          date     query  \\\n",
              "238         0  1558729932  Sun Apr 19 09:14:15 PDT 2009  NO_QUERY   \n",
              "196         4  1968620748  Fri May 29 21:50:01 PDT 2009  NO_QUERY   \n",
              "170         4  2002444846  Tue Jun 02 04:14:03 PDT 2009  NO_QUERY   \n",
              "235         4  2014580668  Wed Jun 03 02:00:28 PDT 2009  NO_QUERY   \n",
              "114         4  1751001341  Sat May 09 18:25:56 PDT 2009  NO_QUERY   \n",
              "\n",
              "             user                                               text  \n",
              "238       juasnua  @NnennaStella ah shit! I wish I could come  I'...  \n",
              "196    Esme_Marie  @DumbLittleBunny Oh I gotcha.  I asked, cause ...  \n",
              "170   johnreppion                    @cpwilsoniii thanks very much.   \n",
              "235   belikejoshx  @roflucy well as a matter of fact technically ...  \n",
              "114  DCHollobaugh  going to see star trak expecting noting but am...  "
            ],
            "text/html": [
              "\n",
              "  <div id=\"df-370eaae6-3270-4498-bae4-c645239e28bd\">\n",
              "    <div class=\"colab-df-container\">\n",
              "      <div>\n",
              "<style scoped>\n",
              "    .dataframe tbody tr th:only-of-type {\n",
              "        vertical-align: middle;\n",
              "    }\n",
              "\n",
              "    .dataframe tbody tr th {\n",
              "        vertical-align: top;\n",
              "    }\n",
              "\n",
              "    .dataframe thead th {\n",
              "        text-align: right;\n",
              "    }\n",
              "</style>\n",
              "<table border=\"1\" class=\"dataframe\">\n",
              "  <thead>\n",
              "    <tr style=\"text-align: right;\">\n",
              "      <th></th>\n",
              "      <th>polarity</th>\n",
              "      <th>id</th>\n",
              "      <th>date</th>\n",
              "      <th>query</th>\n",
              "      <th>user</th>\n",
              "      <th>text</th>\n",
              "    </tr>\n",
              "  </thead>\n",
              "  <tbody>\n",
              "    <tr>\n",
              "      <th>238</th>\n",
              "      <td>0</td>\n",
              "      <td>1558729932</td>\n",
              "      <td>Sun Apr 19 09:14:15 PDT 2009</td>\n",
              "      <td>NO_QUERY</td>\n",
              "      <td>juasnua</td>\n",
              "      <td>@NnennaStella ah shit! I wish I could come  I'...</td>\n",
              "    </tr>\n",
              "    <tr>\n",
              "      <th>196</th>\n",
              "      <td>4</td>\n",
              "      <td>1968620748</td>\n",
              "      <td>Fri May 29 21:50:01 PDT 2009</td>\n",
              "      <td>NO_QUERY</td>\n",
              "      <td>Esme_Marie</td>\n",
              "      <td>@DumbLittleBunny Oh I gotcha.  I asked, cause ...</td>\n",
              "    </tr>\n",
              "    <tr>\n",
              "      <th>170</th>\n",
              "      <td>4</td>\n",
              "      <td>2002444846</td>\n",
              "      <td>Tue Jun 02 04:14:03 PDT 2009</td>\n",
              "      <td>NO_QUERY</td>\n",
              "      <td>johnreppion</td>\n",
              "      <td>@cpwilsoniii thanks very much.</td>\n",
              "    </tr>\n",
              "    <tr>\n",
              "      <th>235</th>\n",
              "      <td>4</td>\n",
              "      <td>2014580668</td>\n",
              "      <td>Wed Jun 03 02:00:28 PDT 2009</td>\n",
              "      <td>NO_QUERY</td>\n",
              "      <td>belikejoshx</td>\n",
              "      <td>@roflucy well as a matter of fact technically ...</td>\n",
              "    </tr>\n",
              "    <tr>\n",
              "      <th>114</th>\n",
              "      <td>4</td>\n",
              "      <td>1751001341</td>\n",
              "      <td>Sat May 09 18:25:56 PDT 2009</td>\n",
              "      <td>NO_QUERY</td>\n",
              "      <td>DCHollobaugh</td>\n",
              "      <td>going to see star trak expecting noting but am...</td>\n",
              "    </tr>\n",
              "  </tbody>\n",
              "</table>\n",
              "</div>\n",
              "      <button class=\"colab-df-convert\" onclick=\"convertToInteractive('df-370eaae6-3270-4498-bae4-c645239e28bd')\"\n",
              "              title=\"Convert this dataframe to an interactive table.\"\n",
              "              style=\"display:none;\">\n",
              "        \n",
              "  <svg xmlns=\"http://www.w3.org/2000/svg\" height=\"24px\"viewBox=\"0 0 24 24\"\n",
              "       width=\"24px\">\n",
              "    <path d=\"M0 0h24v24H0V0z\" fill=\"none\"/>\n",
              "    <path d=\"M18.56 5.44l.94 2.06.94-2.06 2.06-.94-2.06-.94-.94-2.06-.94 2.06-2.06.94zm-11 1L8.5 8.5l.94-2.06 2.06-.94-2.06-.94L8.5 2.5l-.94 2.06-2.06.94zm10 10l.94 2.06.94-2.06 2.06-.94-2.06-.94-.94-2.06-.94 2.06-2.06.94z\"/><path d=\"M17.41 7.96l-1.37-1.37c-.4-.4-.92-.59-1.43-.59-.52 0-1.04.2-1.43.59L10.3 9.45l-7.72 7.72c-.78.78-.78 2.05 0 2.83L4 21.41c.39.39.9.59 1.41.59.51 0 1.02-.2 1.41-.59l7.78-7.78 2.81-2.81c.8-.78.8-2.07 0-2.86zM5.41 20L4 18.59l7.72-7.72 1.47 1.35L5.41 20z\"/>\n",
              "  </svg>\n",
              "      </button>\n",
              "      \n",
              "  <style>\n",
              "    .colab-df-container {\n",
              "      display:flex;\n",
              "      flex-wrap:wrap;\n",
              "      gap: 12px;\n",
              "    }\n",
              "\n",
              "    .colab-df-convert {\n",
              "      background-color: #E8F0FE;\n",
              "      border: none;\n",
              "      border-radius: 50%;\n",
              "      cursor: pointer;\n",
              "      display: none;\n",
              "      fill: #1967D2;\n",
              "      height: 32px;\n",
              "      padding: 0 0 0 0;\n",
              "      width: 32px;\n",
              "    }\n",
              "\n",
              "    .colab-df-convert:hover {\n",
              "      background-color: #E2EBFA;\n",
              "      box-shadow: 0px 1px 2px rgba(60, 64, 67, 0.3), 0px 1px 3px 1px rgba(60, 64, 67, 0.15);\n",
              "      fill: #174EA6;\n",
              "    }\n",
              "\n",
              "    [theme=dark] .colab-df-convert {\n",
              "      background-color: #3B4455;\n",
              "      fill: #D2E3FC;\n",
              "    }\n",
              "\n",
              "    [theme=dark] .colab-df-convert:hover {\n",
              "      background-color: #434B5C;\n",
              "      box-shadow: 0px 1px 3px 1px rgba(0, 0, 0, 0.15);\n",
              "      filter: drop-shadow(0px 1px 2px rgba(0, 0, 0, 0.3));\n",
              "      fill: #FFFFFF;\n",
              "    }\n",
              "  </style>\n",
              "\n",
              "      <script>\n",
              "        const buttonEl =\n",
              "          document.querySelector('#df-370eaae6-3270-4498-bae4-c645239e28bd button.colab-df-convert');\n",
              "        buttonEl.style.display =\n",
              "          google.colab.kernel.accessAllowed ? 'block' : 'none';\n",
              "\n",
              "        async function convertToInteractive(key) {\n",
              "          const element = document.querySelector('#df-370eaae6-3270-4498-bae4-c645239e28bd');\n",
              "          const dataTable =\n",
              "            await google.colab.kernel.invokeFunction('convertToInteractive',\n",
              "                                                     [key], {});\n",
              "          if (!dataTable) return;\n",
              "\n",
              "          const docLinkHtml = 'Like what you see? Visit the ' +\n",
              "            '<a target=\"_blank\" href=https://colab.research.google.com/notebooks/data_table.ipynb>data table notebook</a>'\n",
              "            + ' to learn more about interactive tables.';\n",
              "          element.innerHTML = '';\n",
              "          dataTable['output_type'] = 'display_data';\n",
              "          await google.colab.output.renderOutput(dataTable, element);\n",
              "          const docLink = document.createElement('div');\n",
              "          docLink.innerHTML = docLinkHtml;\n",
              "          element.appendChild(docLink);\n",
              "        }\n",
              "      </script>\n",
              "    </div>\n",
              "  </div>\n",
              "  "
            ]
          },
          "metadata": {},
          "execution_count": 83
        }
      ],
      "source": [
        "# Test a tweet!\n",
        "test_docs = [\"I sure love paying my taxes!\"]\n",
        "test_docs = tf.transform(test_docs)\n",
        "distances, indicies = nbrs.kneighbors(test_docs)\n",
        "train_data.iloc[indicies[0]]"
      ]
    },
    {
      "cell_type": "markdown",
      "metadata": {
        "id": "3kiWLKQPAuth"
      },
      "source": [
        "Now discuss together:\n",
        "1. Try manually classifying the tweet \"Wow, this is so cool!\" What are the classes of the neighbors? How would a 5-NN classifier classify that tweet?\n",
        "2. Can you think of a tweet that might fool this classifier? For example, how would it do with sarcasm?"
      ]
    },
    {
      "cell_type": "markdown",
      "metadata": {
        "id": "lI3um2MwAuth"
      },
      "source": [
        "## 1.4) Building and Evaluating the Classifier (Group)\n",
        "\n",
        "Now, your goal is to use the [KNeighborsClassifier](https://scikit-learn.org/stable/modules/generated/sklearn.neighbors.KNeighborsClassifier.html) in order to build an actual classifier for the sentiment dataset. Build the classifier with a `k=5`, and then evaluate it on the test data. Print the confusion matrix and a classification report, and interpret the evaluation metrics. Remember, a class label of `0` means a negative sentiment, and a class label of `4` means a positive sentiment."
      ]
    },
    {
      "cell_type": "code",
      "execution_count": 84,
      "metadata": {
        "id": "BiwWiR0RAuti"
      },
      "outputs": [],
      "source": [
        "test_data = pd.read_csv(\"/content/drive/MyDrive/AI ACADEMY/2 - Data Mining/6- Week 6/WKS6_Student/data/test_reduced.csv\")"
      ]
    },
    {
      "cell_type": "code",
      "execution_count": 85,
      "metadata": {
        "id": "NnnbkyLaAuti",
        "colab": {
          "base_uri": "https://localhost:8080/",
          "height": 215
        },
        "outputId": "12c72a70-e408-4a70-9d51-b3b66abc9c67"
      },
      "outputs": [
        {
          "output_type": "execute_result",
          "data": {
            "text/plain": [
              "   polarity  id                          date    query      user  \\\n",
              "0         4   3  Mon May 11 03:17:40 UTC 2009  kindle2    tpryan   \n",
              "1         4   4  Mon May 11 03:18:03 UTC 2009  kindle2    vcu451   \n",
              "2         4   5  Mon May 11 03:18:54 UTC 2009  kindle2    chadfu   \n",
              "3         4   6  Mon May 11 03:19:04 UTC 2009  kindle2     SIX15   \n",
              "4         4   7  Mon May 11 03:21:41 UTC 2009  kindle2  yamarama   \n",
              "\n",
              "                                                text  \n",
              "0  @stellargirl I loooooooovvvvvveee my Kindle2. ...  \n",
              "1  Reading my kindle2...  Love it... Lee childs i...  \n",
              "2  Ok, first assesment of the #kindle2 ...it fuck...  \n",
              "3  @kenburbary You'll love your Kindle2. I've had...  \n",
              "4  @mikefish  Fair enough. But i have the Kindle2...  "
            ],
            "text/html": [
              "\n",
              "  <div id=\"df-511cb013-90b1-4bb6-b580-c8c735571c4f\">\n",
              "    <div class=\"colab-df-container\">\n",
              "      <div>\n",
              "<style scoped>\n",
              "    .dataframe tbody tr th:only-of-type {\n",
              "        vertical-align: middle;\n",
              "    }\n",
              "\n",
              "    .dataframe tbody tr th {\n",
              "        vertical-align: top;\n",
              "    }\n",
              "\n",
              "    .dataframe thead th {\n",
              "        text-align: right;\n",
              "    }\n",
              "</style>\n",
              "<table border=\"1\" class=\"dataframe\">\n",
              "  <thead>\n",
              "    <tr style=\"text-align: right;\">\n",
              "      <th></th>\n",
              "      <th>polarity</th>\n",
              "      <th>id</th>\n",
              "      <th>date</th>\n",
              "      <th>query</th>\n",
              "      <th>user</th>\n",
              "      <th>text</th>\n",
              "    </tr>\n",
              "  </thead>\n",
              "  <tbody>\n",
              "    <tr>\n",
              "      <th>0</th>\n",
              "      <td>4</td>\n",
              "      <td>3</td>\n",
              "      <td>Mon May 11 03:17:40 UTC 2009</td>\n",
              "      <td>kindle2</td>\n",
              "      <td>tpryan</td>\n",
              "      <td>@stellargirl I loooooooovvvvvveee my Kindle2. ...</td>\n",
              "    </tr>\n",
              "    <tr>\n",
              "      <th>1</th>\n",
              "      <td>4</td>\n",
              "      <td>4</td>\n",
              "      <td>Mon May 11 03:18:03 UTC 2009</td>\n",
              "      <td>kindle2</td>\n",
              "      <td>vcu451</td>\n",
              "      <td>Reading my kindle2...  Love it... Lee childs i...</td>\n",
              "    </tr>\n",
              "    <tr>\n",
              "      <th>2</th>\n",
              "      <td>4</td>\n",
              "      <td>5</td>\n",
              "      <td>Mon May 11 03:18:54 UTC 2009</td>\n",
              "      <td>kindle2</td>\n",
              "      <td>chadfu</td>\n",
              "      <td>Ok, first assesment of the #kindle2 ...it fuck...</td>\n",
              "    </tr>\n",
              "    <tr>\n",
              "      <th>3</th>\n",
              "      <td>4</td>\n",
              "      <td>6</td>\n",
              "      <td>Mon May 11 03:19:04 UTC 2009</td>\n",
              "      <td>kindle2</td>\n",
              "      <td>SIX15</td>\n",
              "      <td>@kenburbary You'll love your Kindle2. I've had...</td>\n",
              "    </tr>\n",
              "    <tr>\n",
              "      <th>4</th>\n",
              "      <td>4</td>\n",
              "      <td>7</td>\n",
              "      <td>Mon May 11 03:21:41 UTC 2009</td>\n",
              "      <td>kindle2</td>\n",
              "      <td>yamarama</td>\n",
              "      <td>@mikefish  Fair enough. But i have the Kindle2...</td>\n",
              "    </tr>\n",
              "  </tbody>\n",
              "</table>\n",
              "</div>\n",
              "      <button class=\"colab-df-convert\" onclick=\"convertToInteractive('df-511cb013-90b1-4bb6-b580-c8c735571c4f')\"\n",
              "              title=\"Convert this dataframe to an interactive table.\"\n",
              "              style=\"display:none;\">\n",
              "        \n",
              "  <svg xmlns=\"http://www.w3.org/2000/svg\" height=\"24px\"viewBox=\"0 0 24 24\"\n",
              "       width=\"24px\">\n",
              "    <path d=\"M0 0h24v24H0V0z\" fill=\"none\"/>\n",
              "    <path d=\"M18.56 5.44l.94 2.06.94-2.06 2.06-.94-2.06-.94-.94-2.06-.94 2.06-2.06.94zm-11 1L8.5 8.5l.94-2.06 2.06-.94-2.06-.94L8.5 2.5l-.94 2.06-2.06.94zm10 10l.94 2.06.94-2.06 2.06-.94-2.06-.94-.94-2.06-.94 2.06-2.06.94z\"/><path d=\"M17.41 7.96l-1.37-1.37c-.4-.4-.92-.59-1.43-.59-.52 0-1.04.2-1.43.59L10.3 9.45l-7.72 7.72c-.78.78-.78 2.05 0 2.83L4 21.41c.39.39.9.59 1.41.59.51 0 1.02-.2 1.41-.59l7.78-7.78 2.81-2.81c.8-.78.8-2.07 0-2.86zM5.41 20L4 18.59l7.72-7.72 1.47 1.35L5.41 20z\"/>\n",
              "  </svg>\n",
              "      </button>\n",
              "      \n",
              "  <style>\n",
              "    .colab-df-container {\n",
              "      display:flex;\n",
              "      flex-wrap:wrap;\n",
              "      gap: 12px;\n",
              "    }\n",
              "\n",
              "    .colab-df-convert {\n",
              "      background-color: #E8F0FE;\n",
              "      border: none;\n",
              "      border-radius: 50%;\n",
              "      cursor: pointer;\n",
              "      display: none;\n",
              "      fill: #1967D2;\n",
              "      height: 32px;\n",
              "      padding: 0 0 0 0;\n",
              "      width: 32px;\n",
              "    }\n",
              "\n",
              "    .colab-df-convert:hover {\n",
              "      background-color: #E2EBFA;\n",
              "      box-shadow: 0px 1px 2px rgba(60, 64, 67, 0.3), 0px 1px 3px 1px rgba(60, 64, 67, 0.15);\n",
              "      fill: #174EA6;\n",
              "    }\n",
              "\n",
              "    [theme=dark] .colab-df-convert {\n",
              "      background-color: #3B4455;\n",
              "      fill: #D2E3FC;\n",
              "    }\n",
              "\n",
              "    [theme=dark] .colab-df-convert:hover {\n",
              "      background-color: #434B5C;\n",
              "      box-shadow: 0px 1px 3px 1px rgba(0, 0, 0, 0.15);\n",
              "      filter: drop-shadow(0px 1px 2px rgba(0, 0, 0, 0.3));\n",
              "      fill: #FFFFFF;\n",
              "    }\n",
              "  </style>\n",
              "\n",
              "      <script>\n",
              "        const buttonEl =\n",
              "          document.querySelector('#df-511cb013-90b1-4bb6-b580-c8c735571c4f button.colab-df-convert');\n",
              "        buttonEl.style.display =\n",
              "          google.colab.kernel.accessAllowed ? 'block' : 'none';\n",
              "\n",
              "        async function convertToInteractive(key) {\n",
              "          const element = document.querySelector('#df-511cb013-90b1-4bb6-b580-c8c735571c4f');\n",
              "          const dataTable =\n",
              "            await google.colab.kernel.invokeFunction('convertToInteractive',\n",
              "                                                     [key], {});\n",
              "          if (!dataTable) return;\n",
              "\n",
              "          const docLinkHtml = 'Like what you see? Visit the ' +\n",
              "            '<a target=\"_blank\" href=https://colab.research.google.com/notebooks/data_table.ipynb>data table notebook</a>'\n",
              "            + ' to learn more about interactive tables.';\n",
              "          element.innerHTML = '';\n",
              "          dataTable['output_type'] = 'display_data';\n",
              "          await google.colab.output.renderOutput(dataTable, element);\n",
              "          const docLink = document.createElement('div');\n",
              "          docLink.innerHTML = docLinkHtml;\n",
              "          element.appendChild(docLink);\n",
              "        }\n",
              "      </script>\n",
              "    </div>\n",
              "  </div>\n",
              "  "
            ]
          },
          "metadata": {},
          "execution_count": 85
        }
      ],
      "source": [
        "test_data.head()"
      ]
    },
    {
      "cell_type": "code",
      "execution_count": 86,
      "metadata": {
        "id": "xV65-q0AAuti"
      },
      "outputs": [],
      "source": [
        "from sklearn.neighbors import KNeighborsClassifier\n",
        "from sklearn.metrics import classification_report\n",
        "from sklearn.metrics import confusion_matrix\n",
        "\n",
        "train_data = pd.read_csv(\"/content/drive/MyDrive/AI ACADEMY/2 - Data Mining/6- Week 6/WKS6_Student/data/train_reduced.csv\")\n",
        "test_data = pd.read_csv(\"/content/drive/MyDrive/AI ACADEMY/2 - Data Mining/6- Week 6/WKS6_Student/data/test_reduced.csv\")"
      ]
    },
    {
      "cell_type": "code",
      "execution_count": 60,
      "metadata": {
        "id": "jA9mMLmGAuti"
      },
      "outputs": [],
      "source": [
        "# Get your X features (text) and y labels (polarity) for the test set\n",
        "\n",
        "\n",
        "X_train = train_data['text']\n",
        "y_train = train_data['polarity']\n",
        "X_test = test_data['text']\n",
        "y_test = test_data['polarity']\n",
        "\n",
        "\n",
        "# Transform the X features into TFIDF vectors\n",
        "\n",
        "vectorizer = TfidfVectorizer()\n",
        "X_train_tfidf = vectorizer.fit_transform(X_train)\n",
        "X_test_tfidf = vectorizer.transform(X_test)"
      ]
    },
    {
      "cell_type": "code",
      "execution_count": 75,
      "metadata": {
        "id": "pbgMo0vnAuti",
        "colab": {
          "base_uri": "https://localhost:8080/",
          "height": 75
        },
        "outputId": "697495db-ee76-4ae6-85a1-51221afc9d57"
      },
      "outputs": [
        {
          "output_type": "execute_result",
          "data": {
            "text/plain": [
              "KNeighborsClassifier()"
            ],
            "text/html": [
              "<style>#sk-container-id-4 {color: black;background-color: white;}#sk-container-id-4 pre{padding: 0;}#sk-container-id-4 div.sk-toggleable {background-color: white;}#sk-container-id-4 label.sk-toggleable__label {cursor: pointer;display: block;width: 100%;margin-bottom: 0;padding: 0.3em;box-sizing: border-box;text-align: center;}#sk-container-id-4 label.sk-toggleable__label-arrow:before {content: \"▸\";float: left;margin-right: 0.25em;color: #696969;}#sk-container-id-4 label.sk-toggleable__label-arrow:hover:before {color: black;}#sk-container-id-4 div.sk-estimator:hover label.sk-toggleable__label-arrow:before {color: black;}#sk-container-id-4 div.sk-toggleable__content {max-height: 0;max-width: 0;overflow: hidden;text-align: left;background-color: #f0f8ff;}#sk-container-id-4 div.sk-toggleable__content pre {margin: 0.2em;color: black;border-radius: 0.25em;background-color: #f0f8ff;}#sk-container-id-4 input.sk-toggleable__control:checked~div.sk-toggleable__content {max-height: 200px;max-width: 100%;overflow: auto;}#sk-container-id-4 input.sk-toggleable__control:checked~label.sk-toggleable__label-arrow:before {content: \"▾\";}#sk-container-id-4 div.sk-estimator input.sk-toggleable__control:checked~label.sk-toggleable__label {background-color: #d4ebff;}#sk-container-id-4 div.sk-label input.sk-toggleable__control:checked~label.sk-toggleable__label {background-color: #d4ebff;}#sk-container-id-4 input.sk-hidden--visually {border: 0;clip: rect(1px 1px 1px 1px);clip: rect(1px, 1px, 1px, 1px);height: 1px;margin: -1px;overflow: hidden;padding: 0;position: absolute;width: 1px;}#sk-container-id-4 div.sk-estimator {font-family: monospace;background-color: #f0f8ff;border: 1px dotted black;border-radius: 0.25em;box-sizing: border-box;margin-bottom: 0.5em;}#sk-container-id-4 div.sk-estimator:hover {background-color: #d4ebff;}#sk-container-id-4 div.sk-parallel-item::after {content: \"\";width: 100%;border-bottom: 1px solid gray;flex-grow: 1;}#sk-container-id-4 div.sk-label:hover label.sk-toggleable__label {background-color: #d4ebff;}#sk-container-id-4 div.sk-serial::before {content: \"\";position: absolute;border-left: 1px solid gray;box-sizing: border-box;top: 0;bottom: 0;left: 50%;z-index: 0;}#sk-container-id-4 div.sk-serial {display: flex;flex-direction: column;align-items: center;background-color: white;padding-right: 0.2em;padding-left: 0.2em;position: relative;}#sk-container-id-4 div.sk-item {position: relative;z-index: 1;}#sk-container-id-4 div.sk-parallel {display: flex;align-items: stretch;justify-content: center;background-color: white;position: relative;}#sk-container-id-4 div.sk-item::before, #sk-container-id-4 div.sk-parallel-item::before {content: \"\";position: absolute;border-left: 1px solid gray;box-sizing: border-box;top: 0;bottom: 0;left: 50%;z-index: -1;}#sk-container-id-4 div.sk-parallel-item {display: flex;flex-direction: column;z-index: 1;position: relative;background-color: white;}#sk-container-id-4 div.sk-parallel-item:first-child::after {align-self: flex-end;width: 50%;}#sk-container-id-4 div.sk-parallel-item:last-child::after {align-self: flex-start;width: 50%;}#sk-container-id-4 div.sk-parallel-item:only-child::after {width: 0;}#sk-container-id-4 div.sk-dashed-wrapped {border: 1px dashed gray;margin: 0 0.4em 0.5em 0.4em;box-sizing: border-box;padding-bottom: 0.4em;background-color: white;}#sk-container-id-4 div.sk-label label {font-family: monospace;font-weight: bold;display: inline-block;line-height: 1.2em;}#sk-container-id-4 div.sk-label-container {text-align: center;}#sk-container-id-4 div.sk-container {/* jupyter's `normalize.less` sets `[hidden] { display: none; }` but bootstrap.min.css set `[hidden] { display: none !important; }` so we also need the `!important` here to be able to override the default hidden behavior on the sphinx rendered scikit-learn.org. See: https://github.com/scikit-learn/scikit-learn/issues/21755 */display: inline-block !important;position: relative;}#sk-container-id-4 div.sk-text-repr-fallback {display: none;}</style><div id=\"sk-container-id-4\" class=\"sk-top-container\"><div class=\"sk-text-repr-fallback\"><pre>KNeighborsClassifier()</pre><b>In a Jupyter environment, please rerun this cell to show the HTML representation or trust the notebook. <br />On GitHub, the HTML representation is unable to render, please try loading this page with nbviewer.org.</b></div><div class=\"sk-container\" hidden><div class=\"sk-item\"><div class=\"sk-estimator sk-toggleable\"><input class=\"sk-toggleable__control sk-hidden--visually\" id=\"sk-estimator-id-6\" type=\"checkbox\" checked><label for=\"sk-estimator-id-6\" class=\"sk-toggleable__label sk-toggleable__label-arrow\">KNeighborsClassifier</label><div class=\"sk-toggleable__content\"><pre>KNeighborsClassifier()</pre></div></div></div></div></div>"
            ]
          },
          "metadata": {},
          "execution_count": 75
        }
      ],
      "source": [
        "# Train your KNN model with k=5\n",
        "knn_classifier = KNeighborsClassifier(n_neighbors=5)\n",
        "knn_classifier.fit(X_train_tfidf, y_train)"
      ]
    },
    {
      "cell_type": "code",
      "execution_count": 62,
      "metadata": {
        "id": "3TtDOrbEAuti",
        "colab": {
          "base_uri": "https://localhost:8080/"
        },
        "outputId": "9c827f1c-5a09-4b39-b941-8c7e7da7c1da"
      },
      "outputs": [
        {
          "output_type": "stream",
          "name": "stdout",
          "text": [
            "[[149  28]\n",
            " [ 18 164]]\n"
          ]
        }
      ],
      "source": [
        "# Print a confusion matrix of the predictions\n",
        "#y_pred = knn_classifier.predict(X_test_tfidf)\n",
        "from sklearn.feature_extraction.text import TfidfVectorizer\n",
        "X_test = test_data[\"text\"]\n",
        "y_test = test_data[\"polarity\"]\n",
        "\n",
        "\n",
        "tf = TfidfVectorizer()\n",
        "tfidf_matrix = tf.fit_transform(X_test)\n",
        "knn = KNeighborsClassifier(n_neighbors=5)\n",
        "knn.fit(tfidf_matrix, y_test)\n",
        "y_pred = knn.predict(tfidf_matrix)\n",
        "print(confusion_matrix(y_test, y_pred))"
      ]
    },
    {
      "cell_type": "code",
      "execution_count": 74,
      "metadata": {
        "id": "fvGR-Jl3Autm",
        "colab": {
          "base_uri": "https://localhost:8080/"
        },
        "outputId": "27cb6ee5-df99-48c7-ee3c-64eb6887d1f6"
      },
      "outputs": [
        {
          "output_type": "stream",
          "name": "stdout",
          "text": [
            "Confusion Matrix:\n",
            " [[149  28]\n",
            " [ 18 164]]\n",
            "\n",
            "Classification Report:\n",
            "               precision    recall  f1-score   support\n",
            "\n",
            "           0       0.89      0.84      0.87       177\n",
            "           4       0.85      0.90      0.88       182\n",
            "\n",
            "    accuracy                           0.87       359\n",
            "   macro avg       0.87      0.87      0.87       359\n",
            "weighted avg       0.87      0.87      0.87       359\n",
            "\n",
            "              precision    recall  f1-score   support\n",
            "\n",
            "           0       0.89      0.84      0.87       177\n",
            "           4       0.85      0.90      0.88       182\n",
            "\n",
            "    accuracy                           0.87       359\n",
            "   macro avg       0.87      0.87      0.87       359\n",
            "weighted avg       0.87      0.87      0.87       359\n",
            "\n"
          ]
        }
      ],
      "source": [
        "# Use the classification_report to report how well your model did\n",
        "print(\"Confusion Matrix:\\n\", confusion_matrix(y_test, y_pred))\n",
        "print(\"\\nClassification Report:\\n\", classification_report(y_test, y_pred))\n",
        "print(classification_report(y_test, y_pred))"
      ]
    },
    {
      "cell_type": "markdown",
      "metadata": {
        "id": "ZK9Z1lhIAutn"
      },
      "source": [
        "Now, discuss with your group about your results.\n",
        "1. How well do you think the classifier performed overall?\n",
        "2. Can you find some examples of test instances that were not accurately classified? Based on their nearest neighbots in the training dataset, why do you think they were hard to classify?\n",
        "3. We represented each tweet using TF-IDF, representing the frequency of individual words. What other types of features might be important for predicting the sentiment of a tweet?"
      ]
    },
    {
      "cell_type": "markdown",
      "metadata": {
        "id": "IJsL4xf0Autn"
      },
      "source": [
        "**Discuss your results here.** "
      ]
    },
    {
      "cell_type": "markdown",
      "metadata": {
        "id": "KnUbfhoRAutn"
      },
      "source": [
        "# 2) AdaBoost\n",
        "\n",
        "In this exercise, you'll be learning how to use [AdaBoost](https://scikit-learn.org/stable/modules/generated/sklearn.ensemble.AdaBoostClassifier.html), as well as vizualize decision boundries."
      ]
    },
    {
      "cell_type": "markdown",
      "metadata": {
        "id": "CHdNhc7vAutn"
      },
      "source": [
        "## 2.1) Using AdaBoost (Follow/Group)"
      ]
    },
    {
      "cell_type": "code",
      "execution_count": 63,
      "metadata": {
        "id": "kDXiHkUVAutn"
      },
      "outputs": [],
      "source": [
        "# Read the dataset and translate to pandas dataframe\n",
        "bc_sk = datasets.load_breast_cancer()\n",
        "# Note that the \"target\" attribute is malignant/benign, represented as an integer\n",
        "bc_data = pd.DataFrame(data= np.c_[bc_sk['data'], bc_sk['target']],columns= list(bc_sk['feature_names'])+['target'])"
      ]
    },
    {
      "cell_type": "code",
      "execution_count": 64,
      "metadata": {
        "id": "wzyX9cRyAutn"
      },
      "outputs": [],
      "source": [
        "from sklearn.model_selection import train_test_split\n",
        "# The fraction of data that will be test data\n",
        "test_data_fraction = 0.10\n",
        "\n",
        "bc_features = bc_data.iloc[:,0:-1]\n",
        "bc_labels = bc_data[\"target\"]\n",
        "X_train, X_test, Y_train, Y_test = train_test_split(bc_features, bc_labels, test_size=test_data_fraction,  random_state=random_seed)"
      ]
    },
    {
      "cell_type": "markdown",
      "metadata": {
        "id": "TaBnI1sgAutn"
      },
      "source": [
        "First, let's have a baseline non-boosted decision tree to compare against."
      ]
    },
    {
      "cell_type": "code",
      "execution_count": 65,
      "metadata": {
        "id": "PdTX5YWcAuto"
      },
      "outputs": [],
      "source": [
        "from sklearn.tree import DecisionTreeClassifier\n",
        "gini_tree = DecisionTreeClassifier(criterion = \"gini\", random_state=random_seed).fit(X=X_train.values, y=Y_train.values)"
      ]
    },
    {
      "cell_type": "code",
      "execution_count": 66,
      "metadata": {
        "id": "SFkfM1IiAuto"
      },
      "outputs": [],
      "source": [
        "from sklearn.metrics import classification_report\n",
        "from sklearn.metrics import confusion_matrix\n",
        "predicted_y = gini_tree.predict(X_test.values)"
      ]
    },
    {
      "cell_type": "code",
      "execution_count": 67,
      "metadata": {
        "id": "LGPA3a-xAuto",
        "colab": {
          "base_uri": "https://localhost:8080/"
        },
        "outputId": "161f7d7d-11d6-45e2-b63d-7f3dd5e3610d"
      },
      "outputs": [
        {
          "output_type": "stream",
          "name": "stdout",
          "text": [
            "              precision    recall  f1-score   support\n",
            "\n",
            "         0.0       0.85      0.85      0.85        20\n",
            "         1.0       0.92      0.92      0.92        37\n",
            "\n",
            "    accuracy                           0.89        57\n",
            "   macro avg       0.88      0.88      0.88        57\n",
            "weighted avg       0.89      0.89      0.89        57\n",
            "\n"
          ]
        }
      ],
      "source": [
        "print(classification_report(Y_test, predicted_y))"
      ]
    },
    {
      "cell_type": "code",
      "execution_count": 68,
      "metadata": {
        "id": "0lUP7XhxAuto",
        "colab": {
          "base_uri": "https://localhost:8080/"
        },
        "outputId": "84512419-2ad3-4b0d-9ad3-61a3659f3928"
      },
      "outputs": [
        {
          "output_type": "execute_result",
          "data": {
            "text/plain": [
              "array([[17,  3],\n",
              "       [ 3, 34]])"
            ]
          },
          "metadata": {},
          "execution_count": 68
        }
      ],
      "source": [
        "confusion_matrix(Y_test, predicted_y)"
      ]
    },
    {
      "cell_type": "code",
      "execution_count": 69,
      "metadata": {
        "id": "cgbbYr2mAuto"
      },
      "outputs": [],
      "source": [
        "from sklearn.ensemble import AdaBoostClassifier"
      ]
    },
    {
      "cell_type": "markdown",
      "metadata": {
        "id": "bs8PB8dxAuto"
      },
      "source": [
        "Now, let's get boosting. The default estimator for AdaBoost is a *decision stump*. (Remember: a decision stump is simply a decision tree with a height of 1)."
      ]
    },
    {
      "cell_type": "code",
      "execution_count": null,
      "metadata": {
        "id": "u-yU4nn0Auto"
      },
      "outputs": [],
      "source": [
        "# Fit the Adaboost classifier "
      ]
    },
    {
      "cell_type": "code",
      "execution_count": null,
      "metadata": {
        "id": "c9rAbafDAuto"
      },
      "outputs": [],
      "source": [
        "# predict the labels for the test data"
      ]
    },
    {
      "cell_type": "code",
      "execution_count": null,
      "metadata": {
        "id": "ugqg5xu0Auto"
      },
      "outputs": [],
      "source": [
        "# print its performance"
      ]
    },
    {
      "cell_type": "code",
      "execution_count": null,
      "metadata": {
        "id": "fwYiB4dnAuto"
      },
      "outputs": [],
      "source": [
        "# print the confusion matrix"
      ]
    },
    {
      "cell_type": "markdown",
      "metadata": {
        "id": "L11wCZqsAuto"
      },
      "source": [
        "As we can see, the boosted model performs better."
      ]
    },
    {
      "cell_type": "markdown",
      "metadata": {
        "id": "plWBsB0GAutp"
      },
      "source": [
        "Now, what happens when we put a more complex model into AdaBoost? Let's say, for this example, each component model is a full decision tree with no size limits.\n",
        "\n",
        "What do you expect will happen? Why? Discuss."
      ]
    },
    {
      "cell_type": "markdown",
      "metadata": {
        "id": "K8E6vtRXAutp"
      },
      "source": [
        "**Discuss here**"
      ]
    },
    {
      "cell_type": "code",
      "execution_count": 70,
      "metadata": {
        "id": "7403DslaAutp",
        "colab": {
          "base_uri": "https://localhost:8080/",
          "height": 118
        },
        "outputId": "cdcd54d5-2c7f-4f69-c94c-aaa91d318c5a"
      },
      "outputs": [
        {
          "output_type": "execute_result",
          "data": {
            "text/plain": [
              "AdaBoostClassifier(base_estimator=DecisionTreeClassifier(random_state=25),\n",
              "                   n_estimators=20, random_state=25)"
            ],
            "text/html": [
              "<style>#sk-container-id-3 {color: black;background-color: white;}#sk-container-id-3 pre{padding: 0;}#sk-container-id-3 div.sk-toggleable {background-color: white;}#sk-container-id-3 label.sk-toggleable__label {cursor: pointer;display: block;width: 100%;margin-bottom: 0;padding: 0.3em;box-sizing: border-box;text-align: center;}#sk-container-id-3 label.sk-toggleable__label-arrow:before {content: \"▸\";float: left;margin-right: 0.25em;color: #696969;}#sk-container-id-3 label.sk-toggleable__label-arrow:hover:before {color: black;}#sk-container-id-3 div.sk-estimator:hover label.sk-toggleable__label-arrow:before {color: black;}#sk-container-id-3 div.sk-toggleable__content {max-height: 0;max-width: 0;overflow: hidden;text-align: left;background-color: #f0f8ff;}#sk-container-id-3 div.sk-toggleable__content pre {margin: 0.2em;color: black;border-radius: 0.25em;background-color: #f0f8ff;}#sk-container-id-3 input.sk-toggleable__control:checked~div.sk-toggleable__content {max-height: 200px;max-width: 100%;overflow: auto;}#sk-container-id-3 input.sk-toggleable__control:checked~label.sk-toggleable__label-arrow:before {content: \"▾\";}#sk-container-id-3 div.sk-estimator input.sk-toggleable__control:checked~label.sk-toggleable__label {background-color: #d4ebff;}#sk-container-id-3 div.sk-label input.sk-toggleable__control:checked~label.sk-toggleable__label {background-color: #d4ebff;}#sk-container-id-3 input.sk-hidden--visually {border: 0;clip: rect(1px 1px 1px 1px);clip: rect(1px, 1px, 1px, 1px);height: 1px;margin: -1px;overflow: hidden;padding: 0;position: absolute;width: 1px;}#sk-container-id-3 div.sk-estimator {font-family: monospace;background-color: #f0f8ff;border: 1px dotted black;border-radius: 0.25em;box-sizing: border-box;margin-bottom: 0.5em;}#sk-container-id-3 div.sk-estimator:hover {background-color: #d4ebff;}#sk-container-id-3 div.sk-parallel-item::after {content: \"\";width: 100%;border-bottom: 1px solid gray;flex-grow: 1;}#sk-container-id-3 div.sk-label:hover label.sk-toggleable__label {background-color: #d4ebff;}#sk-container-id-3 div.sk-serial::before {content: \"\";position: absolute;border-left: 1px solid gray;box-sizing: border-box;top: 0;bottom: 0;left: 50%;z-index: 0;}#sk-container-id-3 div.sk-serial {display: flex;flex-direction: column;align-items: center;background-color: white;padding-right: 0.2em;padding-left: 0.2em;position: relative;}#sk-container-id-3 div.sk-item {position: relative;z-index: 1;}#sk-container-id-3 div.sk-parallel {display: flex;align-items: stretch;justify-content: center;background-color: white;position: relative;}#sk-container-id-3 div.sk-item::before, #sk-container-id-3 div.sk-parallel-item::before {content: \"\";position: absolute;border-left: 1px solid gray;box-sizing: border-box;top: 0;bottom: 0;left: 50%;z-index: -1;}#sk-container-id-3 div.sk-parallel-item {display: flex;flex-direction: column;z-index: 1;position: relative;background-color: white;}#sk-container-id-3 div.sk-parallel-item:first-child::after {align-self: flex-end;width: 50%;}#sk-container-id-3 div.sk-parallel-item:last-child::after {align-self: flex-start;width: 50%;}#sk-container-id-3 div.sk-parallel-item:only-child::after {width: 0;}#sk-container-id-3 div.sk-dashed-wrapped {border: 1px dashed gray;margin: 0 0.4em 0.5em 0.4em;box-sizing: border-box;padding-bottom: 0.4em;background-color: white;}#sk-container-id-3 div.sk-label label {font-family: monospace;font-weight: bold;display: inline-block;line-height: 1.2em;}#sk-container-id-3 div.sk-label-container {text-align: center;}#sk-container-id-3 div.sk-container {/* jupyter's `normalize.less` sets `[hidden] { display: none; }` but bootstrap.min.css set `[hidden] { display: none !important; }` so we also need the `!important` here to be able to override the default hidden behavior on the sphinx rendered scikit-learn.org. See: https://github.com/scikit-learn/scikit-learn/issues/21755 */display: inline-block !important;position: relative;}#sk-container-id-3 div.sk-text-repr-fallback {display: none;}</style><div id=\"sk-container-id-3\" class=\"sk-top-container\"><div class=\"sk-text-repr-fallback\"><pre>AdaBoostClassifier(base_estimator=DecisionTreeClassifier(random_state=25),\n",
              "                   n_estimators=20, random_state=25)</pre><b>In a Jupyter environment, please rerun this cell to show the HTML representation or trust the notebook. <br />On GitHub, the HTML representation is unable to render, please try loading this page with nbviewer.org.</b></div><div class=\"sk-container\" hidden><div class=\"sk-item sk-dashed-wrapped\"><div class=\"sk-label-container\"><div class=\"sk-label sk-toggleable\"><input class=\"sk-toggleable__control sk-hidden--visually\" id=\"sk-estimator-id-3\" type=\"checkbox\" ><label for=\"sk-estimator-id-3\" class=\"sk-toggleable__label sk-toggleable__label-arrow\">AdaBoostClassifier</label><div class=\"sk-toggleable__content\"><pre>AdaBoostClassifier(base_estimator=DecisionTreeClassifier(random_state=25),\n",
              "                   n_estimators=20, random_state=25)</pre></div></div></div><div class=\"sk-parallel\"><div class=\"sk-parallel-item\"><div class=\"sk-item\"><div class=\"sk-label-container\"><div class=\"sk-label sk-toggleable\"><input class=\"sk-toggleable__control sk-hidden--visually\" id=\"sk-estimator-id-4\" type=\"checkbox\" ><label for=\"sk-estimator-id-4\" class=\"sk-toggleable__label sk-toggleable__label-arrow\">base_estimator: DecisionTreeClassifier</label><div class=\"sk-toggleable__content\"><pre>DecisionTreeClassifier(random_state=25)</pre></div></div></div><div class=\"sk-serial\"><div class=\"sk-item\"><div class=\"sk-estimator sk-toggleable\"><input class=\"sk-toggleable__control sk-hidden--visually\" id=\"sk-estimator-id-5\" type=\"checkbox\" ><label for=\"sk-estimator-id-5\" class=\"sk-toggleable__label sk-toggleable__label-arrow\">DecisionTreeClassifier</label><div class=\"sk-toggleable__content\"><pre>DecisionTreeClassifier(random_state=25)</pre></div></div></div></div></div></div></div></div></div></div>"
            ]
          },
          "metadata": {},
          "execution_count": 70
        }
      ],
      "source": [
        "# Try training a boosted model with full decision trees (no pruning)\n",
        "gini_tree = DecisionTreeClassifier(criterion = \"gini\", random_state=random_seed)\n",
        "bdt = AdaBoostClassifier(base_estimator=gini_tree,n_estimators=20,random_state=random_seed)\n",
        "bdt.fit(X_train,Y_train)"
      ]
    },
    {
      "cell_type": "code",
      "execution_count": 71,
      "metadata": {
        "id": "guTwIM95Autp"
      },
      "outputs": [],
      "source": [
        "predicted_y = bdt.predict(X_test)"
      ]
    },
    {
      "cell_type": "code",
      "execution_count": 72,
      "metadata": {
        "id": "7SH1nSeFAutp",
        "colab": {
          "base_uri": "https://localhost:8080/"
        },
        "outputId": "3d837b1e-90e7-42f5-ec75-6bbcffc6c865"
      },
      "outputs": [
        {
          "output_type": "stream",
          "name": "stdout",
          "text": [
            "              precision    recall  f1-score   support\n",
            "\n",
            "         0.0       0.85      0.85      0.85        20\n",
            "         1.0       0.92      0.92      0.92        37\n",
            "\n",
            "    accuracy                           0.89        57\n",
            "   macro avg       0.88      0.88      0.88        57\n",
            "weighted avg       0.89      0.89      0.89        57\n",
            "\n"
          ]
        }
      ],
      "source": [
        "print(classification_report(Y_test, predicted_y))"
      ]
    },
    {
      "cell_type": "code",
      "execution_count": 73,
      "metadata": {
        "id": "SXvlza7qAutp",
        "colab": {
          "base_uri": "https://localhost:8080/"
        },
        "outputId": "9221c36a-132c-4e1f-e228-a7aadbe89934"
      },
      "outputs": [
        {
          "output_type": "execute_result",
          "data": {
            "text/plain": [
              "array([[17,  3],\n",
              "       [ 3, 34]])"
            ]
          },
          "metadata": {},
          "execution_count": 73
        }
      ],
      "source": [
        "confusion_matrix(Y_test, predicted_y)"
      ]
    },
    {
      "cell_type": "markdown",
      "metadata": {
        "id": "XNiXV7-jAutp"
      },
      "source": [
        "Were the results what you expected? If they weren't, why not? Discuss."
      ]
    },
    {
      "cell_type": "markdown",
      "metadata": {
        "id": "7rVhsinnAutp"
      },
      "source": [
        "**Discuss Here**"
      ]
    },
    {
      "cell_type": "markdown",
      "metadata": {
        "id": "cIeZXDHQAutp"
      },
      "source": [
        "## 2.2) Visualizing Decision Boundries (Group)\n",
        "\n",
        "Now, we're going to peek under the hood and see the decision boundries of ensemble learners."
      ]
    },
    {
      "cell_type": "code",
      "execution_count": 76,
      "metadata": {
        "id": "T04TJ0QQAutp"
      },
      "outputs": [],
      "source": [
        "import math\n",
        "from sklearn.datasets import make_moons"
      ]
    },
    {
      "cell_type": "code",
      "execution_count": 77,
      "metadata": {
        "scrolled": false,
        "id": "GdjGGUnnAutp",
        "colab": {
          "base_uri": "https://localhost:8080/",
          "height": 447
        },
        "outputId": "c82a5585-5295-4702-e994-8d695809c24b"
      },
      "outputs": [
        {
          "output_type": "execute_result",
          "data": {
            "text/plain": [
              "<matplotlib.collections.PathCollection at 0x7f0fd6b0d930>"
            ]
          },
          "metadata": {},
          "execution_count": 77
        },
        {
          "output_type": "display_data",
          "data": {
            "text/plain": [
              "<Figure size 640x480 with 1 Axes>"
            ],
            "image/png": "[encoded data removed]"
          },
          "metadata": {}
        }
      ],
      "source": [
        "# A nice noisy dataset that's not linearly separable\n",
        "X,y = make_moons(300, noise=0.13,random_state = random_seed)\n",
        "colors = {0:'red',1:\"blue\"}\n",
        "plt.scatter(X[:,0],X[:,1],c=np.vectorize(colors.get)(y))"
      ]
    },
    {
      "cell_type": "markdown",
      "metadata": {
        "id": "Ob9UPP5sAutp"
      },
      "source": [
        "You're given some code to calculate Adaboost by hand below, but for it to work, you need to complete the following helper functions.\n",
        "\n",
        "In `calculate_alpha`, you should calculate alpha for the round, based on the classifier's predictions and the weights of that round. The basic steps are:\n",
        "1. Calculate the **weighted** error $\\epsilon$ for the round by comparing those predictions to y. Remember, the error is the sum of the weights of misclassified instances.\n",
        "2. Calculate alpha using the following formula:\n",
        "\n",
        "$$\\alpha = 0.5*ln(\\frac{1 - \\epsilon}{\\epsilon})$$"
      ]
    },
    {
      "cell_type": "code",
      "execution_count": 78,
      "metadata": {
        "id": "UOdzSPNLAutp"
      },
      "outputs": [],
      "source": [
        "def calculate_alpha(predictions, weights, y):\n",
        "    \"\"\"\n",
        "    Inputs:\n",
        "        predictions: the predictions (0 or 1) of the classifier in this round.\n",
        "        weights: the weights of each instance at the end of last round\n",
        "        y: the class labels (0 or 1) for the instances\n",
        "    Output: the alpha value for this round\n",
        "    \"\"\"\n",
        "    # BEGIN SOLUTION\n",
        "    return 0"
      ]
    },
    {
      "cell_type": "code",
      "execution_count": 79,
      "metadata": {
        "id": "fmgWGCEbAutp",
        "colab": {
          "base_uri": "https://localhost:8080/",
          "height": 391
        },
        "outputId": "36f75e88-4caf-41f9-e868-4405466324e9"
      },
      "outputs": [
        {
          "output_type": "error",
          "ename": "AssertionError",
          "evalue": "ignored",
          "traceback": [
            "\u001b[0;31m---------------------------------------------------------------------------\u001b[0m",
            "\u001b[0;31mAssertionError\u001b[0m                            Traceback (most recent call last)",
            "\u001b[0;32m<ipython-input-79-a75be98e0391>\u001b[0m in \u001b[0;36m<cell line: 7>\u001b[0;34m()\u001b[0m\n\u001b[1;32m      5\u001b[0m \u001b[0;31m# Alpha should be ~0.84\u001b[0m\u001b[0;34m\u001b[0m\u001b[0;34m\u001b[0m\u001b[0m\n\u001b[1;32m      6\u001b[0m \u001b[0malpha\u001b[0m \u001b[0;34m=\u001b[0m \u001b[0mcalculate_alpha\u001b[0m\u001b[0;34m(\u001b[0m\u001b[0mpredictions\u001b[0m\u001b[0;34m,\u001b[0m \u001b[0mweights\u001b[0m\u001b[0;34m,\u001b[0m \u001b[0my\u001b[0m\u001b[0;34m)\u001b[0m\u001b[0;34m\u001b[0m\u001b[0;34m\u001b[0m\u001b[0m\n\u001b[0;32m----> 7\u001b[0;31m \u001b[0mnp\u001b[0m\u001b[0;34m.\u001b[0m\u001b[0mtesting\u001b[0m\u001b[0;34m.\u001b[0m\u001b[0massert_almost_equal\u001b[0m\u001b[0;34m(\u001b[0m\u001b[0malpha\u001b[0m\u001b[0;34m,\u001b[0m \u001b[0;36m0.8416209435087314\u001b[0m\u001b[0;34m)\u001b[0m\u001b[0;34m\u001b[0m\u001b[0;34m\u001b[0m\u001b[0m\n\u001b[0m\u001b[1;32m      8\u001b[0m \u001b[0malpha\u001b[0m\u001b[0;34m\u001b[0m\u001b[0;34m\u001b[0m\u001b[0m\n",
            "\u001b[0;32m/usr/local/lib/python3.10/dist-packages/numpy/testing/_private/utils.py\u001b[0m in \u001b[0;36massert_almost_equal\u001b[0;34m(actual, desired, decimal, err_msg, verbose)\u001b[0m\n\u001b[1;32m    597\u001b[0m         \u001b[0;32mpass\u001b[0m\u001b[0;34m\u001b[0m\u001b[0;34m\u001b[0m\u001b[0m\n\u001b[1;32m    598\u001b[0m     \u001b[0;32mif\u001b[0m \u001b[0mabs\u001b[0m\u001b[0;34m(\u001b[0m\u001b[0mdesired\u001b[0m \u001b[0;34m-\u001b[0m \u001b[0mactual\u001b[0m\u001b[0;34m)\u001b[0m \u001b[0;34m>=\u001b[0m \u001b[0;36m1.5\u001b[0m \u001b[0;34m*\u001b[0m \u001b[0;36m10.0\u001b[0m\u001b[0;34m**\u001b[0m\u001b[0;34m(\u001b[0m\u001b[0;34m-\u001b[0m\u001b[0mdecimal\u001b[0m\u001b[0;34m)\u001b[0m\u001b[0;34m:\u001b[0m\u001b[0;34m\u001b[0m\u001b[0;34m\u001b[0m\u001b[0m\n\u001b[0;32m--> 599\u001b[0;31m         \u001b[0;32mraise\u001b[0m \u001b[0mAssertionError\u001b[0m\u001b[0;34m(\u001b[0m\u001b[0m_build_err_msg\u001b[0m\u001b[0;34m(\u001b[0m\u001b[0;34m)\u001b[0m\u001b[0;34m)\u001b[0m\u001b[0;34m\u001b[0m\u001b[0;34m\u001b[0m\u001b[0m\n\u001b[0m\u001b[1;32m    600\u001b[0m \u001b[0;34m\u001b[0m\u001b[0m\n\u001b[1;32m    601\u001b[0m \u001b[0;34m\u001b[0m\u001b[0m\n",
            "\u001b[0;31mAssertionError\u001b[0m: \nArrays are not almost equal to 7 decimals\n ACTUAL: 0\n DESIRED: 0.8416209435087314"
          ]
        }
      ],
      "source": [
        "# To test calculate_alpha, we need to make a decision tree and some starting weights\n",
        "dt = DecisionTreeClassifier(criterion = \"gini\", max_depth=1, random_state=123).fit(X, y)\n",
        "predictions = dt.predict(X)\n",
        "weights = np.repeat(1 / len(X), len(X))\n",
        "# Alpha should be ~0.84\n",
        "alpha = calculate_alpha(predictions, weights, y)\n",
        "np.testing.assert_almost_equal(alpha, 0.8416209435087314)\n",
        "alpha"
      ]
    },
    {
      "cell_type": "markdown",
      "metadata": {
        "id": "LHEW8Nn6Autq"
      },
      "source": [
        "Next you need to write a function that will update the weights for the adaboost classifier based on the alpha value. Remember:\n",
        "* Correctly classified instances have their weight decreased.\n",
        "* Incorrectly classified instances have their weight increased.\n",
        "\n",
        "The amount by which the weight changes is $e^\\alpha$.\n",
        "\n",
        "**Note**: You do not need to normalize the weights to sum to 1 - the code below will do that for you."
      ]
    },
    {
      "cell_type": "code",
      "execution_count": null,
      "metadata": {
        "id": "L-JPil5nAutq"
      },
      "outputs": [],
      "source": [
        "import math\n",
        "def update_weights(predictions, weights, y, alpha):\n",
        "    \"\"\"\n",
        "    Inputs:\n",
        "        predictions: the predictions (0 or 1) of the classifier in this round.\n",
        "        weights: the weights at the end of the previous round for each instance\n",
        "        y: the class labels (0 or 1) for the instances\n",
        "        alpha: the alpha value for this round\n",
        "    Output: an array of updated weights for this round\n",
        "    \"\"\"\n",
        "    # BEGIN SOLUTION\n",
        "    return weights"
      ]
    },
    {
      "cell_type": "code",
      "execution_count": null,
      "metadata": {
        "id": "Zh1iEDKhAutq"
      },
      "outputs": [],
      "source": [
        "weights = np.repeat(1 / len(X), len(X))\n",
        "new_weights = update_weights(predictions, weights, y, alpha) \n",
        "alpha = 0.8416209435087314\n",
        "print(new_weights)\n",
        "np.testing.assert_almost_equal(max(new_weights), 1/300*math.exp(alpha))\n",
        "np.testing.assert_almost_equal(min(new_weights), 1/300/math.exp(alpha))"
      ]
    },
    {
      "cell_type": "markdown",
      "metadata": {
        "id": "D-9OCFu5Autq"
      },
      "source": [
        "Here's our code for Adaboost. You don't have to modify it, just finish the functions above.\n",
        "\n",
        "Why are we implementing it by hand? This way we can keep track of which samples were chosen each round to visualize them.\n",
        "\n",
        "When you run the following code, you can see the alpha values for each round, changing as the weights, and therefore the samples, change."
      ]
    },
    {
      "cell_type": "code",
      "execution_count": null,
      "metadata": {
        "scrolled": true,
        "id": "EfpqrdvlAutq"
      },
      "outputs": [],
      "source": [
        "# Let's do 20 rounds of adaboost\n",
        "rounds = 20\n",
        "# N is the length of training data\n",
        "N = len(X)\n",
        "# Each boostrapped sample will b size N/5\n",
        "sample_size = N // 5\n",
        "\n",
        "# Each round, keep track of:\n",
        "# Which instances (indices) were samples\n",
        "sample_indices = []\n",
        "# The classifier built on that sample\n",
        "dtrees = []\n",
        "# The alpha value for each that round\n",
        "alphas = []\n",
        "\n",
        "# Start our weights off each as 1/N\n",
        "weights = np.repeat(1 / N, N)\n",
        "\n",
        "for i in range(rounds):\n",
        "    indices = np.random.choice(range(N), sample_size, replace=True, p=weights)\n",
        "    sample_X = X[indices,:]\n",
        "    sample_y = y[indices]\n",
        "    # Train a simple decision tree on the sample\n",
        "    dt = DecisionTreeClassifier(criterion = \"gini\", max_depth=1).fit(sample_X, sample_y)\n",
        "    predictions = dt.predict(X)\n",
        "    \n",
        "    # Calculate alpha\n",
        "    alpha = calculate_alpha(predictions, weights, y)\n",
        "    print(f'Round {i} Alpha: {alpha}')\n",
        "    \n",
        "    # Update weights\n",
        "    weights = update_weights(predictions, weights, y, alpha)\n",
        "    weights /= sum(weights)\n",
        "    \n",
        "    sample_indices.append(indices)\n",
        "    alphas.append(alpha)\n",
        "    dtrees.append(dt)"
      ]
    },
    {
      "cell_type": "code",
      "execution_count": null,
      "metadata": {
        "id": "TwHiOOfsAutq"
      },
      "outputs": [],
      "source": [
        "# This function makes predictions for a given list of X features by taking the weighted sum of\n",
        "# its constituent classifiers' predictions.\n",
        "def boosting_predict(X_test):\n",
        "    return np.mean([(dtrees[i].predict(X_test) - 0.5) * alphas[i] for i in range(len(dtrees))], axis=0) + 0.5"
      ]
    },
    {
      "cell_type": "code",
      "execution_count": null,
      "metadata": {
        "id": "61Kf60XCAutq"
      },
      "outputs": [],
      "source": [
        "# Based on the image above, how should points (0, 0) and (1, 1) be classified?\n",
        "# Note that the output is continuous: > 0.5 means more likely to be 1.\n",
        "boosting_predict([[0, 0], [0, 1]])"
      ]
    },
    {
      "cell_type": "markdown",
      "metadata": {
        "id": "TqnYnrg3Autq"
      },
      "source": [
        "The following code will plot the predictions from individual rounds of adaboost. Note:\n",
        "* The background color indicates the prediction.\n",
        "* The faded dots were *not* sampled in this round (e.g. because of their low weights)."
      ]
    },
    {
      "cell_type": "code",
      "execution_count": null,
      "metadata": {
        "id": "jnNjoSB_Autq"
      },
      "outputs": [],
      "source": [
        "# Here is a provided method that will plot the decision boundries of each stump\n",
        "\n",
        "def plot_predictions(pred_function, sample_indices, subplot=plt, continuous=False):\n",
        "    plot_colors = \"br\"\n",
        "    plot_step = 0.02\n",
        "    class_names = \"AB\"\n",
        "\n",
        "    #\n",
        "\n",
        "    # Plot the decision boundaries\n",
        "    x_min, x_max = X[:, 0].min() - 1, X[:, 0].max() + 1\n",
        "    y_min, y_max = X[:, 1].min() - 1, X[:, 1].max() + 1\n",
        "    xx, yy = np.meshgrid(np.arange(x_min, x_max, plot_step),\n",
        "                         np.arange(y_min, y_max, plot_step))\n",
        "\n",
        "    Z = pred_function(np.c_[xx.ravel(), yy.ravel()])\n",
        "    Z = Z.reshape(xx.shape)\n",
        "    if not continuous:\n",
        "        Z = np.round(Z)\n",
        "        cs = subplot.contourf(xx, yy, Z, cmap=plt.cm.Paired)\n",
        "    else:\n",
        "        cs = subplot.contourf(xx, yy, Z)\n",
        "\n",
        "    # Plot the training points\n",
        "    for i, n, c in zip(range(2), class_names, plot_colors):\n",
        "        idx = np.where(y == i)\n",
        "        in_sample_idx = np.intersect1d(idx, sample_indices)\n",
        "        subplot.scatter(X[in_sample_idx, 0], X[in_sample_idx, 1],\n",
        "                    c=c, cmap=plt.cm.Paired,\n",
        "                    s=20, edgecolor='k',\n",
        "                    label=\"Class %s (Sampled)\" % n)\n",
        "        out_sample_idx = np.setdiff1d(idx, in_sample_idx)\n",
        "        subplot.scatter(X[out_sample_idx, 0], X[out_sample_idx, 1],\n",
        "                    c=c, cmap=plt.cm.Paired,\n",
        "                    s=20, edgecolor='k', alpha=0.1,\n",
        "                    label=\"Class %s (Not Sampled)\" % n)\n"
      ]
    },
    {
      "cell_type": "markdown",
      "metadata": {
        "id": "zzer31PmAutq"
      },
      "source": [
        "Now we plot the first 12 rounds of adaboost:"
      ]
    },
    {
      "cell_type": "code",
      "execution_count": null,
      "metadata": {
        "scrolled": false,
        "id": "EEBxb5c5Autq"
      },
      "outputs": [],
      "source": [
        "rows = 4\n",
        "cols = 3\n",
        "\n",
        "figure, axis = plt.subplots(rows, cols, figsize=(15, 10))\n",
        "figure.tight_layout()\n",
        "\n",
        "for i in range(rows):\n",
        "    for j in range(cols):\n",
        "        idx = i*rows + j\n",
        "        subplot = plot_predictions(dtrees[idx].predict, sample_indices[idx], axis[i,j])\n",
        "        axis[i,j].title.set_text(f'Round {idx}: Alpha = {alphas[idx]}')\n",
        "\n",
        "plt.show()"
      ]
    },
    {
      "cell_type": "markdown",
      "metadata": {
        "id": "YzJV5DIIAutr"
      },
      "source": [
        "Now answer the following questions:\n",
        "1. Which rounds are most important to the classification? What do they have in common?\n",
        "2. Do you notice any changes in the samples (and resulting classifiers) in later rounds of Adaboost?"
      ]
    },
    {
      "cell_type": "markdown",
      "metadata": {
        "id": "AUn8z_K-Autr"
      },
      "source": [
        "**Answer here**"
      ]
    },
    {
      "cell_type": "markdown",
      "metadata": {
        "id": "U-ANK4oWAutr"
      },
      "source": [
        "Finally, we can plot the whole adaboost classifier. Note the non-linear decision boundary.\n",
        "* The first plot shows the discrete boundary, comprised of all of the above weak classifiers.\n",
        "* The second plot shows the same prediction as a continuous boundary."
      ]
    },
    {
      "cell_type": "code",
      "execution_count": null,
      "metadata": {
        "id": "I7R0YHb8Autr"
      },
      "outputs": [],
      "source": [
        "plot_predictions(boosting_predict, range(len(X)), plt)"
      ]
    },
    {
      "cell_type": "code",
      "execution_count": null,
      "metadata": {
        "id": "s7TyPKWPAutr"
      },
      "outputs": [],
      "source": [
        "plot_predictions(boosting_predict, range(len(X)), plt, continuous=True)"
      ]
    },
    {
      "cell_type": "markdown",
      "metadata": {
        "id": "RFwOWRteAutr"
      },
      "source": [
        "Now answer the following questions:\n",
        "1. How can Adaboost create a non-linear boundary to accurately classify this shape?\n",
        "2. Which areas of the plot is the classifier most certain about, or least certain?"
      ]
    },
    {
      "cell_type": "markdown",
      "metadata": {
        "id": "tnmpIgChAutr"
      },
      "source": [
        "**Answer Here**"
      ]
    }
  ],
  "metadata": {
    "kernelspec": {
      "display_name": "Python 3 (ipykernel)",
      "language": "python",
      "name": "python3"
    },
    "language_info": {
      "codemirror_mode": {
        "name": "ipython",
        "version": 3
      },
      "file_extension": ".py",
      "mimetype": "text/x-python",
      "name": "python",
      "nbconvert_exporter": "python",
      "pygments_lexer": "ipython3",
      "version": "3.9.15"
    },
    "colab": {
      "provenance": [],
      "include_colab_link": true
    }
  },
  "nbformat": 4,
  "nbformat_minor": 0
}