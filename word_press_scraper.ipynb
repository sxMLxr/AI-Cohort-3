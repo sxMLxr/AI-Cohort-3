{
  "nbformat": 4,
  "nbformat_minor": 0,
  "metadata": {
    "colab": {
      "provenance": [],
      "authorship_tag": "ABX9TyOt8VubK07bqn07zKlWFaor",
      "include_colab_link": true
    },
    "kernelspec": {
      "name": "python3",
      "display_name": "Python 3"
    },
    "language_info": {
      "name": "python"
    }
  },
  "cells": [
    {
      "cell_type": "markdown",
      "metadata": {
        "id": "view-in-github",
        "colab_type": "text"
      },
      "source": [
        "<a href=\"https://colab.research.google.com/github/michaelwnau/ai_academy_notebooks/blob/main/word_press_scraper.ipynb\" target=\"_parent\"><img src=\"https://colab.research.google.com/assets/colab-badge.svg\" alt=\"Open In Colab\"/></a>"
      ]
    },
    {
      "cell_type": "code",
      "source": [
        "# Install necessary packages\n",
        "!apt-get update\n",
        "!apt install chromium-chromedriver\n",
        "!pip install selenium"
      ],
      "metadata": {
        "id": "zEHuwOuq5UND"
      },
      "execution_count": null,
      "outputs": []
    },
    {
      "cell_type": "code",
      "source": [
        "# Import necessary libraries\n",
        "from selenium import webdriver\n",
        "from selenium.webdriver.common.by import By\n",
        "import requests\n",
        "import os\n",
        "from google.colab import drive\n",
        "from bs4 import BeautifulSoup"
      ],
      "metadata": {
        "id": "ODET0AJu5hBi"
      },
      "execution_count": null,
      "outputs": []
    },
    {
      "cell_type": "code",
      "source": [
        "!apt-get update\n",
        "!apt-get install -y unzip xvfb libxi6 libgconf-2-4\n",
        "!wget https://dl.google.com/linux/direct/google-chrome-stable_current_amd64.deb\n",
        "!dpkg -i google-chrome-stable_current_amd64.deb\n",
        "!apt-get install -f\n",
        "!pip install webdriver_manager\n"
      ],
      "metadata": {
        "id": "EoeoNr_a9b2T"
      },
      "execution_count": null,
      "outputs": []
    },
    {
      "cell_type": "code",
      "source": [
        "from selenium import webdriver\n",
        "from selenium.webdriver.chrome.service import Service\n",
        "from webdriver_manager.chrome import ChromeDriverManager\n",
        "from selenium.webdriver.common.by import By\n",
        "from selenium.webdriver.chrome.options import Options\n"
      ],
      "metadata": {
        "id": "p44gWQQF9sAD"
      },
      "execution_count": null,
      "outputs": []
    },
    {
      "cell_type": "code",
      "execution_count": null,
      "metadata": {
        "id": "ZYXp3Jn95DfC"
      },
      "outputs": [],
      "source": [
        "# Set options to be headless\n",
        "options = Options()\n",
        "options.add_argument('--headless')\n",
        "options.add_argument('--no-sandbox')\n",
        "options.add_argument('--disable-dev-shm-usage')"
      ]
    },
    {
      "cell_type": "code",
      "source": [
        "# Mount Google Drive\n",
        "drive.mount('/content/gdrive')\n"
      ],
      "metadata": {
        "id": "ooopH3bI5Hqy"
      },
      "execution_count": null,
      "outputs": []
    },
    {
      "cell_type": "code",
      "source": [
        "# Setup the webdriver\n",
        "webdriver_service = Service(ChromeDriverManager().install())\n",
        "driver = webdriver.Chrome(service=webdriver_service, options=options)"
      ],
      "metadata": {
        "id": "3ZfivvvF66g6"
      },
      "execution_count": null,
      "outputs": []
    },
    {
      "cell_type": "code",
      "source": [
        "# Define the URL and the output folder\n",
        "url = '<WP-BLOG-URL>/blog/'\n",
        "output_folder = '<YOUR-GDRIVE-FOLDER-REL-PATH'\n",
        "\n"
      ],
      "metadata": {
        "id": "Pnvd7esM5tcY"
      },
      "execution_count": null,
      "outputs": []
    },
    {
      "cell_type": "code",
      "source": [
        "# Create the output folder if it doesn't exist\n",
        "if not os.path.exists(output_folder):\n",
        "    os.makedirs(output_folder)\n",
        "\n"
      ],
      "metadata": {
        "id": "m71ziSEu5v7L"
      },
      "execution_count": null,
      "outputs": []
    },
    {
      "cell_type": "code",
      "source": [
        "# Function to download and save an image from a URL\n",
        "def save_image_from_url(image_url, output_folder):\n",
        "    response = requests.get(image_url, stream=True)\n",
        "    if response.status_code == 200:\n",
        "        filename = os.path.join(output_folder, image_url.split(\"/\")[-1])\n",
        "        with open(filename, 'wb') as out_file:\n",
        "            out_file.write(response.content)\n",
        "        print(f'Saved image {filename}')"
      ],
      "metadata": {
        "id": "teqpfCsF5ylq"
      },
      "execution_count": null,
      "outputs": []
    },
    {
      "cell_type": "code",
      "source": [
        "# Start scraping\n",
        "for page_number in range(1, 14):  # Change the range according to the number of pages\n",
        "    if page_number == 1:\n",
        "        url = '<WP-BLOG-URL/>'\n",
        "    else:\n",
        "        url = f'<WP-BLOG-URL>/{page_number}/'\n",
        "    driver.get(url)\n",
        "    soup = BeautifulSoup(driver.page_source, 'html.parser')\n",
        "    images = soup.select('.post-archive__post-image img')\n",
        "    for image in images:\n",
        "        image_url = image['src']\n",
        "        save_image_from_url(image_url, output_folder)\n",
        "\n",
        "print(\"Scraping completed.\")\n"
      ],
      "metadata": {
        "id": "4hVln5zV50vw"
      },
      "execution_count": null,
      "outputs": []
    }
  ]
}