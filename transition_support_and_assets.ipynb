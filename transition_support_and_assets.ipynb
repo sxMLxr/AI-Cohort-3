{
  "nbformat": 4,
  "nbformat_minor": 0,
  "metadata": {
    "colab": {
      "private_outputs": true,
      "provenance": [],
      "authorship_tag": "ABX9TyPzXD1KanrtWBI3/NyqKNyS",
      "include_colab_link": true
    },
    "kernelspec": {
      "name": "python3",
      "display_name": "Python 3"
    },
    "language_info": {
      "name": "python"
    }
  },
  "cells": [
    {
      "cell_type": "markdown",
      "metadata": {
        "id": "view-in-github",
        "colab_type": "text"
      },
      "source": [
        "<a href=\"https://colab.research.google.com/github/michaelwnau/ai_academy_notebooks/blob/main/transition_support_and_assets.ipynb\" target=\"_parent\"><img src=\"https://colab.research.google.com/assets/colab-badge.svg\" alt=\"Open In Colab\"/></a>"
      ]
    },
    {
      "cell_type": "code",
      "execution_count": null,
      "metadata": {
        "id": "VT6hvMD-tgNL"
      },
      "outputs": [],
      "source": [
        "!pip install plotly\n",
        "\n",
        "import plotly.express as px\n",
        "import pandas as pd\n",
        "\n",
        "\n",
        "transition_support_and_assets = [\n",
        "    [\"Task\", \"Description/Details\", \"Start Date\", \"End Date\"],\n",
        "    [\"Transition Support and Transition of Assets\",\n",
        "     \"- Plan for 60 days of outgoing transition support...\",\n",
        "     \"2023-01-01\", \"2023-01-10\"],\n",
        "    [\"Coordination\", \"Coordination with Government representatives.\",\n",
        "     \"2023-01-11\", \"2023-01-15\"],\n",
        "    [\"Review & Transition\", \"Review, evaluation, and transition of current support services.\",\n",
        "     \"2023-01-16\", \"2023-01-20\"],\n",
        "    [\"Data Transition\", \"Transition of historic data to new Contractor system.\",\n",
        "     \"2023-01-21\", \"2023-01-25\"],\n",
        "    [\"JIRA Accounts\", \"Transition of JIRA accounts.\",\n",
        "     \"2023-01-26\", \"2023-01-30\"],\n",
        "    [\"Hardware & Software\", \"Transfer of hardware and software warranties, maintenance agreements, and licenses.\",\n",
        "     \"2023-01-31\", \"2023-02-05\"],\n",
        "    [\"Documentation\", \"Transfer of all necessary business and/or technical documentation.\",\n",
        "     \"2023-02-06\", \"2023-02-10\"],\n",
        "    [\"Orientation\", \"Orientation phase and program for introduction.\",\n",
        "     \"2023-02-11\", \"2023-02-15\"],\n",
        "    [\"Disposition\", \"Disposition of Contractor purchased Government owned assets.\",\n",
        "     \"2023-02-16\", \"2023-02-20\"],\n",
        "    [\"GFE Transfer\", \"Transfer of Government Furnished Equipment (GFE) and Information, and GFE inventory management assistance.\",\n",
        "     \"2023-02-21\", \"2023-02-25\"],\n",
        "    [\"Turn-in\", \"Turn-in of all Government keys, ID/access cards, and security codes.\",\n",
        "     \"2023-02-26\", \"2023-02-28\"],\n",
        "    [\"Asset List Production\",\n",
        "     \"- Produce a list of all assets associated with the project...\",\n",
        "     \"2023-03-01\", \"2023-03-05\"],\n",
        "    [\"Deliverables\", \"A. Transition Plan \\nB. Certificate of Transition Completion for all Assets.\",\n",
        "     \"2023-03-06\", \"2023-03-10\"]\n",
        "]\n",
        "\n",
        "\n",
        "\n",
        "\n",
        "\n",
        "df = pd.DataFrame(transition_support_and_assets[1:], columns=transition_support_and_assets[0])\n",
        "df\n"
      ]
    },
    {
      "cell_type": "code",
      "source": [
        "# import pandas as pd\n",
        "# import plotly.express as px\n",
        "\n",
        "# Create a DataFrame using the modified transition_support_and_assets list\n",
        "df = pd.DataFrame(transition_support_and_assets[1:], columns=transition_support_and_assets[0])\n",
        "\n",
        "# Generate Gantt chart\n",
        "fig = px.timeline(df, x_start=\"Start Date\", x_end=\"End Date\", y=\"Task\", title=\"Transition Support and Assets Gantt Chart\",\n",
        "                  labels={\"Task\": \"Tasks\"}, color=\"Task\")\n",
        "fig.update_yaxes(categoryorder=\"total ascending\")\n",
        "fig.show()\n"
      ],
      "metadata": {
        "id": "ay1Dpqbguffx"
      },
      "execution_count": null,
      "outputs": []
    }
  ]
}