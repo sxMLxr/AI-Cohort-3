{
  "cells": [
    {
      "cell_type": "markdown",
      "metadata": {
        "id": "view-in-github",
        "colab_type": "text"
      },
      "source": [
        "<a href=\"https://colab.research.google.com/github/michaelwnau/ai_academy_notebooks/blob/main/WKS9.ipynb\" target=\"_parent\"><img src=\"https://colab.research.google.com/assets/colab-badge.svg\" alt=\"Open In Colab\"/></a>"
      ]
    },
    {
      "cell_type": "markdown",
      "metadata": {
        "id": "ZsrARUBTAkmA"
      },
      "source": [
        "# Workshop 9: ANNs\n",
        "---"
      ]
    },
    {
      "cell_type": "markdown",
      "metadata": {
        "id": "XpPDaIV3AkmD"
      },
      "source": [
        "## 1) Neural Network Playground (Follow: Explore individually; Discuss as a Class)"
      ]
    },
    {
      "cell_type": "markdown",
      "metadata": {
        "id": "ROqv2wuUAkmD"
      },
      "source": [
        "First, go to Tensorflow's [Neural Network Playground](https://playground.tensorflow.org/). This website is an interactive and exploratory visualization of how the features, number of layers, training time, etc, influence the classification boundries of an ANN. Right now, we'll only worry ourselves with *classification* problems.\n",
        "\n",
        "Play with the visualization, and then answer the following questions below.\n",
        "\n",
        "### Scenarios\n",
        "\n",
        "1. Using the default network topology, try training the network with the different activation functions (ReLU, Tanh, Sigmoid, Linear). What effect does the activation function have on the training time? What effect does the activation function have on the shape of the classification boundries?\n",
        "2. Take a look at [this setup](https://playground.tensorflow.org/#activation=tanh&batchSize=10&dataset=xor&regDataset=reg-plane&learningRate=0.03&regularizationRate=0&noise=0&networkShape=4,2&seed=0.21855&showTestData=false&discretize=false&percTrainData=50&x=true&y=true&xTimesY=false&xSquared=false&ySquared=false&cosX=false&sinX=false&cosY=false&sinY=false&collectStats=false&problem=classification&initZero=false&hideText=false). Train until the classification boundry converges. This is one of the rare cases where the nodes in an ANN can be (semi) interpreted. What do the nodes in the first hidden layer represent? What about the second hidden layer? How do you think the ANN uses these learned \"features\" to make a decision?\n",
        "\n",
        "### Exploration\n",
        "For each of the following questions:\n",
        "* Make a prediction before you begin exploring and testing.\n",
        "* Explain why you think this scenario has this property.\n",
        "\n",
        "**Questions**\n",
        "\n",
        "3. Find a scenario where a simple model (fewer neurons) outperforms a complex model. (In regards to overfitting)\n",
        "4. Find a scenario where no hidden layers perform well.\n",
        "5. Find a scenario where a model with no hidden layers performs poorly no matter the features.\n",
        "6. Find a scenario where it takes a lot of training time to get a correct solution."
      ]
    },
    {
      "cell_type": "code",
      "source": [
        "from google.colab import drive\n",
        "drive.mount('/content/drive')"
      ],
      "metadata": {
        "id": "pFntH4DwFddo",
        "outputId": "a10290ad-eb97-448a-b236-713392c2ca01",
        "colab": {
          "base_uri": "https://localhost:8080/"
        }
      },
      "execution_count": null,
      "outputs": [
        {
          "output_type": "stream",
          "name": "stdout",
          "text": [
            "Mounted at /content/drive\n"
          ]
        }
      ]
    },
    {
      "cell_type": "markdown",
      "metadata": {
        "id": "HRtSpWE6AkmE"
      },
      "source": [
        "1. [Answer]\n",
        "2. [Answer]\n",
        "3. [Answer]\n",
        "4. [Answer]\n",
        "5. [Answer]\n",
        "6. [Answer]"
      ]
    },
    {
      "cell_type": "markdown",
      "metadata": {
        "id": "lAFQTtoRAkmE"
      },
      "source": [
        "## 2) Training and Testing a Neural Network (Group)\n",
        "\n",
        "For this problem, you'll be looking at a reduced subset of the [Credit Card Fraud Data](https://www.kaggle.com/mlg-ulb/creditcardfraud), which contains transactions made by credit cards in September 2013 by European cardholders, including some fradulent transactions.\n",
        " \n",
        "There are two interesting properties about this dataset:\n",
        "\n",
        "1) **The data only contains dimensionality reduced data from a PCA transformation.** Sometimes, due to privacy concerns, all of the features (and even the names of the features used) cannot be known. Therefore, you'll be trying to train a model of data that has been reduced in dimensions with uninterpretable features.\n",
        "\n",
        "2) **The dataset is highly unbalanced.** The positive class (frauds) account for 0.185% of all transactions.\n",
        "\n",
        "Knowing the data, what classification metrics (Precision, Recall, F1-Score) are most appropriate and why?"
      ]
    },
    {
      "cell_type": "markdown",
      "metadata": {
        "id": "wmITmNSPAkmF"
      },
      "source": [
        "**Write your answer here.**"
      ]
    },
    {
      "cell_type": "markdown",
      "metadata": {
        "id": "lN-bpG9AAkmF"
      },
      "source": [
        "For this question, **you have enough experience to do the entire model pipeline yourself**. That means *loading the data, creating splits, scaling the data, training and tuning the model, and evaluating the model.*"
      ]
    },
    {
      "cell_type": "code",
      "execution_count": 4,
      "metadata": {
        "id": "zVzi-zSEAkmF"
      },
      "outputs": [],
      "source": [
        "#Import necessary libraries\n",
        "import pandas as pd\n",
        "import numpy as np\n",
        "#import warnings\n",
        "#warnings.filterwarnings('ignore')\n",
        "\n",
        "random_state = 42"
      ]
    },
    {
      "cell_type": "markdown",
      "metadata": {
        "id": "c7iSa9uhAkmG"
      },
      "source": [
        "### Step 1: Load the data into a dataframe. Use `value_counts` to check the class balance."
      ]
    },
    {
      "cell_type": "code",
      "execution_count": 6,
      "metadata": {
        "id": "eaZCrZ1BAkmG",
        "colab": {
          "base_uri": "https://localhost:8080/"
        },
        "outputId": "360158d2-14c8-4b67-a661-251b82559c8c"
      },
      "outputs": [
        {
          "output_type": "stream",
          "name": "stdout",
          "text": [
            "0    85284\n",
            "1      158\n",
            "Name: Class, dtype: int64\n"
          ]
        }
      ],
      "source": [
        "df = pd.read_csv('/content/drive/MyDrive/AI ACADEMY/2 - Data Mining/9- Week 9/wks9 student/creditcard.csv')\n",
        "# Assuming the class label is in a column named 'Class'\n",
        "print(df['Class'].value_counts())"
      ]
    },
    {
      "cell_type": "markdown",
      "metadata": {
        "id": "ESXdgwIOAkmH"
      },
      "source": [
        "### Step 2: Partition the data into an X dataframe (features) and Y single-column dataframe (class)"
      ]
    },
    {
      "cell_type": "code",
      "execution_count": 7,
      "metadata": {
        "id": "xKru86FcAkmH"
      },
      "outputs": [],
      "source": [
        "X = df.drop('Class', axis=1)\n",
        "Y = df['Class']"
      ]
    },
    {
      "cell_type": "markdown",
      "metadata": {
        "id": "aI4WpOH5AkmH"
      },
      "source": [
        "### Step 3: Create your train/test split. Use the provided random_state.\n",
        "\n",
        "**Note**: You should use a `train_size` of 0.7, or 70%"
      ]
    },
    {
      "cell_type": "code",
      "execution_count": 8,
      "metadata": {
        "id": "-2F4ftCrAkmH"
      },
      "outputs": [],
      "source": [
        "from sklearn.model_selection import train_test_split"
      ]
    },
    {
      "cell_type": "code",
      "execution_count": 9,
      "metadata": {
        "id": "POAJJDLIAkmH"
      },
      "outputs": [],
      "source": [
        "X_train, X_test, Y_train, Y_test = train_test_split(X, Y, train_size=0.7, random_state=random_state)"
      ]
    },
    {
      "cell_type": "markdown",
      "metadata": {
        "id": "vfTyj2yGAkmH"
      },
      "source": [
        "### Step 4: Use a [MinMaxScaler](https://scikit-learn.org/stable/modules/generated/sklearn.preprocessing.MinMaxScaler.html) to standardize the data. \n",
        "\n",
        "Fit the scaler only the the training X features, and then apply it to both training and test X features. We do this because in practice, we wouldn't be able to see data in the test X, so it shouldn't affect feature transformation. We therefore only use X_train for feature transformation.\n",
        "\n",
        "**Note**: Even though most of the features are already transformed using PCA (which would not require additional standardize), there is one other feature (time) that is not, so we should scale as a best practice."
      ]
    },
    {
      "cell_type": "code",
      "execution_count": 10,
      "metadata": {
        "id": "Xd85z8vcAkmH"
      },
      "outputs": [],
      "source": [
        "from sklearn.preprocessing import MinMaxScaler"
      ]
    },
    {
      "cell_type": "code",
      "execution_count": 12,
      "metadata": {
        "id": "vsphuDHfAkmH"
      },
      "outputs": [],
      "source": [
        "scaler = MinMaxScaler()\n",
        "scaler.fit(X_train)\n",
        "\n",
        "# Apply it to both training and test X features\n",
        "X_train_scaled = scaler.transform(X_train)\n",
        "X_test_scaled = scaler.transform(X_test)"
      ]
    },
    {
      "cell_type": "markdown",
      "metadata": {
        "id": "eHnXL6oDAkmH"
      },
      "source": [
        "### Step 5:  Train an MLP with default hyperparameters.\n",
        "\n",
        "For the following, you'll be using sklearn's built in Multi-layer Perceptron classifier [MLPClassifier](https://scikit-learn.org/stable/modules/generated/sklearn.neural_network.MLPClassifier.html).\n",
        "\n",
        "Use the default hyperparams aside from `max_iter`. `max_iter` is how many iterations of training the ANN goes though until it manually stops. The default `max_iter=200`. \n",
        "\n",
        "**Use random_state as the random_states and max_iter=200**. The detault parameters will use a single hidden layer.\n",
        "\n"
      ]
    },
    {
      "cell_type": "code",
      "execution_count": 13,
      "metadata": {
        "id": "ICDyI_kTAkmH"
      },
      "outputs": [],
      "source": [
        "from sklearn.neural_network import MLPClassifier"
      ]
    },
    {
      "cell_type": "code",
      "execution_count": 14,
      "metadata": {
        "id": "1GodbgShAkmI"
      },
      "outputs": [],
      "source": [
        "mlp = MLPClassifier(max_iter=200, random_state=random_state)"
      ]
    },
    {
      "cell_type": "markdown",
      "metadata": {
        "id": "8jXrD-McAkmI"
      },
      "source": [
        "### Step 6:  Evaluate the model on the test dataset using a confusion matrix and a classification report"
      ]
    },
    {
      "cell_type": "code",
      "execution_count": 20,
      "metadata": {
        "id": "uELo36OBAkmI"
      },
      "outputs": [],
      "source": [
        "from sklearn.metrics import confusion_matrix\n",
        "from sklearn.metrics import classification_report\n",
        "\n",
        "# Create an MLPClassifier object\n",
        "mlp = MLPClassifier(max_iter=200, random_state=random_state)\n",
        "\n",
        "# Train the MLPClassifier on the scaled training data\n",
        "mlp.fit(X_train_scaled, Y_train)\n",
        "\n",
        "# Now you can use the trained model to make predictions on the test data\n",
        "Y_pred = mlp.predict(X_test_scaled)\n"
      ]
    },
    {
      "cell_type": "code",
      "execution_count": 22,
      "metadata": {
        "id": "z1vNaAwjAkmI"
      },
      "outputs": [],
      "source": [
        "# Use the trained model to make predictions on the test data\n",
        "Y_pred = mlp.predict(X_test_scaled)"
      ]
    },
    {
      "cell_type": "code",
      "source": [
        "# Step 6: Evaluate the model on the test dataset using a confusion matrix and a classification report\n",
        "from sklearn.metrics import confusion_matrix, classification_report\n",
        "\n",
        "# Use the trained model to make predictions on the test data\n",
        "Y_pred = mlp.predict(X_test_scaled)\n",
        "\n",
        "# Generate a confusion matrix\n",
        "conf_mat = confusion_matrix(Y_test, Y_pred)\n",
        "print(\"Confusion Matrix:\\n\", conf_mat)\n",
        "\n",
        "# Generate a classification report\n",
        "class_report = classification_report(Y_test, Y_pred)\n",
        "print(\"\\nClassification Report:\\n\", class_report)\n"
      ],
      "metadata": {
        "colab": {
          "base_uri": "https://localhost:8080/"
        },
        "id": "W8AK1uiSfsrY",
        "outputId": "7e9866b9-f436-459b-8daa-7b0d49bd579b"
      },
      "execution_count": 23,
      "outputs": [
        {
          "output_type": "stream",
          "name": "stdout",
          "text": [
            "Confusion Matrix:\n",
            " [[25583     4]\n",
            " [   19    27]]\n",
            "\n",
            "Classification Report:\n",
            "               precision    recall  f1-score   support\n",
            "\n",
            "           0       1.00      1.00      1.00     25587\n",
            "           1       0.87      0.59      0.70        46\n",
            "\n",
            "    accuracy                           1.00     25633\n",
            "   macro avg       0.94      0.79      0.85     25633\n",
            "weighted avg       1.00      1.00      1.00     25633\n",
            "\n"
          ]
        }
      ]
    },
    {
      "cell_type": "markdown",
      "metadata": {
        "id": "EhU5p4zTAkmI"
      },
      "source": [
        "If all went well, your model should have an accuracy of almost 100%. Use `classification_report` to explain what you think happened. Is the model performing well? If not, is it overfitting or underfitting? Remember that the classes in the problem are very imbalanced, but out main goal is to detect fraud (class 1)."
      ]
    },
    {
      "cell_type": "markdown",
      "metadata": {
        "id": "EtiYT1YiAkmI"
      },
      "source": [
        "**Note**: `classification_report` outputs Precision, Recall and F1 for both classes. Remember that how we calculate these metrics depends on which class we treat as the positive class. If we say Class 0 is the positive class, a FP means incorrectly predicting Class 0, but for Class 1 a FP is incorrectly predicting Class 1."
      ]
    },
    {
      "cell_type": "markdown",
      "metadata": {
        "id": "SnkbkVvbAkmI"
      },
      "source": [
        "**Answer here**."
      ]
    },
    {
      "cell_type": "markdown",
      "metadata": {
        "id": "VPi7EBmEAkmI"
      },
      "source": [
        "## 3) Hyperparameters (Group)"
      ]
    },
    {
      "cell_type": "markdown",
      "metadata": {
        "id": "gNjJUD4kAkmI"
      },
      "source": [
        "**Hyperparams**:\n",
        "\n",
        "ANNs have *a lot* of hyperparams. This can include simple things such as the number of layers and nodes, up to tuning the learning rate and the gradient descent algorithm used. \n",
        "\n",
        "Unfortunately, there is no tried an true method for selecting hyperparams for a neural network. It requires a lot of experimentation and intution through experience. (In fact, one of the most successful methods in training neural networks is *Graduate Student Descent*, where you simply give the laborious process of tuning to a graduate student while you go and do more research!)\n",
        "\n",
        "For now, the paramaters that you should explore are:\n",
        "\n",
        "* `activation`: The activation function of the the ANN. Defaults to ReLU.\n",
        "* `max_iter`: The ANN will train iterations until either the loss stops improving by a specified threshold, or `max_iters` is reached. Warning: the more you increase this, the more the training time will take! Patience is a virtue.\n",
        "* `hidden_layer_sizes`: A tuple representing the structure of the hidden layers. For example, giving the tuple `(100,50)` means that there's two hidden layers: the first being of size 100, and the second being of size 50. The tuple (100,) would mean a single hidden layer of size 100.\n",
        "\n",
        "**Try different permutations of these hyperprams and see how it affects the classification scores of your model.**"
      ]
    },
    {
      "cell_type": "code",
      "execution_count": null,
      "metadata": {
        "id": "I8g94sZ9AkmI"
      },
      "outputs": [],
      "source": []
    },
    {
      "cell_type": "markdown",
      "metadata": {
        "id": "a3UrLF3oAkmI"
      },
      "source": [
        "Answer the following questions:\n",
        "1. What criteria did you use to determine which model hyperparameters performed \"best\"? Why? Justify your answer with respect to the problem: fraud detection.\n",
        "2. What hyperparameters performed best. Why do you think they performed best?"
      ]
    }
  ],
  "metadata": {
    "kernelspec": {
      "display_name": "Python 3 (ipykernel)",
      "language": "python",
      "name": "python3"
    },
    "language_info": {
      "codemirror_mode": {
        "name": "ipython",
        "version": 3
      },
      "file_extension": ".py",
      "mimetype": "text/x-python",
      "name": "python",
      "nbconvert_exporter": "python",
      "pygments_lexer": "ipython3",
      "version": "3.9.13"
    },
    "colab": {
      "provenance": [],
      "include_colab_link": true
    }
  },
  "nbformat": 4,
  "nbformat_minor": 0
}