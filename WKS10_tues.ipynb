{
  "cells": [
    {
      "cell_type": "markdown",
      "metadata": {
        "id": "view-in-github",
        "colab_type": "text"
      },
      "source": [
        "<a href=\"https://colab.research.google.com/github/michaelwnau/ai_academy_notebooks/blob/main/WKS10_tues_nau.ipynb\" target=\"_parent\"><img src=\"https://colab.research.google.com/assets/colab-badge.svg\" alt=\"Open In Colab\"/></a>"
      ]
    },
    {
      "cell_type": "markdown",
      "metadata": {
        "id": "yF7dqhnBEfbB"
      },
      "source": [
        "# Workshop 10: SVMs and Hyperparameter Tuning\n",
        "\n",
        "In this lab, you'll be working with Support Vector Machines."
      ]
    },
    {
      "cell_type": "code",
      "source": [
        "from google.colab import drive\n",
        "drive.mount('/content/drive')"
      ],
      "metadata": {
        "id": "oxA7XDLbEjtS",
        "outputId": "36f52c5c-9e97-4726-a334-bc21116f6d02",
        "colab": {
          "base_uri": "https://localhost:8080/"
        }
      },
      "execution_count": 6,
      "outputs": [
        {
          "output_type": "stream",
          "name": "stdout",
          "text": [
            "Drive already mounted at /content/drive; to attempt to forcibly remount, call drive.mount(\"/content/drive\", force_remount=True).\n"
          ]
        }
      ]
    },
    {
      "cell_type": "markdown",
      "metadata": {
        "id": "KnuGzKyLEfbE"
      },
      "source": [
        "## 0) Imports"
      ]
    },
    {
      "cell_type": "code",
      "execution_count": 7,
      "metadata": {
        "id": "E_fGOpaXEfbE"
      },
      "outputs": [],
      "source": [
        "import numpy as np\n",
        "import matplotlib.pyplot as plt\n",
        "import pandas as pd\n",
        "random_state = 42"
      ]
    },
    {
      "cell_type": "code",
      "execution_count": 8,
      "metadata": {
        "id": "g5qfG9Z3EfbF"
      },
      "outputs": [],
      "source": [
        "from sklearn.model_selection import train_test_split"
      ]
    },
    {
      "cell_type": "markdown",
      "metadata": {
        "id": "oJLZ4dY8EfbF"
      },
      "source": [
        "## 1) Loading the Data\n",
        "\n",
        "First, load the data `svm_data_2020.csv`."
      ]
    },
    {
      "cell_type": "code",
      "execution_count": 9,
      "metadata": {
        "id": "R9_aP9TlEfbG"
      },
      "outputs": [],
      "source": [
        "df = pd.read_csv('/content/drive/MyDrive/AI ACADEMY/2 - Data Mining/10- Week 10/WKS10 Student/data/svm_data_2020.csv')"
      ]
    },
    {
      "cell_type": "code",
      "execution_count": 10,
      "metadata": {
        "id": "VUM0mmtxEfbG",
        "outputId": "6fbb2ce2-8793-4cfa-ac0c-f0fbf4a120f5",
        "colab": {
          "base_uri": "https://localhost:8080/"
        }
      },
      "outputs": [
        {
          "output_type": "execute_result",
          "data": {
            "text/plain": [
              "0    83\n",
              "1    73\n",
              "Name: Class, dtype: int64"
            ]
          },
          "metadata": {},
          "execution_count": 10
        }
      ],
      "source": [
        "df[\"Class\"].value_counts()"
      ]
    },
    {
      "cell_type": "markdown",
      "metadata": {
        "id": "wlXQ1mLPEfbH"
      },
      "source": [
        "## 2) Splitting the Data (Group)\n",
        "\n",
        "Now, split the data into a training and test set. 75% of the data should be in the training set, and 25% should be in the testing set.\n",
        "\n",
        "Report the number of positive and negative samples in both training and testing data."
      ]
    },
    {
      "cell_type": "code",
      "execution_count": 11,
      "metadata": {
        "id": "8F33h8tcEfbI"
      },
      "outputs": [],
      "source": [
        "# Split data\n",
        "# Splitting the data\n",
        "X = df.drop('Class', axis=1)\n",
        "y = df['Class']\n",
        "\n",
        "X_train, X_test, y_train, y_test = train_test_split(X, y, test_size=0.25, random_state=random_state)"
      ]
    },
    {
      "cell_type": "code",
      "execution_count": 13,
      "metadata": {
        "id": "Mp_jk7HSEfbI",
        "colab": {
          "base_uri": "https://localhost:8080/"
        },
        "outputId": "c7419e50-19da-4e33-d0a9-ebf98087db2e"
      },
      "outputs": [
        {
          "output_type": "stream",
          "name": "stdout",
          "text": [
            "Training data:\n",
            "0    65\n",
            "1    52\n",
            "Name: Class, dtype: int64\n",
            "\n",
            "Testing data:\n",
            "1    21\n",
            "0    18\n",
            "Name: Class, dtype: int64\n"
          ]
        }
      ],
      "source": [
        "# Report positive and negative samples\n",
        "# Reporting the number of positive and negative samples in both training and testing data\n",
        "print(\"Training data:\")\n",
        "print(y_train.value_counts())\n",
        "\n",
        "print(\"\\nTesting data:\")\n",
        "print(y_test.value_counts())"
      ]
    },
    {
      "cell_type": "markdown",
      "metadata": {
        "id": "YGdOLG6bEfbI"
      },
      "source": [
        "## 3) Training the Model\n",
        "\n",
        "Now, you will use sklearns [support vector classifier](https://scikit-learn.org/stable/modules/generated/sklearn.svm.SVC.html) to fit a model to this data."
      ]
    },
    {
      "cell_type": "code",
      "execution_count": 14,
      "metadata": {
        "id": "UtYX4CRsEfbI"
      },
      "outputs": [],
      "source": [
        "from sklearn.svm import SVC\n",
        "from sklearn.model_selection import GridSearchCV\n",
        "from sklearn.metrics import classification_report"
      ]
    },
    {
      "cell_type": "markdown",
      "metadata": {
        "id": "dN7zhtZEEfbI"
      },
      "source": [
        "### 3.1 Fitting the Model and Getting the Support Vectors (Group)\n",
        "\n",
        "Fit the SVC to your split data (using the default hyperparams), and report back the number of support vectors. Use `clf.support_vectors_`, which returns a list of the actual support vectors."
      ]
    },
    {
      "cell_type": "code",
      "execution_count": 34,
      "metadata": {
        "scrolled": true,
        "id": "8Yk8pcdVEfbI",
        "colab": {
          "base_uri": "https://localhost:8080/"
        },
        "outputId": "5da705f6-6b67-4dc2-c147-be72b5543a28"
      },
      "outputs": [
        {
          "output_type": "stream",
          "name": "stdout",
          "text": [
            "Number of support vectors:  80\n"
          ]
        }
      ],
      "source": [
        "from sklearn import svm\n",
        "# Create model and get the number of support vectors\n",
        "# Create a SVM classifier with a linear kernel\n",
        "clf = svm.SVC(kernel='linear')\n",
        "# Train the classifier with your data\n",
        "clf.fit(X_train, y_train)\n",
        "# Get the support vectors\n",
        "support_vectors = clf.support_vectors_\n",
        "# Print the number of support vectors\n",
        "print('Number of support vectors: ', len(support_vectors))"
      ]
    },
    {
      "cell_type": "markdown",
      "metadata": {
        "id": "FJKTI188EfbJ"
      },
      "source": [
        "### 3.2 C hyperparameter vs Support Vector Count (Group)"
      ]
    },
    {
      "cell_type": "markdown",
      "metadata": {
        "id": "HGPMUnfTEfbJ"
      },
      "source": [
        "*C* is the regularization hyperparameter in SVMs, and in this problem you'll be looking at how changing *C* affects the number of support vectors.\n",
        "\n",
        "Implement the function `plot_support_vectors` below, which will plot a line chart of the number of support vectors vs. the value of *C*.\n",
        "\n",
        "**Before implementing the function, predict the answer the following questions**\n",
        "1. As C increases, how will the number of support vectors change?\n",
        "2. Why?"
      ]
    },
    {
      "cell_type": "code",
      "execution_count": 30,
      "metadata": {
        "id": "YMEvDzTBEfbJ"
      },
      "outputs": [],
      "source": [
        "\"\"\"\n",
        "Input:\n",
        "    params: A list of floats, representing the value of C's to try\n",
        "\n",
        "Output:\n",
        "    None\n",
        "    Print a line chart of the number of support vectors vs. C\n",
        "\n",
        "Function:\n",
        "    iterate through params\n",
        "        create an SVC classifier for each c\n",
        "        find the length of the support vectors and append to a list\n",
        "\n",
        "    create a plot with c on the X axis and length of support vectors on Y\n",
        "\"\"\"\n",
        "\n",
        "def plot_support_vectors(params):\n",
        "    return None"
      ]
    },
    {
      "cell_type": "code",
      "source": [
        "\n",
        "# SOLUTIONS\n",
        "Y = df[\"Class\"]\n",
        "X = df.drop(\"Class\",axis=1)\n",
        "X_train, X_test, y_train, y_test = train_test_split(X,Y, test_size=0.25, random_state=random_state)\n",
        "len(X_train)\n",
        "y_train.value_counts()\n",
        "y_test.value_counts()\n",
        "\n",
        "display(X_train)\n",
        "clf = SVC(C=100)\n",
        "clf.fit(X_train, y_train)\n",
        "print(len(clf.support_vectors_))\n",
        "print(len(clf.support_vectors_[0]))\n",
        "print(clf.support_vectors_)\n",
        "print(clf.n_support_)\n",
        "\n",
        "print(clf.support_)\n",
        "\n",
        "def plot_support_vectors(params):\n",
        "    svs = []\n",
        "\n",
        "    # SOLUTION\n",
        "    for c in params:\n",
        "        clf=SVC(C=c)\n",
        "        clf.fit(X_train,y_train)\n",
        "        svs.append(len(clf.support_vectors_))\n",
        "\n",
        "    plt.plot(params,svs,'bo--')\n",
        "    plt.xlabel('C')\n",
        "    plt.ylabel('Number of Support Vectors')\n",
        "    plt.title('C and Its Effect on Number of Support Vectors')\n",
        "    plt.show()\n",
        "    # END SOLUTION\n",
        "    return None"
      ],
      "metadata": {
        "colab": {
          "base_uri": "https://localhost:8080/",
          "height": 667
        },
        "id": "TcCN3CeomwsM",
        "outputId": "e30f7b8a-bed4-488f-a232-fc826f66b1b2"
      },
      "execution_count": 36,
      "outputs": [
        {
          "output_type": "display_data",
          "data": {
            "text/plain": [
              "     Attr1  Attr2  Attr3  Attr4  Attr5  Attr6  Attr7  Attr8  Attr9  Attr10  \\\n",
              "26   0.029  0.064  0.039  0.017  0.048  0.082  0.396  0.032  0.074   0.086   \n",
              "134  0.013  0.007  0.031  0.031  0.008  0.077  0.308  0.064  0.073   0.090   \n",
              "79   0.037  0.059  0.063  0.053  0.026  0.142  0.828  0.273  0.307   0.260   \n",
              "131  0.053  0.088  0.200  0.260  0.322  0.225  0.248  0.229  0.095   0.074   \n",
              "36   0.097  0.082  0.063  0.061  0.062  0.121  0.376  0.422  0.574   0.502   \n",
              "..     ...    ...    ...    ...    ...    ...    ...    ...    ...     ...   \n",
              "71   0.020  0.010  0.032  0.024  0.081  0.153  0.460  0.061  0.132   0.137   \n",
              "106  0.020  0.003  0.014  0.006  0.013  0.015  0.216  0.021  0.050   0.110   \n",
              "14   0.035  0.012  0.019  0.047  0.074  0.118  0.672  0.154  0.147   0.291   \n",
              "92   0.063  0.106  0.153  0.123  0.144  0.119  0.352  0.091  0.211   0.360   \n",
              "102  0.060  0.047  0.050  0.039  0.103  0.077  0.340  0.045  0.109   0.035   \n",
              "\n",
              "     ...  Attr51  Attr52  Attr53  Attr54  Attr55  Attr56  Attr57  Attr58  \\\n",
              "26   ...   0.017   0.004   0.005   0.008   0.008   0.008   0.010   0.016   \n",
              "134  ...   0.011   0.006   0.003   0.004   0.008   0.004   0.005   0.001   \n",
              "79   ...   0.035   0.012   0.006   0.024   0.003   0.009   0.012   0.011   \n",
              "131  ...   0.030   0.024   0.020   0.026   0.008   0.015   0.017   0.015   \n",
              "36   ...   0.021   0.007   0.008   0.030   0.019   0.021   0.013   0.020   \n",
              "..   ...     ...     ...     ...     ...     ...     ...     ...     ...   \n",
              "71   ...   0.019   0.013   0.008   0.007   0.004   0.006   0.005   0.005   \n",
              "106  ...   0.007   0.011   0.007   0.006   0.003   0.001   0.001   0.002   \n",
              "14   ...   0.043   0.035   0.016   0.015   0.011   0.005   0.010   0.002   \n",
              "92   ...   0.026   0.009   0.026   0.011   0.014   0.019   0.023   0.006   \n",
              "102  ...   0.003   0.001   0.000   0.023   0.021   0.008   0.012   0.011   \n",
              "\n",
              "     Attr59  Attr60  \n",
              "26    0.010   0.001  \n",
              "134   0.005   0.002  \n",
              "79    0.010   0.013  \n",
              "131   0.013   0.006  \n",
              "36    0.021   0.004  \n",
              "..      ...     ...  \n",
              "71    0.007   0.005  \n",
              "106   0.006   0.004  \n",
              "14    0.007   0.007  \n",
              "92    0.011   0.013  \n",
              "102   0.011   0.010  \n",
              "\n",
              "[117 rows x 60 columns]"
            ],
            "text/html": [
              "\n",
              "  <div id=\"df-3cad5148-397f-47fb-b8b0-bf2b759565f9\">\n",
              "    <div class=\"colab-df-container\">\n",
              "      <div>\n",
              "<style scoped>\n",
              "    .dataframe tbody tr th:only-of-type {\n",
              "        vertical-align: middle;\n",
              "    }\n",
              "\n",
              "    .dataframe tbody tr th {\n",
              "        vertical-align: top;\n",
              "    }\n",
              "\n",
              "    .dataframe thead th {\n",
              "        text-align: right;\n",
              "    }\n",
              "</style>\n",
              "<table border=\"1\" class=\"dataframe\">\n",
              "  <thead>\n",
              "    <tr style=\"text-align: right;\">\n",
              "      <th></th>\n",
              "      <th>Attr1</th>\n",
              "      <th>Attr2</th>\n",
              "      <th>Attr3</th>\n",
              "      <th>Attr4</th>\n",
              "      <th>Attr5</th>\n",
              "      <th>Attr6</th>\n",
              "      <th>Attr7</th>\n",
              "      <th>Attr8</th>\n",
              "      <th>Attr9</th>\n",
              "      <th>Attr10</th>\n",
              "      <th>...</th>\n",
              "      <th>Attr51</th>\n",
              "      <th>Attr52</th>\n",
              "      <th>Attr53</th>\n",
              "      <th>Attr54</th>\n",
              "      <th>Attr55</th>\n",
              "      <th>Attr56</th>\n",
              "      <th>Attr57</th>\n",
              "      <th>Attr58</th>\n",
              "      <th>Attr59</th>\n",
              "      <th>Attr60</th>\n",
              "    </tr>\n",
              "  </thead>\n",
              "  <tbody>\n",
              "    <tr>\n",
              "      <th>26</th>\n",
              "      <td>0.029</td>\n",
              "      <td>0.064</td>\n",
              "      <td>0.039</td>\n",
              "      <td>0.017</td>\n",
              "      <td>0.048</td>\n",
              "      <td>0.082</td>\n",
              "      <td>0.396</td>\n",
              "      <td>0.032</td>\n",
              "      <td>0.074</td>\n",
              "      <td>0.086</td>\n",
              "      <td>...</td>\n",
              "      <td>0.017</td>\n",
              "      <td>0.004</td>\n",
              "      <td>0.005</td>\n",
              "      <td>0.008</td>\n",
              "      <td>0.008</td>\n",
              "      <td>0.008</td>\n",
              "      <td>0.010</td>\n",
              "      <td>0.016</td>\n",
              "      <td>0.010</td>\n",
              "      <td>0.001</td>\n",
              "    </tr>\n",
              "    <tr>\n",
              "      <th>134</th>\n",
              "      <td>0.013</td>\n",
              "      <td>0.007</td>\n",
              "      <td>0.031</td>\n",
              "      <td>0.031</td>\n",
              "      <td>0.008</td>\n",
              "      <td>0.077</td>\n",
              "      <td>0.308</td>\n",
              "      <td>0.064</td>\n",
              "      <td>0.073</td>\n",
              "      <td>0.090</td>\n",
              "      <td>...</td>\n",
              "      <td>0.011</td>\n",
              "      <td>0.006</td>\n",
              "      <td>0.003</td>\n",
              "      <td>0.004</td>\n",
              "      <td>0.008</td>\n",
              "      <td>0.004</td>\n",
              "      <td>0.005</td>\n",
              "      <td>0.001</td>\n",
              "      <td>0.005</td>\n",
              "      <td>0.002</td>\n",
              "    </tr>\n",
              "    <tr>\n",
              "      <th>79</th>\n",
              "      <td>0.037</td>\n",
              "      <td>0.059</td>\n",
              "      <td>0.063</td>\n",
              "      <td>0.053</td>\n",
              "      <td>0.026</td>\n",
              "      <td>0.142</td>\n",
              "      <td>0.828</td>\n",
              "      <td>0.273</td>\n",
              "      <td>0.307</td>\n",
              "      <td>0.260</td>\n",
              "      <td>...</td>\n",
              "      <td>0.035</td>\n",
              "      <td>0.012</td>\n",
              "      <td>0.006</td>\n",
              "      <td>0.024</td>\n",
              "      <td>0.003</td>\n",
              "      <td>0.009</td>\n",
              "      <td>0.012</td>\n",
              "      <td>0.011</td>\n",
              "      <td>0.010</td>\n",
              "      <td>0.013</td>\n",
              "    </tr>\n",
              "    <tr>\n",
              "      <th>131</th>\n",
              "      <td>0.053</td>\n",
              "      <td>0.088</td>\n",
              "      <td>0.200</td>\n",
              "      <td>0.260</td>\n",
              "      <td>0.322</td>\n",
              "      <td>0.225</td>\n",
              "      <td>0.248</td>\n",
              "      <td>0.229</td>\n",
              "      <td>0.095</td>\n",
              "      <td>0.074</td>\n",
              "      <td>...</td>\n",
              "      <td>0.030</td>\n",
              "      <td>0.024</td>\n",
              "      <td>0.020</td>\n",
              "      <td>0.026</td>\n",
              "      <td>0.008</td>\n",
              "      <td>0.015</td>\n",
              "      <td>0.017</td>\n",
              "      <td>0.015</td>\n",
              "      <td>0.013</td>\n",
              "      <td>0.006</td>\n",
              "    </tr>\n",
              "    <tr>\n",
              "      <th>36</th>\n",
              "      <td>0.097</td>\n",
              "      <td>0.082</td>\n",
              "      <td>0.063</td>\n",
              "      <td>0.061</td>\n",
              "      <td>0.062</td>\n",
              "      <td>0.121</td>\n",
              "      <td>0.376</td>\n",
              "      <td>0.422</td>\n",
              "      <td>0.574</td>\n",
              "      <td>0.502</td>\n",
              "      <td>...</td>\n",
              "      <td>0.021</td>\n",
              "      <td>0.007</td>\n",
              "      <td>0.008</td>\n",
              "      <td>0.030</td>\n",
              "      <td>0.019</td>\n",
              "      <td>0.021</td>\n",
              "      <td>0.013</td>\n",
              "      <td>0.020</td>\n",
              "      <td>0.021</td>\n",
              "      <td>0.004</td>\n",
              "    </tr>\n",
              "    <tr>\n",
              "      <th>...</th>\n",
              "      <td>...</td>\n",
              "      <td>...</td>\n",
              "      <td>...</td>\n",
              "      <td>...</td>\n",
              "      <td>...</td>\n",
              "      <td>...</td>\n",
              "      <td>...</td>\n",
              "      <td>...</td>\n",
              "      <td>...</td>\n",
              "      <td>...</td>\n",
              "      <td>...</td>\n",
              "      <td>...</td>\n",
              "      <td>...</td>\n",
              "      <td>...</td>\n",
              "      <td>...</td>\n",
              "      <td>...</td>\n",
              "      <td>...</td>\n",
              "      <td>...</td>\n",
              "      <td>...</td>\n",
              "      <td>...</td>\n",
              "      <td>...</td>\n",
              "    </tr>\n",
              "    <tr>\n",
              "      <th>71</th>\n",
              "      <td>0.020</td>\n",
              "      <td>0.010</td>\n",
              "      <td>0.032</td>\n",
              "      <td>0.024</td>\n",
              "      <td>0.081</td>\n",
              "      <td>0.153</td>\n",
              "      <td>0.460</td>\n",
              "      <td>0.061</td>\n",
              "      <td>0.132</td>\n",
              "      <td>0.137</td>\n",
              "      <td>...</td>\n",
              "      <td>0.019</td>\n",
              "      <td>0.013</td>\n",
              "      <td>0.008</td>\n",
              "      <td>0.007</td>\n",
              "      <td>0.004</td>\n",
              "      <td>0.006</td>\n",
              "      <td>0.005</td>\n",
              "      <td>0.005</td>\n",
              "      <td>0.007</td>\n",
              "      <td>0.005</td>\n",
              "    </tr>\n",
              "    <tr>\n",
              "      <th>106</th>\n",
              "      <td>0.020</td>\n",
              "      <td>0.003</td>\n",
              "      <td>0.014</td>\n",
              "      <td>0.006</td>\n",
              "      <td>0.013</td>\n",
              "      <td>0.015</td>\n",
              "      <td>0.216</td>\n",
              "      <td>0.021</td>\n",
              "      <td>0.050</td>\n",
              "      <td>0.110</td>\n",
              "      <td>...</td>\n",
              "      <td>0.007</td>\n",
              "      <td>0.011</td>\n",
              "      <td>0.007</td>\n",
              "      <td>0.006</td>\n",
              "      <td>0.003</td>\n",
              "      <td>0.001</td>\n",
              "      <td>0.001</td>\n",
              "      <td>0.002</td>\n",
              "      <td>0.006</td>\n",
              "      <td>0.004</td>\n",
              "    </tr>\n",
              "    <tr>\n",
              "      <th>14</th>\n",
              "      <td>0.035</td>\n",
              "      <td>0.012</td>\n",
              "      <td>0.019</td>\n",
              "      <td>0.047</td>\n",
              "      <td>0.074</td>\n",
              "      <td>0.118</td>\n",
              "      <td>0.672</td>\n",
              "      <td>0.154</td>\n",
              "      <td>0.147</td>\n",
              "      <td>0.291</td>\n",
              "      <td>...</td>\n",
              "      <td>0.043</td>\n",
              "      <td>0.035</td>\n",
              "      <td>0.016</td>\n",
              "      <td>0.015</td>\n",
              "      <td>0.011</td>\n",
              "      <td>0.005</td>\n",
              "      <td>0.010</td>\n",
              "      <td>0.002</td>\n",
              "      <td>0.007</td>\n",
              "      <td>0.007</td>\n",
              "    </tr>\n",
              "    <tr>\n",
              "      <th>92</th>\n",
              "      <td>0.063</td>\n",
              "      <td>0.106</td>\n",
              "      <td>0.153</td>\n",
              "      <td>0.123</td>\n",
              "      <td>0.144</td>\n",
              "      <td>0.119</td>\n",
              "      <td>0.352</td>\n",
              "      <td>0.091</td>\n",
              "      <td>0.211</td>\n",
              "      <td>0.360</td>\n",
              "      <td>...</td>\n",
              "      <td>0.026</td>\n",
              "      <td>0.009</td>\n",
              "      <td>0.026</td>\n",
              "      <td>0.011</td>\n",
              "      <td>0.014</td>\n",
              "      <td>0.019</td>\n",
              "      <td>0.023</td>\n",
              "      <td>0.006</td>\n",
              "      <td>0.011</td>\n",
              "      <td>0.013</td>\n",
              "    </tr>\n",
              "    <tr>\n",
              "      <th>102</th>\n",
              "      <td>0.060</td>\n",
              "      <td>0.047</td>\n",
              "      <td>0.050</td>\n",
              "      <td>0.039</td>\n",
              "      <td>0.103</td>\n",
              "      <td>0.077</td>\n",
              "      <td>0.340</td>\n",
              "      <td>0.045</td>\n",
              "      <td>0.109</td>\n",
              "      <td>0.035</td>\n",
              "      <td>...</td>\n",
              "      <td>0.003</td>\n",
              "      <td>0.001</td>\n",
              "      <td>0.000</td>\n",
              "      <td>0.023</td>\n",
              "      <td>0.021</td>\n",
              "      <td>0.008</td>\n",
              "      <td>0.012</td>\n",
              "      <td>0.011</td>\n",
              "      <td>0.011</td>\n",
              "      <td>0.010</td>\n",
              "    </tr>\n",
              "  </tbody>\n",
              "</table>\n",
              "<p>117 rows × 60 columns</p>\n",
              "</div>\n",
              "      <button class=\"colab-df-convert\" onclick=\"convertToInteractive('df-3cad5148-397f-47fb-b8b0-bf2b759565f9')\"\n",
              "              title=\"Convert this dataframe to an interactive table.\"\n",
              "              style=\"display:none;\">\n",
              "        \n",
              "  <svg xmlns=\"http://www.w3.org/2000/svg\" height=\"24px\"viewBox=\"0 0 24 24\"\n",
              "       width=\"24px\">\n",
              "    <path d=\"M0 0h24v24H0V0z\" fill=\"none\"/>\n",
              "    <path d=\"M18.56 5.44l.94 2.06.94-2.06 2.06-.94-2.06-.94-.94-2.06-.94 2.06-2.06.94zm-11 1L8.5 8.5l.94-2.06 2.06-.94-2.06-.94L8.5 2.5l-.94 2.06-2.06.94zm10 10l.94 2.06.94-2.06 2.06-.94-2.06-.94-.94-2.06-.94 2.06-2.06.94z\"/><path d=\"M17.41 7.96l-1.37-1.37c-.4-.4-.92-.59-1.43-.59-.52 0-1.04.2-1.43.59L10.3 9.45l-7.72 7.72c-.78.78-.78 2.05 0 2.83L4 21.41c.39.39.9.59 1.41.59.51 0 1.02-.2 1.41-.59l7.78-7.78 2.81-2.81c.8-.78.8-2.07 0-2.86zM5.41 20L4 18.59l7.72-7.72 1.47 1.35L5.41 20z\"/>\n",
              "  </svg>\n",
              "      </button>\n",
              "      \n",
              "  <style>\n",
              "    .colab-df-container {\n",
              "      display:flex;\n",
              "      flex-wrap:wrap;\n",
              "      gap: 12px;\n",
              "    }\n",
              "\n",
              "    .colab-df-convert {\n",
              "      background-color: #E8F0FE;\n",
              "      border: none;\n",
              "      border-radius: 50%;\n",
              "      cursor: pointer;\n",
              "      display: none;\n",
              "      fill: #1967D2;\n",
              "      height: 32px;\n",
              "      padding: 0 0 0 0;\n",
              "      width: 32px;\n",
              "    }\n",
              "\n",
              "    .colab-df-convert:hover {\n",
              "      background-color: #E2EBFA;\n",
              "      box-shadow: 0px 1px 2px rgba(60, 64, 67, 0.3), 0px 1px 3px 1px rgba(60, 64, 67, 0.15);\n",
              "      fill: #174EA6;\n",
              "    }\n",
              "\n",
              "    [theme=dark] .colab-df-convert {\n",
              "      background-color: #3B4455;\n",
              "      fill: #D2E3FC;\n",
              "    }\n",
              "\n",
              "    [theme=dark] .colab-df-convert:hover {\n",
              "      background-color: #434B5C;\n",
              "      box-shadow: 0px 1px 3px 1px rgba(0, 0, 0, 0.15);\n",
              "      filter: drop-shadow(0px 1px 2px rgba(0, 0, 0, 0.3));\n",
              "      fill: #FFFFFF;\n",
              "    }\n",
              "  </style>\n",
              "\n",
              "      <script>\n",
              "        const buttonEl =\n",
              "          document.querySelector('#df-3cad5148-397f-47fb-b8b0-bf2b759565f9 button.colab-df-convert');\n",
              "        buttonEl.style.display =\n",
              "          google.colab.kernel.accessAllowed ? 'block' : 'none';\n",
              "\n",
              "        async function convertToInteractive(key) {\n",
              "          const element = document.querySelector('#df-3cad5148-397f-47fb-b8b0-bf2b759565f9');\n",
              "          const dataTable =\n",
              "            await google.colab.kernel.invokeFunction('convertToInteractive',\n",
              "                                                     [key], {});\n",
              "          if (!dataTable) return;\n",
              "\n",
              "          const docLinkHtml = 'Like what you see? Visit the ' +\n",
              "            '<a target=\"_blank\" href=https://colab.research.google.com/notebooks/data_table.ipynb>data table notebook</a>'\n",
              "            + ' to learn more about interactive tables.';\n",
              "          element.innerHTML = '';\n",
              "          dataTable['output_type'] = 'display_data';\n",
              "          await google.colab.output.renderOutput(dataTable, element);\n",
              "          const docLink = document.createElement('div');\n",
              "          docLink.innerHTML = docLinkHtml;\n",
              "          element.appendChild(docLink);\n",
              "        }\n",
              "      </script>\n",
              "    </div>\n",
              "  </div>\n",
              "  "
            ]
          },
          "metadata": {}
        },
        {
          "output_type": "stream",
          "name": "stdout",
          "text": [
            "64\n",
            "60\n",
            "[[0.053 0.088 0.2   ... 0.015 0.013 0.006]\n",
            " [0.027 0.016 0.034 ... 0.009 0.01  0.009]\n",
            " [0.016 0.024 0.015 ... 0.005 0.002 0.002]\n",
            " ...\n",
            " [0.052 0.055 0.084 ... 0.005 0.005 0.005]\n",
            " [0.02  0.003 0.014 ... 0.002 0.006 0.004]\n",
            " [0.035 0.012 0.019 ... 0.002 0.007 0.007]]\n",
            "[32 32]\n",
            "[  3   5   8   9  16  18  20  21  22  23  24  27  28  29  33  43  44  60\n",
            "  64  71  82  84  86  87  88  89  92 100 102 103 105 115   0   6  11  14\n",
            "  25  35  38  39  41  45  48  51  53  54  61  67  73  74  75  76  77  83\n",
            "  85  90  94  95  99 106 107 110 113 114]\n"
          ]
        }
      ]
    },
    {
      "cell_type": "code",
      "source": [
        "import matplotlib.pyplot as plt\n",
        "\n",
        "def plot_support_vectors(params):\n",
        "    num_support_vectors = []\n",
        "\n",
        "    for c in params:\n",
        "        # Create a SVM classifier with a linear kernel\n",
        "        clf = svm.SVC(kernel='linear', C=c)\n",
        "\n",
        "        # Train the classifier with your data\n",
        "        clf.fit(X_train, y_train)\n",
        "\n",
        "        # Get the number of support vectors\n",
        "        num = len(clf.support_vectors_)\n",
        "\n",
        "        # Append the number to the list\n",
        "        num_support_vectors.append(num)\n",
        "\n",
        "    # Plot C values vs number of support vectors\n",
        "    plt.plot(params, num_support_vectors)\n",
        "    plt.xlabel('C value')\n",
        "    plt.ylabel('Number of support vectors')\n",
        "    plt.title('C value vs number of support vectors')\n",
        "    plt.show()\n",
        "\n",
        "C = [0.1,0.2,0.3,0.5,1,2,3,5,10]\n",
        "plot_support_vectors(C)\n"
      ],
      "metadata": {
        "colab": {
          "base_uri": "https://localhost:8080/",
          "height": 472
        },
        "id": "9DbmKin6kP83",
        "outputId": "add8207a-877f-4b5b-f866-130178441da3"
      },
      "execution_count": 32,
      "outputs": [
        {
          "output_type": "display_data",
          "data": {
            "text/plain": [
              "<Figure size 640x480 with 1 Axes>"
            ],
            "image/png": "[encoded data removed]"
          },
          "metadata": {}
        }
      ]
    },
    {
      "cell_type": "code",
      "execution_count": 33,
      "metadata": {
        "id": "6JEuAnbMEfbJ",
        "colab": {
          "base_uri": "https://localhost:8080/",
          "height": 472
        },
        "outputId": "18f28b32-5ca2-4d19-dceb-94bc9899f368"
      },
      "outputs": [
        {
          "output_type": "display_data",
          "data": {
            "text/plain": [
              "<Figure size 640x480 with 1 Axes>"
            ],
            "image/png": "[encoded data removed]"
          },
          "metadata": {}
        }
      ],
      "source": [
        "C = [0.1,0.2,0.3,0.5,1,2,3,5,10]\n",
        "plot_support_vectors(C)"
      ]
    },
    {
      "cell_type": "markdown",
      "metadata": {
        "id": "8ioGTGY7EfbJ"
      },
      "source": [
        "**Now that you have a plot, go back to the questions and explain more using the context of the data. If you were wrong, explain your misconception.**"
      ]
    },
    {
      "cell_type": "markdown",
      "metadata": {
        "id": "Dun4lMH8EfbJ"
      },
      "source": [
        "## 4) Hyperparam Tuning\n",
        "\n",
        "Compare  the  performance  of  four  different  kernel  functions:  linear (`linear`), polynomial (`poly`),  radial basis function (`rbf`), and `sigmoid`. Not only will you be changing the kernel function, you'll also be optimizing for the different hyperparams.\n",
        "\n",
        "For each type of kernel functions, train your SVM classifiers using the training data and evaluate the resulting SVM classifer using testing data using accuracy, precision, recall and f-measure of the corresponding classification results."
      ]
    },
    {
      "cell_type": "markdown",
      "metadata": {
        "id": "-R4mSnSgEfbJ"
      },
      "source": [
        "### 4.1 Basic Hyperparameters (Group)\n",
        "\n",
        "Write a function called `best_hyperparams` that when given a dictionary of params, runs a `GridSearchCV` on an SVC model using the training and test data.\n",
        "\n",
        "Use a `cv` of 5.\n",
        "\n",
        "This function will return the optimized classifier `clf`, and the set of best params (using `clf.best_params_`).\n",
        "\n",
        "See the documentation for [GridSearchCV](https://scikit-learn.org/stable/modules/generated/sklearn.model_selection.GridSearchCV.html) for more info."
      ]
    },
    {
      "cell_type": "code",
      "execution_count": null,
      "metadata": {
        "id": "r-CVT0vsEfbJ"
      },
      "outputs": [],
      "source": [
        "\"\"\"\n",
        "Input:\n",
        "    params_set: A dictionary of params to use for the grid search\n",
        "Output:\n",
        "    The classifier with the best hyperparams\n",
        "    The dict of best params itself\n",
        "\n",
        "Function:\n",
        "    use gridsearch to find the best SVC classifier\n",
        "    return the best parameters\n",
        "\"\"\"\n",
        "\n",
        "def best_hyperparams(param_set):\n",
        "    return None"
      ]
    },
    {
      "cell_type": "code",
      "execution_count": 37,
      "metadata": {
        "id": "J3OHMRYDEfbK"
      },
      "outputs": [],
      "source": [
        "# Here are the value ranges for each of the params.\n",
        "# We will tell you which of these to tune for which kernel.\n",
        "\n",
        "# C is the regularization paramater we've discussed before\n",
        "C = [0.1,0.2,0.3,0.5,1,2,3,5,10]\n",
        "\n",
        "# degree is the degree of the polynomial used for the polynomial kernel\n",
        "degree = [1,2,3,4,5]\n",
        "\n",
        "# coef is the independent term in the kernel function, and is ony used by poly and sigmoid\n",
        "coef0 = [0.0001,0.001,0.002,0.01,0.02,0.1,0.2,0.3,1,2,5,10]\n",
        "\n",
        "# gamma is the kernel coefficent used for rbf, poly, and sigmoid\n",
        "gamma = [0.0001,0.001,0.002,0.01,0.02,0.1,0.2,0.3,1,2,3]"
      ]
    },
    {
      "cell_type": "code",
      "execution_count": 40,
      "metadata": {
        "id": "civaz2eHEfbK"
      },
      "outputs": [],
      "source": [
        "from sklearn.metrics import classification_report"
      ]
    },
    {
      "cell_type": "code",
      "source": [
        "# params = [{\n",
        "#     \"kernel\":[\"poly\"],\n",
        "#     \"C\":C,\n",
        "#     \"degree\":degree,\n",
        "#     \"coef0\":coef0\n",
        "# }]\n",
        "\n",
        "# params, model = best_hyperparams(params)\n",
        "# print(params)\n",
        "# predictions = model.predict(X_test)\n",
        "# print(classification_report(y_test, predictions))\n",
        "# params = [{\n",
        "#     \"kernel\":[\"rbf\"],\n",
        "#     \"C\":C,\n",
        "#     \"gamma\":gamma\n",
        "# }]\n",
        "\n",
        "# params, model = best_hyperparams(params)\n",
        "# print(params)\n",
        "# predictions = model.predict(X_test)\n",
        "# print(classification_report(y_test, predictions))\n",
        "# params = [{\n",
        "#     \"kernel\":[\"sigmoid\"],\n",
        "#     \"C\":C,\n",
        "#     \"coef0\":coef0,\n",
        "#     \"gamma\":gamma\n",
        "# }]\n",
        "\n",
        "# params, model = best_hyperparams(params)\n",
        "# print(params)\n",
        "# predictions = model.predict(X_test)\n",
        "# print(classification_report(y_test, predictions))"
      ],
      "metadata": {
        "id": "X4fS_u6mq8LI"
      },
      "execution_count": 42,
      "outputs": []
    },
    {
      "cell_type": "markdown",
      "metadata": {
        "id": "S4mptQz5EfbK"
      },
      "source": [
        "### Linear Kernel (Follow)\n",
        "For the **linear** kernel, tune `C`."
      ]
    },
    {
      "cell_type": "code",
      "execution_count": 43,
      "metadata": {
        "id": "-oTPEH_5EfbK",
        "colab": {
          "base_uri": "https://localhost:8080/",
          "height": 200
        },
        "outputId": "0f9f62b9-d0e5-41c9-bb64-c00978d1b0b7"
      },
      "outputs": [
        {
          "output_type": "error",
          "ename": "NameError",
          "evalue": "ignored",
          "traceback": [
            "\u001b[0;31m---------------------------------------------------------------------------\u001b[0m",
            "\u001b[0;31mNameError\u001b[0m                                 Traceback (most recent call last)",
            "\u001b[0;32m<ipython-input-43-2a9ce6ac9119>\u001b[0m in \u001b[0;36m<cell line: 9>\u001b[0;34m()\u001b[0m\n\u001b[1;32m      7\u001b[0m \u001b[0;31m# print(params)\u001b[0m\u001b[0;34m\u001b[0m\u001b[0;34m\u001b[0m\u001b[0m\n\u001b[1;32m      8\u001b[0m \u001b[0;31m# predictions = model.predict(X_test)\u001b[0m\u001b[0;34m\u001b[0m\u001b[0;34m\u001b[0m\u001b[0m\n\u001b[0;32m----> 9\u001b[0;31m \u001b[0mprint\u001b[0m\u001b[0;34m(\u001b[0m\u001b[0mclassification_report\u001b[0m\u001b[0;34m(\u001b[0m\u001b[0mpredictions\u001b[0m\u001b[0;34m,\u001b[0m\u001b[0my_test\u001b[0m\u001b[0;34m)\u001b[0m\u001b[0;34m)\u001b[0m\u001b[0;34m\u001b[0m\u001b[0;34m\u001b[0m\u001b[0m\n\u001b[0m",
            "\u001b[0;31mNameError\u001b[0m: name 'predictions' is not defined"
          ]
        }
      ],
      "source": [
        "# params = [{\n",
        "#     \"kernel\":[\"linear\"],\n",
        "#     \"C\":C\n",
        "# }]\n",
        "\n",
        "# params, model = best_hyperparams(params)\n",
        "# print(params)\n",
        "# predictions = model.predict(X_test)\n",
        "print(classification_report(predictions,y_test))"
      ]
    },
    {
      "cell_type": "markdown",
      "metadata": {
        "id": "_1zHUvzcEfbK"
      },
      "source": [
        "### Poly Kernel (Group)\n",
        "For the **polynomial** kernel, tune `C`, `degree` and `coef0`."
      ]
    },
    {
      "cell_type": "code",
      "execution_count": null,
      "metadata": {
        "id": "KOg4fzUvEfbK"
      },
      "outputs": [],
      "source": []
    },
    {
      "cell_type": "markdown",
      "metadata": {
        "id": "_2AuDJ-kEfbK"
      },
      "source": [
        "### RBF Kernel (Group)\n",
        "For the **rbf** kernel, tune `C` and `gamma`."
      ]
    },
    {
      "cell_type": "code",
      "execution_count": null,
      "metadata": {
        "id": "3TXK7WP_EfbK"
      },
      "outputs": [],
      "source": []
    },
    {
      "cell_type": "markdown",
      "metadata": {
        "id": "aOOMla3zEfbK"
      },
      "source": [
        "### Sigmoid Kernel (Group)\n",
        "\n",
        "For the **sigmoid** kernel, tune `C`, `coef0`, and `gamma`."
      ]
    },
    {
      "cell_type": "code",
      "execution_count": null,
      "metadata": {
        "id": "eLlUbCgEEfbK"
      },
      "outputs": [],
      "source": []
    },
    {
      "cell_type": "markdown",
      "metadata": {
        "id": "QsSgQ_3mEfbK"
      },
      "source": [
        "### Results\n",
        "\n",
        "Consider the following visualizaion of how SVM predicts with different kernels on different datasets:\n",
        "\n",
        "![Different Kernels](https://i.imgur.com/HKTLn35.png)"
      ]
    },
    {
      "cell_type": "markdown",
      "metadata": {
        "id": "If4p5sFkEfbK"
      },
      "source": [
        "Given your results, answer the following questions:\n",
        "\n",
        "1. Which kernel performed best?\n",
        "2. What criteria are you using to define the best model?\n",
        "3. Based on the best-performing model(s), what properties do you think the data have (e.g. is close to linearly separable)?"
      ]
    },
    {
      "cell_type": "markdown",
      "metadata": {
        "id": "pxvmY1vAEfbK"
      },
      "source": [
        "**Answer here**\n",
        "1.\n",
        "2.\n",
        "3."
      ]
    }
  ],
  "metadata": {
    "kernelspec": {
      "display_name": "Python 3 (ipykernel)",
      "language": "python",
      "name": "python3"
    },
    "language_info": {
      "codemirror_mode": {
        "name": "ipython",
        "version": 3
      },
      "file_extension": ".py",
      "mimetype": "text/x-python",
      "name": "python",
      "nbconvert_exporter": "python",
      "pygments_lexer": "ipython3",
      "version": "3.9.12"
    },
    "colab": {
      "provenance": [],
      "include_colab_link": true
    }
  },
  "nbformat": 4,
  "nbformat_minor": 0
}