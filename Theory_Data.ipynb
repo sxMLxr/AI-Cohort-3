{
  "cells": [
    {
      "cell_type": "markdown",
      "metadata": {
        "id": "view-in-github",
        "colab_type": "text"
      },
      "source": [
        "<a href=\"https://colab.research.google.com/github/michaelwnau/ai_academy_notebooks/blob/main/Theory_Data.ipynb\" target=\"_parent\"><img src=\"https://colab.research.google.com/assets/colab-badge.svg\" alt=\"Open In Colab\"/></a>"
      ]
    },
    {
      "cell_type": "code",
      "execution_count": 1,
      "metadata": {
        "id": "kXrGnyF0BP-C"
      },
      "outputs": [],
      "source": [
        "import sklearn\n",
        "import numpy as np\n",
        "from sklearn.metrics import pairwise_distances"
      ]
    },
    {
      "cell_type": "code",
      "execution_count": 5,
      "metadata": {
        "colab": {
          "base_uri": "https://localhost:8080/"
        },
        "id": "8yyg6nxDBP-E",
        "outputId": "a7d53489-9398-46ee-870c-89fa4052ee03"
      },
      "outputs": [
        {
          "output_type": "execute_result",
          "data": {
            "text/plain": [
              "array([[ 0.00,  5.02,  5.30,  3.77, 12.43,  3.85,  6.52,  3.24,  6.50,  4.99],\n",
              "       [ 5.02,  0.00, 10.19,  7.32,  8.00,  1.18, 10.72,  7.90, 11.43, 10.02],\n",
              "       [ 5.30, 10.19,  0.00,  4.07, 16.82,  9.05,  2.88,  2.38,  1.25,  1.70],\n",
              "       [ 3.77,  7.32,  4.07,  0.00, 12.98,  6.37,  3.44,  2.08,  5.21,  5.04],\n",
              "       [12.43,  8.00, 16.82, 12.98,  0.00,  9.04, 16.21, 14.46, 18.06, 17.17],\n",
              "       [ 3.85,  1.18,  9.05,  6.37,  9.04,  0.00,  9.71,  6.79, 10.28,  8.84],\n",
              "       [ 6.52, 10.72,  2.88,  3.44, 16.21,  9.71,  0.00,  3.36,  3.28,  4.57],\n",
              "       [ 3.24,  7.90,  2.38,  2.08, 14.46,  6.79,  3.36,  0.00,  3.63,  3.00],\n",
              "       [ 6.50, 11.43,  1.25,  5.21, 18.06, 10.28,  3.28,  3.63,  0.00,  2.13],\n",
              "       [ 4.99, 10.02,  1.70,  5.04, 17.17,  8.84,  4.57,  3.00,  2.13,  0.00]])"
            ]
          },
          "metadata": {},
          "execution_count": 5
        }
      ],
      "source": [
        "X = np.array([\n",
        "    [-3.44, 1 ],\n",
        "    [-6.48, 5],\n",
        "    [0.93, -2],\n",
        "    [0.2, 2],\n",
        "    [-6.69, 13 ],\n",
        "    [-5.85, 4],\n",
        "    [3.0, 0],\n",
        "    [-0.36, 0],\n",
        "    [1.68, -3],\n",
        "    [-0.45, -3]\n",
        "    \n",
        "])\n",
        "\n",
        "np.set_printoptions(precision=2, linewidth=100, floatmode='fixed')\n",
        "sklearn.metrics.pairwise_distances(X)"
      ]
    },
    {
      "cell_type": "code",
      "execution_count": 6,
      "metadata": {
        "id": "GfxOVj8EBP-E"
      },
      "outputs": [],
      "source": [
        "# 0 = star\n",
        "# 1 = spade\n",
        "y = np.array([\n",
        "    0,\n",
        "    1,\n",
        "    0,\n",
        "    1,\n",
        "    0,\n",
        "    0,\n",
        "    1,\n",
        "    1,\n",
        "    1,\n",
        "    0\n",
        "])"
      ]
    },
    {
      "cell_type": "code",
      "execution_count": 22,
      "metadata": {
        "colab": {
          "base_uri": "https://localhost:8080/"
        },
        "id": "qDGES2YlBP-F",
        "outputId": "7cbb8550-0000-42bd-fd0a-1644b0f93641"
      },
      "outputs": [
        {
          "output_type": "stream",
          "name": "stdout",
          "text": [
            "Distances:\n",
            " [[0.00 1.18 5.02 7.32]\n",
            " [0.00 2.08 2.38 3.00]]\n",
            "\n",
            "Neighbors:\n",
            " [[1 5 0 3]\n",
            " [7 3 2 9]]\n"
          ]
        }
      ],
      "source": [
        "#a\n",
        "from sklearn.neighbors import NearestNeighbors\n",
        "#import matplotlib.pyplot as plt\n",
        "\n",
        "#create a nearest neighbor classifier = 4 \n",
        "nn = NearestNeighbors(n_neighbors=4)\n",
        "#fit the data X to the classifier\n",
        "nn.fit(X)\n",
        "#extract the distances and neighbors from kneighbors function\n",
        "distances, neighbors = nn.kneighbors([X[1],X[7]])\n",
        "#print the appropriate information\n",
        "print(\"Distances:\\n\", distances)\n",
        "print(\"\\nNeighbors:\\n\", neighbors)\n",
        "\n"
      ]
    },
    {
      "cell_type": "code",
      "source": [
        "# Code from Travis\n",
        "\n",
        "from sklearn.neighbors import NearestNeighbors\n",
        "neigh = NearestNeighbors(n_neighbors=4)\n",
        "neigh.fit(X)\n",
        "distances, neighbors = neigh.kneighbors([X[1],X[7]])\n",
        "\n",
        "# Read this as the closest neighbors to X[1] (point 1) are \n",
        "#1 (itself), then points 6 (not 5 since we're starting at zero), 1, and 4\n",
        "# Same for X[7] (Point 8), it has points {4,3,10}\n",
        "print(distances)\n",
        "print(neighbors)"
      ],
      "metadata": {
        "colab": {
          "base_uri": "https://localhost:8080/"
        },
        "id": "58pW1AmVGQvy",
        "outputId": "597a43b0-5c2e-4776-b4e8-570a75d9779c"
      },
      "execution_count": 16,
      "outputs": [
        {
          "output_type": "stream",
          "name": "stdout",
          "text": [
            "[[0.00 1.18 5.02 7.32]\n",
            " [0.00 2.08 2.38 3.00]]\n",
            "[[1 5 0 3]\n",
            " [7 3 2 9]]\n"
          ]
        }
      ]
    },
    {
      "cell_type": "code",
      "execution_count": 23,
      "metadata": {
        "colab": {
          "base_uri": "https://localhost:8080/"
        },
        "id": "uSQEs8vaBP-F",
        "outputId": "d34ebd2d-81ae-47f5-fdfc-c4b1da4f0808"
      },
      "outputs": [
        {
          "output_type": "stream",
          "name": "stdout",
          "text": [
            "Mean error: 0.0\n"
          ]
        }
      ],
      "source": [
        "#b\n",
        "from sklearn.neighbors import KNeighborsClassifier\n",
        "from sklearn.model_selection import LeaveOneOut\n",
        "from sklearn.metrics import accuracy_score\n",
        "\n",
        "loo = LeaveOneOut()  #leave one out classifier\n",
        "\n",
        "errs = [] #errors list\n",
        "\n",
        "\n",
        "#create leave one out CV split on X and iterate through all possible splits\n",
        "\n",
        "for train_index, test_index in loo.split(X):\n",
        "    X_train, X_test = X[train_index], X[test_index]\n",
        "    y_train, y_test = y[train_index], y[test_index]\n",
        "\n",
        "#create a Nearest neighbor classifier = 1\n",
        "knn = KNeighborsClassifier(n_neighbors=1)\n",
        "#fit the classifier to the X data\n",
        "knn.fit(X_train, y_train)\n",
        "#predict the label of the test data\n",
        "y_pred = knn.predict(X_test)\n",
        "#compute the accuracy of the classification\n",
        "accuracy = accuracy_score(y_test, y_pred)\n",
        "#compute the error rate = 1-accuracy\n",
        "error_rate = 1 - accuracy\n",
        "#append the error rate to a list\n",
        "errs.append(error_rate)\n",
        "#once you complete iterating through all the different data find the mean of the error\n",
        "mean_error = np.mean(errs)\n",
        "\n",
        "print(\"Mean error:\", mean_error)\n"
      ]
    },
    {
      "cell_type": "code",
      "source": [],
      "metadata": {
        "id": "U7ElJZB0KjRs"
      },
      "execution_count": 25,
      "outputs": []
    },
    {
      "cell_type": "code",
      "execution_count": 26,
      "metadata": {
        "colab": {
          "base_uri": "https://localhost:8080/"
        },
        "id": "nk920uE6BP-F",
        "outputId": "fd1b05ab-2e0c-4c68-e873-c1ea44166511"
      },
      "outputs": [
        {
          "output_type": "stream",
          "name": "stdout",
          "text": [
            "Mean error: 0.0\n"
          ]
        }
      ],
      "source": [
        "#c\n",
        "from sklearn.neighbors import KNeighborsClassifier\n",
        "from sklearn.model_selection import KFold\n",
        "from sklearn.metrics import accuracy_score\n",
        "\n",
        "#create a kfold split = 3\n",
        "kf = KFold(n_splits=4)\n",
        "\n",
        "#iterate through all splits and find the train and test indexes\n",
        "for train_index, test_index in kf.split(X):\n",
        "    X_train, X_test = X[train_index], X[test_index]\n",
        "    y_train, y_test = y[train_index], y[test_index]\n",
        "#split the data into train and text sets based on the indexes\n",
        "#create a nearest neighbor classifier = 3\n",
        "knn = KNeighborsClassifier(n_neighbors=4)\n",
        "#fit the data to the classifier\n",
        "knn.fit(X_train, y_train)\n",
        "#predict the label of the test data\n",
        "y_pred = knn.predict(X_test)\n",
        "#compute the accuracy of the prediction\n",
        "accuracy = accuracy_score(y_test, y_pred)\n",
        "#compute the error rate = 1-accuracy\n",
        "error_rate = 1 - accuracy\n",
        "#append the error rates to a list\n",
        "errs.append(error_rate)\n",
        "#compute the mean of all error rates\n",
        "print(\"Mean error:\", mean_error)"
      ]
    },
    {
      "cell_type": "code",
      "source": [
        "# Code from Travis\n",
        "\n",
        "\n",
        "for train_index, test_index in loo.split(X):\n",
        "    X_train, X_test = X[train_index], X[test_index]\n",
        "    y_train, y_test = y[train_index], y[test_index]\n",
        "    \n",
        "    neigh = KNeighborsClassifier(n_neighbors=1)\n",
        "    neigh.fit(X_train,y_train)\n",
        "    predict = neigh.predict(X_test)\n",
        "    acc = accuracy_score(predict, y_test)\n",
        "    \n",
        "    # 1-acc because we want the error rate\n",
        "    errs.append(1-acc)\n",
        "\n",
        "# Final error rate is 0.7\n",
        "np.mean(errs)\n",
        "for train_index, test_index in kf.split(X):\n",
        "    print(\"Train:\", train_index)\n",
        "    print(\"Test:\", test_index)\n",
        "    print()\n",
        "    X_train, X_test = X[train_index], X[test_index]\n",
        "    y_train, y_test = y[train_index], y[test_index]\n",
        "    \n",
        "    neigh = KNeighborsClassifier(n_neighbors=3)\n",
        "    neigh.fit(X_train,y_train)\n",
        "    predict = neigh.predict(X_test)\n",
        "    acc = accuracy_score(predict, y_test)\n",
        "    \n",
        "    # 1-acc because we want the error rate\n",
        "    errs.append(1-acc)\n",
        "\n",
        "# Final error rate is 0.5\n",
        "# Ignore the answer that it says in the document\n",
        "np.mean(errs)"
      ],
      "metadata": {
        "colab": {
          "base_uri": "https://localhost:8080/"
        },
        "id": "olsnGgRpKyrb",
        "outputId": "f4250d5f-a51a-4e62-f9aa-66a1510fbf31"
      },
      "execution_count": 27,
      "outputs": [
        {
          "output_type": "stream",
          "name": "stdout",
          "text": [
            "Train: [3 4 5 6 7 8 9]\n",
            "Test: [0 1 2]\n",
            "\n",
            "Train: [0 1 2 6 7 8 9]\n",
            "Test: [3 4 5]\n",
            "\n",
            "Train: [0 1 2 3 4 5 8 9]\n",
            "Test: [6 7]\n",
            "\n",
            "Train: [0 1 2 3 4 5 6 7]\n",
            "Test: [8 9]\n",
            "\n"
          ]
        },
        {
          "output_type": "execute_result",
          "data": {
            "text/plain": [
              "0.6021505376344087"
            ]
          },
          "metadata": {},
          "execution_count": 27
        }
      ]
    },
    {
      "cell_type": "code",
      "execution_count": null,
      "metadata": {
        "id": "nlOeMvYABP-F"
      },
      "outputs": [],
      "source": []
    }
  ],
  "metadata": {
    "kernelspec": {
      "display_name": "Python 3 (ipykernel)",
      "language": "python",
      "name": "python3"
    },
    "language_info": {
      "codemirror_mode": {
        "name": "ipython",
        "version": 3
      },
      "file_extension": ".py",
      "mimetype": "text/x-python",
      "name": "python",
      "nbconvert_exporter": "python",
      "pygments_lexer": "ipython3",
      "version": "3.9.12"
    },
    "colab": {
      "provenance": [],
      "include_colab_link": true
    }
  },
  "nbformat": 4,
  "nbformat_minor": 0
}