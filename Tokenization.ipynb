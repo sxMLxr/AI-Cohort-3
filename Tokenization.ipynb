{
  "cells": [
    {
      "cell_type": "markdown",
      "metadata": {
        "id": "view-in-github",
        "colab_type": "text"
      },
      "source": [
        "<a href=\"https://colab.research.google.com/github/michaelwnau/ai_academy_notebooks/blob/main/Tokenization.ipynb\" target=\"_parent\"><img src=\"https://colab.research.google.com/assets/colab-badge.svg\" alt=\"Open In Colab\"/></a>"
      ]
    },
    {
      "cell_type": "markdown",
      "id": "configured-permission",
      "metadata": {
        "id": "configured-permission"
      },
      "source": [
        "# Tokenization"
      ]
    },
    {
      "cell_type": "code",
      "source": [
        "!pip install word_tokenize"
      ],
      "metadata": {
        "colab": {
          "base_uri": "https://localhost:8080/"
        },
        "id": "_9PqKRuMm9nC",
        "outputId": "a9caf1d3-5b6b-4b13-c6c1-470b14c4bf29"
      },
      "id": "_9PqKRuMm9nC",
      "execution_count": 6,
      "outputs": [
        {
          "output_type": "stream",
          "name": "stdout",
          "text": [
            "\u001b[31mERROR: Could not find a version that satisfies the requirement word_tokenize (from versions: none)\u001b[0m\u001b[31m\n",
            "\u001b[0m\u001b[31mERROR: No matching distribution found for word_tokenize\u001b[0m\u001b[31m\n",
            "\u001b[0m"
          ]
        }
      ]
    },
    {
      "cell_type": "code",
      "execution_count": 8,
      "id": "returning-spirit",
      "metadata": {
        "id": "returning-spirit"
      },
      "outputs": [],
      "source": [
        "text = \"\"\"In the rapidly evolving and ever-changing world of technology, software companies have become a cornerstone for businesses and a guiding force of our everyday lives. From data analysis to cybersecurity solutions, tech companies are at the forefront of change and digital transformation. And with great power comes great responsibility. As an industry with immense influence, tech companies have a responsibility to use our expertise, vision, experience, and reputation to not only drive innovation and deliver exceptional value, but to expand public knowledge.\n",
        "\n",
        "Wesley Daniels, Clarity’s CEO discussing how we view and approach company culture.\n",
        "\n",
        "Today, we are launching our newest mission: Shift-Ctrl, our very own blog. Here, we will share our thoughts on the latest trends in software development and best practices. We believe that these two fields are inextricably linked and by fusing them, we can create truly transformative learning experiences. From interviews with tech leads to insightful leadership pieces, Shift-Ctrl will serve as a holistic platform for all things innovation.\n",
        "\n",
        "Looking forward, this blog will not only shoulder the pioneering of technical acumen, but it will delve into what it takes to run a successful software engineering company with genuinely happy employees that have earned us a place on the Baltimore Sun’s list of Top Workplaces for 3 years running. Our best practices aren’t just used for delivering technological solutions–we carry them through to all areas of our company. Shift-Ctrl will explore various strategies and approaches that can help create a positive work culture.\n",
        "\n",
        "At Clarity, the deep commitment to people and passion of our developers, designers, and engineers is the backbone of who we are. Their relentless dedication to excellence allows us to design, develop, and deploy force-enhancing software that connects human ingenuity to impactful tech. It is through the collective efforts of our talented team and the cutting-edge software they create that we can claim expertise. Tech and defense communities will find our unique perspective informative and worthwhile because it combines the knowledge and experiences of our extraordinary team with the transformative power of our software solutions.\n",
        "\n",
        "We believe that software is the tool but people are the mission. While software can be powerful and transformative, it is people who create, implement, and use it to achieve their goals. Our focus is creating next-generation tools that enable our end-users to work smarter and faster. By prioritizing the needs and experiences of our users, we create technology that not only meets and exceeds their immediate needs, but lays the foundation to attain their long-term objectives. We’re honored to have earned a reputation as a trustworthy and reliable provider of industry-leading solutions.\n",
        "\n",
        "Overall, by combining technical expertise with a focus on employee satisfaction and business management strategies, Shift-Ctrl will provide valuable insights and guidance to software engineering companies of all sizes and stages of development. We aim to inspire the next generation of developers to embrace new technologies and innovative practices, while urging the seasoned generation of developers to continue evolving and adapting to stay ahead in this ever-changing industry. We’ve dedicated our careers to mastering the delivery of operational mission solutions and development of some of the IC and DoD’s most cutting-edge programs. Now, Shift-Ctrl is a space to share our knowledge and forward-thinking approach with all of you.\n",
        "\"\"\""
      ]
    },
    {
      "cell_type": "markdown",
      "id": "hollywood-hotel",
      "metadata": {
        "id": "hollywood-hotel"
      },
      "source": [
        "### .split()"
      ]
    },
    {
      "cell_type": "markdown",
      "id": "conscious-inventory",
      "metadata": {
        "id": "conscious-inventory"
      },
      "source": [
        "Splits whenever a white space is encountered"
      ]
    },
    {
      "cell_type": "code",
      "execution_count": 9,
      "id": "corrected-endorsement",
      "metadata": {
        "scrolled": true,
        "colab": {
          "base_uri": "https://localhost:8080/"
        },
        "id": "corrected-endorsement",
        "outputId": "96321954-da02-448d-8222-deb84fc99c3c"
      },
      "outputs": [
        {
          "output_type": "stream",
          "name": "stdout",
          "text": [
            "['In', 'the', 'rapidly', 'evolving', 'and', 'ever-changing', 'world', 'of', 'technology,', 'software', 'companies', 'have', 'become', 'a', 'cornerstone', 'for', 'businesses', 'and', 'a', 'guiding', 'force', 'of', 'our', 'everyday', 'lives.', 'From', 'data', 'analysis', 'to', 'cybersecurity', 'solutions,', 'tech', 'companies', 'are', 'at', 'the', 'forefront', 'of', 'change', 'and', 'digital', 'transformation.', 'And', 'with', 'great', 'power', 'comes', 'great', 'responsibility.', 'As', 'an', 'industry', 'with', 'immense', 'influence,', 'tech', 'companies', 'have', 'a', 'responsibility', 'to', 'use', 'our', 'expertise,', 'vision,', 'experience,', 'and', 'reputation', 'to', 'not', 'only', 'drive', 'innovation', 'and', 'deliver', 'exceptional', 'value,', 'but', 'to', 'expand', 'public', 'knowledge.', 'Wesley', 'Daniels,', 'Clarity’s', 'CEO', 'discussing', 'how', 'we', 'view', 'and', 'approach', 'company', 'culture.', 'Today,', 'we', 'are', 'launching', 'our', 'newest', 'mission:', 'Shift-Ctrl,', 'our', 'very', 'own', 'blog.', 'Here,', 'we', 'will', 'share', 'our', 'thoughts', 'on', 'the', 'latest', 'trends', 'in', 'software', 'development', 'and', 'best', 'practices.', 'We', 'believe', 'that', 'these', 'two', 'fields', 'are', 'inextricably', 'linked', 'and', 'by', 'fusing', 'them,', 'we', 'can', 'create', 'truly', 'transformative', 'learning', 'experiences.', 'From', 'interviews', 'with', 'tech', 'leads', 'to', 'insightful', 'leadership', 'pieces,', 'Shift-Ctrl', 'will', 'serve', 'as', 'a', 'holistic', 'platform', 'for', 'all', 'things', 'innovation.', 'Looking', 'forward,', 'this', 'blog', 'will', 'not', 'only', 'shoulder', 'the', 'pioneering', 'of', 'technical', 'acumen,', 'but', 'it', 'will', 'delve', 'into', 'what', 'it', 'takes', 'to', 'run', 'a', 'successful', 'software', 'engineering', 'company', 'with', 'genuinely', 'happy', 'employees', 'that', 'have', 'earned', 'us', 'a', 'place', 'on', 'the', 'Baltimore', 'Sun’s', 'list', 'of', 'Top', 'Workplaces', 'for', '3', 'years', 'running.', 'Our', 'best', 'practices', 'aren’t', 'just', 'used', 'for', 'delivering', 'technological', 'solutions–we', 'carry', 'them', 'through', 'to', 'all', 'areas', 'of', 'our', 'company.', 'Shift-Ctrl', 'will', 'explore', 'various', 'strategies', 'and', 'approaches', 'that', 'can', 'help', 'create', 'a', 'positive', 'work', 'culture.', 'At', 'Clarity,', 'the', 'deep', 'commitment', 'to', 'people', 'and', 'passion', 'of', 'our', 'developers,', 'designers,', 'and', 'engineers', 'is', 'the', 'backbone', 'of', 'who', 'we', 'are.', 'Their', 'relentless', 'dedication', 'to', 'excellence', 'allows', 'us', 'to', 'design,', 'develop,', 'and', 'deploy', 'force-enhancing', 'software', 'that', 'connects', 'human', 'ingenuity', 'to', 'impactful', 'tech.', 'It', 'is', 'through', 'the', 'collective', 'efforts', 'of', 'our', 'talented', 'team', 'and', 'the', 'cutting-edge', 'software', 'they', 'create', 'that', 'we', 'can', 'claim', 'expertise.', 'Tech', 'and', 'defense', 'communities', 'will', 'find', 'our', 'unique', 'perspective', 'informative', 'and', 'worthwhile', 'because', 'it', 'combines', 'the', 'knowledge', 'and', 'experiences', 'of', 'our', 'extraordinary', 'team', 'with', 'the', 'transformative', 'power', 'of', 'our', 'software', 'solutions.', 'We', 'believe', 'that', 'software', 'is', 'the', 'tool', 'but', 'people', 'are', 'the', 'mission.', 'While', 'software', 'can', 'be', 'powerful', 'and', 'transformative,', 'it', 'is', 'people', 'who', 'create,', 'implement,', 'and', 'use', 'it', 'to', 'achieve', 'their', 'goals.', 'Our', 'focus', 'is', 'creating', 'next-generation', 'tools', 'that', 'enable', 'our', 'end-users', 'to', 'work', 'smarter', 'and', 'faster.', 'By', 'prioritizing', 'the', 'needs', 'and', 'experiences', 'of', 'our', 'users,', 'we', 'create', 'technology', 'that', 'not', 'only', 'meets', 'and', 'exceeds', 'their', 'immediate', 'needs,', 'but', 'lays', 'the', 'foundation', 'to', 'attain', 'their', 'long-term', 'objectives.', 'We’re', 'honored', 'to', 'have', 'earned', 'a', 'reputation', 'as', 'a', 'trustworthy', 'and', 'reliable', 'provider', 'of', 'industry-leading', 'solutions.', 'Overall,', 'by', 'combining', 'technical', 'expertise', 'with', 'a', 'focus', 'on', 'employee', 'satisfaction', 'and', 'business', 'management', 'strategies,', 'Shift-Ctrl', 'will', 'provide', 'valuable', 'insights', 'and', 'guidance', 'to', 'software', 'engineering', 'companies', 'of', 'all', 'sizes', 'and', 'stages', 'of', 'development.', 'We', 'aim', 'to', 'inspire', 'the', 'next', 'generation', 'of', 'developers', 'to', 'embrace', 'new', 'technologies', 'and', 'innovative', 'practices,', 'while', 'urging', 'the', 'seasoned', 'generation', 'of', 'developers', 'to', 'continue', 'evolving', 'and', 'adapting', 'to', 'stay', 'ahead', 'in', 'this', 'ever-changing', 'industry.', 'We’ve', 'dedicated', 'our', 'careers', 'to', 'mastering', 'the', 'delivery', 'of', 'operational', 'mission', 'solutions', 'and', 'development', 'of', 'some', 'of', 'the', 'IC', 'and', 'DoD’s', 'most', 'cutting-edge', 'programs.', 'Now,', 'Shift-Ctrl', 'is', 'a', 'space', 'to', 'share', 'our', 'knowledge', 'and', 'forward-thinking', 'approach', 'with', 'all', 'of', 'you.']\n"
          ]
        }
      ],
      "source": [
        "# word tokenization\n",
        "print(text.split())\n",
        "# sentence tokenizer\n",
        "# text.split('. ')"
      ]
    },
    {
      "cell_type": "markdown",
      "id": "unlimited-killer",
      "metadata": {
        "id": "unlimited-killer"
      },
      "source": [
        "### NLTK"
      ]
    },
    {
      "cell_type": "markdown",
      "id": "balanced-insulation",
      "metadata": {
        "id": "balanced-insulation"
      },
      "source": [
        "It  considers punctuation as a token"
      ]
    },
    {
      "cell_type": "code",
      "execution_count": 11,
      "id": "negative-climb",
      "metadata": {
        "scrolled": true,
        "colab": {
          "base_uri": "https://localhost:8080/"
        },
        "id": "negative-climb",
        "outputId": "8ac9f103-2235-4005-c1f5-40e7303a39a5"
      },
      "outputs": [
        {
          "output_type": "stream",
          "name": "stderr",
          "text": [
            "[nltk_data] Downloading package punkt to /root/nltk_data...\n",
            "[nltk_data]   Unzipping tokenizers/punkt.zip.\n"
          ]
        },
        {
          "output_type": "stream",
          "name": "stdout",
          "text": [
            "['In', 'the', 'rapidly', 'evolving', 'and', 'ever-changing', 'world', 'of', 'technology', ',', 'software', 'companies', 'have', 'become', 'a', 'cornerstone', 'for', 'businesses', 'and', 'a', 'guiding', 'force', 'of', 'our', 'everyday', 'lives', '.', 'From', 'data', 'analysis', 'to', 'cybersecurity', 'solutions', ',', 'tech', 'companies', 'are', 'at', 'the', 'forefront', 'of', 'change', 'and', 'digital', 'transformation', '.', 'And', 'with', 'great', 'power', 'comes', 'great', 'responsibility', '.', 'As', 'an', 'industry', 'with', 'immense', 'influence', ',', 'tech', 'companies', 'have', 'a', 'responsibility', 'to', 'use', 'our', 'expertise', ',', 'vision', ',', 'experience', ',', 'and', 'reputation', 'to', 'not', 'only', 'drive', 'innovation', 'and', 'deliver', 'exceptional', 'value', ',', 'but', 'to', 'expand', 'public', 'knowledge', '.', 'Wesley', 'Daniels', ',', 'Clarity', '’', 's', 'CEO', 'discussing', 'how', 'we', 'view', 'and', 'approach', 'company', 'culture', '.', 'Today', ',', 'we', 'are', 'launching', 'our', 'newest', 'mission', ':', 'Shift-Ctrl', ',', 'our', 'very', 'own', 'blog', '.', 'Here', ',', 'we', 'will', 'share', 'our', 'thoughts', 'on', 'the', 'latest', 'trends', 'in', 'software', 'development', 'and', 'best', 'practices', '.', 'We', 'believe', 'that', 'these', 'two', 'fields', 'are', 'inextricably', 'linked', 'and', 'by', 'fusing', 'them', ',', 'we', 'can', 'create', 'truly', 'transformative', 'learning', 'experiences', '.', 'From', 'interviews', 'with', 'tech', 'leads', 'to', 'insightful', 'leadership', 'pieces', ',', 'Shift-Ctrl', 'will', 'serve', 'as', 'a', 'holistic', 'platform', 'for', 'all', 'things', 'innovation', '.', 'Looking', 'forward', ',', 'this', 'blog', 'will', 'not', 'only', 'shoulder', 'the', 'pioneering', 'of', 'technical', 'acumen', ',', 'but', 'it', 'will', 'delve', 'into', 'what', 'it', 'takes', 'to', 'run', 'a', 'successful', 'software', 'engineering', 'company', 'with', 'genuinely', 'happy', 'employees', 'that', 'have', 'earned', 'us', 'a', 'place', 'on', 'the', 'Baltimore', 'Sun', '’', 's', 'list', 'of', 'Top', 'Workplaces', 'for', '3', 'years', 'running', '.', 'Our', 'best', 'practices', 'aren', '’', 't', 'just', 'used', 'for', 'delivering', 'technological', 'solutions–we', 'carry', 'them', 'through', 'to', 'all', 'areas', 'of', 'our', 'company', '.', 'Shift-Ctrl', 'will', 'explore', 'various', 'strategies', 'and', 'approaches', 'that', 'can', 'help', 'create', 'a', 'positive', 'work', 'culture', '.', 'At', 'Clarity', ',', 'the', 'deep', 'commitment', 'to', 'people', 'and', 'passion', 'of', 'our', 'developers', ',', 'designers', ',', 'and', 'engineers', 'is', 'the', 'backbone', 'of', 'who', 'we', 'are', '.', 'Their', 'relentless', 'dedication', 'to', 'excellence', 'allows', 'us', 'to', 'design', ',', 'develop', ',', 'and', 'deploy', 'force-enhancing', 'software', 'that', 'connects', 'human', 'ingenuity', 'to', 'impactful', 'tech', '.', 'It', 'is', 'through', 'the', 'collective', 'efforts', 'of', 'our', 'talented', 'team', 'and', 'the', 'cutting-edge', 'software', 'they', 'create', 'that', 'we', 'can', 'claim', 'expertise', '.', 'Tech', 'and', 'defense', 'communities', 'will', 'find', 'our', 'unique', 'perspective', 'informative', 'and', 'worthwhile', 'because', 'it', 'combines', 'the', 'knowledge', 'and', 'experiences', 'of', 'our', 'extraordinary', 'team', 'with', 'the', 'transformative', 'power', 'of', 'our', 'software', 'solutions', '.', 'We', 'believe', 'that', 'software', 'is', 'the', 'tool', 'but', 'people', 'are', 'the', 'mission', '.', 'While', 'software', 'can', 'be', 'powerful', 'and', 'transformative', ',', 'it', 'is', 'people', 'who', 'create', ',', 'implement', ',', 'and', 'use', 'it', 'to', 'achieve', 'their', 'goals', '.', 'Our', 'focus', 'is', 'creating', 'next-generation', 'tools', 'that', 'enable', 'our', 'end-users', 'to', 'work', 'smarter', 'and', 'faster', '.', 'By', 'prioritizing', 'the', 'needs', 'and', 'experiences', 'of', 'our', 'users', ',', 'we', 'create', 'technology', 'that', 'not', 'only', 'meets', 'and', 'exceeds', 'their', 'immediate', 'needs', ',', 'but', 'lays', 'the', 'foundation', 'to', 'attain', 'their', 'long-term', 'objectives', '.', 'We', '’', 're', 'honored', 'to', 'have', 'earned', 'a', 'reputation', 'as', 'a', 'trustworthy', 'and', 'reliable', 'provider', 'of', 'industry-leading', 'solutions', '.', 'Overall', ',', 'by', 'combining', 'technical', 'expertise', 'with', 'a', 'focus', 'on', 'employee', 'satisfaction', 'and', 'business', 'management', 'strategies', ',', 'Shift-Ctrl', 'will', 'provide', 'valuable', 'insights', 'and', 'guidance', 'to', 'software', 'engineering', 'companies', 'of', 'all', 'sizes', 'and', 'stages', 'of', 'development', '.', 'We', 'aim', 'to', 'inspire', 'the', 'next', 'generation', 'of', 'developers', 'to', 'embrace', 'new', 'technologies', 'and', 'innovative', 'practices', ',', 'while', 'urging', 'the', 'seasoned', 'generation', 'of', 'developers', 'to', 'continue', 'evolving', 'and', 'adapting', 'to', 'stay', 'ahead', 'in', 'this', 'ever-changing', 'industry', '.', 'We', '’', 've', 'dedicated', 'our', 'careers', 'to', 'mastering', 'the', 'delivery', 'of', 'operational', 'mission', 'solutions', 'and', 'development', 'of', 'some', 'of', 'the', 'IC', 'and', 'DoD', '’', 's', 'most', 'cutting-edge', 'programs', '.', 'Now', ',', 'Shift-Ctrl', 'is', 'a', 'space', 'to', 'share', 'our', 'knowledge', 'and', 'forward-thinking', 'approach', 'with', 'all', 'of', 'you', '.']\n"
          ]
        }
      ],
      "source": [
        "import nltk\n",
        "nltk.download('punkt')\n",
        "from nltk.tokenize import word_tokenize\n",
        "print(word_tokenize(text))\n",
        "# sntence tokenizer\n",
        "# from nltk.tokenize import sent_tokenize\n",
        "# sent_tokenize(text)"
      ]
    },
    {
      "cell_type": "markdown",
      "id": "empty-yellow",
      "metadata": {
        "id": "empty-yellow"
      },
      "source": [
        "### CountVectorizer - sklearn"
      ]
    },
    {
      "cell_type": "markdown",
      "id": "banned-meter",
      "metadata": {
        "id": "banned-meter"
      },
      "source": [
        "The default regexp select tokens of 2 or more alphanumeric characters (punctuation is completely ignored and always treated as a token separator)."
      ]
    },
    {
      "cell_type": "code",
      "execution_count": 9,
      "id": "relative-helmet",
      "metadata": {
        "scrolled": true,
        "colab": {
          "base_uri": "https://localhost:8080/",
          "height": 218
        },
        "id": "relative-helmet",
        "outputId": "87f20741-db86-45f9-ab43-c4ad94d40e68"
      },
      "outputs": [
        {
          "output_type": "error",
          "ename": "AttributeError",
          "evalue": "ignored",
          "traceback": [
            "\u001b[0;31m---------------------------------------------------------------------------\u001b[0m",
            "\u001b[0;31mAttributeError\u001b[0m                            Traceback (most recent call last)",
            "\u001b[0;32m<ipython-input-9-89823d58aec0>\u001b[0m in \u001b[0;36m<cell line: 22>\u001b[0;34m()\u001b[0m\n\u001b[1;32m     20\u001b[0m \u001b[0mcv\u001b[0m \u001b[0;34m=\u001b[0m \u001b[0mCountVectorizer\u001b[0m\u001b[0;34m(\u001b[0m\u001b[0mstop_words\u001b[0m\u001b[0;34m=\u001b[0m\u001b[0;34m'english'\u001b[0m\u001b[0;34m)\u001b[0m\u001b[0;34m\u001b[0m\u001b[0;34m\u001b[0m\u001b[0m\n\u001b[1;32m     21\u001b[0m \u001b[0mcv_matrix\u001b[0m \u001b[0;34m=\u001b[0m \u001b[0mcv\u001b[0m\u001b[0;34m.\u001b[0m\u001b[0mfit_transform\u001b[0m\u001b[0;34m(\u001b[0m\u001b[0mdf\u001b[0m\u001b[0;34m[\u001b[0m\u001b[0;34m'text'\u001b[0m\u001b[0;34m]\u001b[0m\u001b[0;34m)\u001b[0m\u001b[0;34m\u001b[0m\u001b[0;34m\u001b[0m\u001b[0m\n\u001b[0;32m---> 22\u001b[0;31m \u001b[0mdf_dtm\u001b[0m \u001b[0;34m=\u001b[0m \u001b[0mpd\u001b[0m\u001b[0;34m.\u001b[0m\u001b[0mDataFrame\u001b[0m\u001b[0;34m(\u001b[0m\u001b[0mcv_matrix\u001b[0m\u001b[0;34m.\u001b[0m\u001b[0mtoarray\u001b[0m\u001b[0;34m(\u001b[0m\u001b[0;34m)\u001b[0m\u001b[0;34m,\u001b[0m \u001b[0mindex\u001b[0m\u001b[0;34m=\u001b[0m\u001b[0mdf\u001b[0m\u001b[0;34m[\u001b[0m\u001b[0;34m'author'\u001b[0m\u001b[0;34m]\u001b[0m\u001b[0;34m.\u001b[0m\u001b[0mvalues\u001b[0m\u001b[0;34m,\u001b[0m \u001b[0mcolumns\u001b[0m\u001b[0;34m=\u001b[0m\u001b[0mcv\u001b[0m\u001b[0;34m.\u001b[0m\u001b[0mget_feature_names\u001b[0m\u001b[0;34m(\u001b[0m\u001b[0;34m)\u001b[0m\u001b[0;34m)\u001b[0m\u001b[0;34m\u001b[0m\u001b[0;34m\u001b[0m\u001b[0m\n\u001b[0m\u001b[1;32m     23\u001b[0m \u001b[0mdf_dtm\u001b[0m\u001b[0;34m\u001b[0m\u001b[0;34m\u001b[0m\u001b[0m\n",
            "\u001b[0;31mAttributeError\u001b[0m: 'CountVectorizer' object has no attribute 'get_feature_names'"
          ]
        }
      ],
      "source": [
        "import pandas as pd\n",
        "from sklearn.feature_extraction.text import CountVectorizer\n",
        "texts = [\"\"\"In the rapidly evolving and ever-changing world of technology, software companies have become a cornerstone for businesses and a guiding force of our everyday lives. From data analysis to cybersecurity solutions, tech companies are at the forefront of change and digital transformation. And with great power comes great responsibility. As an industry with immense influence, tech companies have a responsibility to use our expertise, vision, experience, and reputation to not only drive innovation and deliver exceptional value, but to expand public knowledge.\n",
        "\n",
        "Wesley Daniels, Clarity’s CEO discussing how we view and approach company culture.\n",
        "\n",
        "Today, we are launching our newest mission: Shift-Ctrl, our very own blog. Here, we will share our thoughts on the latest trends in software development and best practices. We believe that these two fields are inextricably linked and by fusing them, we can create truly transformative learning experiences. From interviews with tech leads to insightful leadership pieces, Shift-Ctrl will serve as a holistic platform for all things innovation.\n",
        "\n",
        "Looking forward, this blog will not only shoulder the pioneering of technical acumen, but it will delve into what it takes to run a successful software engineering company with genuinely happy employees that have earned us a place on the Baltimore Sun’s list of Top Workplaces for 3 years running. Our best practices aren’t just used for delivering technological solutions–we carry them through to all areas of our company. Shift-Ctrl will explore various strategies and approaches that can help create a positive work culture.\n",
        "\n",
        "At Clarity, the deep commitment to people and passion of our developers, designers, and engineers is the backbone of who we are. Their relentless dedication to excellence allows us to design, develop, and deploy force-enhancing software that connects human ingenuity to impactful tech. It is through the collective efforts of our talented team and the cutting-edge software they create that we can claim expertise. Tech and defense communities will find our unique perspective informative and worthwhile because it combines the knowledge and experiences of our extraordinary team with the transformative power of our software solutions.\n",
        "\n",
        "We believe that software is the tool but people are the mission. While software can be powerful and transformative, it is people who create, implement, and use it to achieve their goals. Our focus is creating next-generation tools that enable our end-users to work smarter and faster. By prioritizing the needs and experiences of our users, we create technology that not only meets and exceeds their immediate needs, but lays the foundation to attain their long-term objectives. We’re honored to have earned a reputation as a trustworthy and reliable provider of industry-leading solutions.\n",
        "\n",
        "Overall, by combining technical expertise with a focus on employee satisfaction and business management strategies, Shift-Ctrl will provide valuable insights and guidance to software engineering companies of all sizes and stages of development. We aim to inspire the next generation of developers to embrace new technologies and innovative practices, while urging the seasoned generation of developers to continue evolving and adapting to stay ahead in this ever-changing industry. We’ve dedicated our careers to mastering the delivery of operational mission solutions and development of some of the IC and DoD’s most cutting-edge programs. Now, Shift-Ctrl is a space to share our knowledge and forward-thinking approach with all of you.\n",
        "\"\"\" ,\n",
        "         'I choose a lazy person to do a hard job. Because a lazy person will find an easy way to do it.']\n",
        "\n",
        "df = pd.DataFrame({'author': ['jobs', 'gates'], 'text':texts})\n",
        "cv = CountVectorizer(stop_words='english')\n",
        "cv_matrix = cv.fit_transform(df['text'])\n",
        "df_dtm = pd.DataFrame(cv_matrix.toarray(), index=df['author'].values, columns=cv.get_feature_names())\n",
        "df_dtm"
      ]
    },
    {
      "cell_type": "code",
      "source": [
        "!pip install sklearn\n"
      ],
      "metadata": {
        "colab": {
          "base_uri": "https://localhost:8080/"
        },
        "id": "AfPhnF6uzucr",
        "outputId": "c41fb079-4a03-41d7-c2d3-5988bc7ba4a5"
      },
      "id": "AfPhnF6uzucr",
      "execution_count": 7,
      "outputs": [
        {
          "output_type": "stream",
          "name": "stdout",
          "text": [
            "Collecting sklearn\n",
            "  Downloading sklearn-0.0.post5.tar.gz (3.7 kB)\n",
            "  Preparing metadata (setup.py) ... \u001b[?25l\u001b[?25hdone\n",
            "Building wheels for collected packages: sklearn\n",
            "  Building wheel for sklearn (setup.py) ... \u001b[?25l\u001b[?25hdone\n",
            "  Created wheel for sklearn: filename=sklearn-0.0.post5-py3-none-any.whl size=2950 sha256=f03d4024dc10564984fda1928970474b2f897769a2a7c7913b3a9d11eb18f85b\n",
            "  Stored in directory: /root/.cache/pip/wheels/38/1f/8d/4f812c590e074c1e928f5cec67bf5053b71f38e2648739403a\n",
            "Successfully built sklearn\n",
            "Installing collected packages: sklearn\n",
            "Successfully installed sklearn-0.0.post5\n"
          ]
        }
      ]
    },
    {
      "cell_type": "markdown",
      "id": "present-aberdeen",
      "metadata": {
        "id": "present-aberdeen"
      },
      "source": [
        "### Spacy"
      ]
    },
    {
      "cell_type": "markdown",
      "id": "dutch-fields",
      "metadata": {
        "id": "dutch-fields"
      },
      "source": [
        "Tokenization in different languages (It  considers punctuation as a token)"
      ]
    },
    {
      "cell_type": "code",
      "execution_count": null,
      "id": "changing-syracuse",
      "metadata": {
        "scrolled": false,
        "id": "changing-syracuse",
        "outputId": "57a18e22-5e33-4ae8-cb80-49c185d8e39a"
      },
      "outputs": [
        {
          "name": "stdout",
          "output_type": "stream",
          "text": [
            "['Por', 'los', 'locos', '.', 'Los', 'marginados', '.', 'Los', 'rebeldes', '.', 'Los', 'problematicos', '.', '\\n', 'Los', 'inadaptados', '.', 'Los', 'que', 'ven', 'las', 'cosas', 'de', 'una', 'manera', 'distinta', '.', 'A', 'los', 'que', 'no', 'les', 'gustan', '\\n', 'las', 'reglas', '.', 'Y', 'a', 'los', 'que', 'no', 'respetan', 'el', '“', 'status', 'quo', '”', '.', 'Puedes', 'citarlos', ',', 'discrepar', 'de', 'ellos', ',', '\\n', 'ensalzarlos', 'o', 'vilipendiarlos', '.', 'Pero', 'lo', 'que', 'no', 'puedes', 'hacer', 'es', 'ignorarlos', '…', 'Porque', 'ellos', '\\n', 'cambian', 'las', 'cosas', ',', 'empujan', 'hacia', 'adelante', 'la', 'raza', 'humana', 'y', ',', 'aunque', 'algunos', 'puedan', '\\n', 'considerarlos', 'locos', ',', 'nosotros', 'vemos', 'en', 'ellos', 'a', 'genios', '.', 'Porque', 'las', 'personas', 'que', 'están', '\\n', 'lo', 'bastante', 'locas', 'como', 'para', 'creer', 'que', 'pueden', 'cambiar', 'el', 'mundo', ',', 'son', 'las', 'que', 'lo', 'logran', '.']\n"
          ]
        }
      ],
      "source": [
        "from spacy.lang.es import Spanish\n",
        "nlp = Spanish()\n",
        "\n",
        "text_spanish = \"\"\"Por los locos. Los marginados. Los rebeldes. Los problematicos.\n",
        "Los inadaptados. Los que ven las cosas de una manera distinta. A los que no les gustan\n",
        "las reglas. Y a los que no respetan el “status quo”. Puedes citarlos, discrepar de ellos,\n",
        "ensalzarlos o vilipendiarlos. Pero lo que no puedes hacer es ignorarlos… Porque ellos\n",
        "cambian las cosas, empujan hacia adelante la raza humana y, aunque algunos puedan\n",
        "considerarlos locos, nosotros vemos en ellos a genios. Porque las personas que están\n",
        "lo bastante locas como para creer que pueden cambiar el mundo, son las que lo logran.\"\"\"\n",
        "\n",
        "doc = nlp(text_spanish)\n",
        "\n",
        "tokens = [token.text for token in doc]\n",
        "print(tokens)"
      ]
    },
    {
      "cell_type": "markdown",
      "id": "geological-experiment",
      "metadata": {
        "id": "geological-experiment"
      },
      "source": [
        "### Gensim"
      ]
    },
    {
      "cell_type": "markdown",
      "id": "final-spain",
      "metadata": {
        "id": "final-spain"
      },
      "source": [
        "Gensim is quite strict with punctuation. It splits whenever a punctuation is encountered."
      ]
    },
    {
      "cell_type": "code",
      "execution_count": null,
      "id": "underlying-sacramento",
      "metadata": {
        "scrolled": true,
        "id": "underlying-sacramento",
        "outputId": "2c6c776a-5621-42d4-dcd3-edc101522dc1"
      },
      "outputs": [
        {
          "name": "stdout",
          "output_type": "stream",
          "text": [
            "['Here', 's', 'to', 'the', 'crazy', 'ones', 'the', 'misfits', 'the', 'rebels', 'the', 'troublemakers', 'the', 'round', 'pegs', 'in', 'the', 'square', 'holes', 'The', 'ones', 'who', 'see', 'things', 'differently', 'they', 're', 'not', 'fond', 'of', 'rules', 'You', 'can', 'quote', 'them', 'disagree', 'with', 'them', 'glorify', 'or', 'vilify', 'them', 'but', 'the', 'only', 'thing', 'you', 'can', 't', 'do', 'is', 'ignore', 'them', 'because', 'they', 'change', 'things', 'They', 'push', 'the', 'human', 'race', 'forward', 'and', 'while', 'some', 'may', 'see', 'them', 'as', 'the', 'crazy', 'ones', 'we', 'see', 'genius', 'because', 'the', 'ones', 'who', 'are', 'crazy', 'enough', 'to', 'think', 'that', 'they', 'can', 'change', 'the', 'world', 'are', 'the', 'ones', 'who', 'do']\n"
          ]
        }
      ],
      "source": [
        "from gensim.utils import tokenize\n",
        "#word tokenization\n",
        "print(list(tokenize(text)))"
      ]
    }
  ],
  "metadata": {
    "kernelspec": {
      "display_name": "Python 3",
      "language": "python",
      "name": "python3"
    },
    "language_info": {
      "codemirror_mode": {
        "name": "ipython",
        "version": 3
      },
      "file_extension": ".py",
      "mimetype": "text/x-python",
      "name": "python",
      "nbconvert_exporter": "python",
      "pygments_lexer": "ipython3",
      "version": "3.7.3"
    },
    "colab": {
      "provenance": [],
      "include_colab_link": true
    }
  },
  "nbformat": 4,
  "nbformat_minor": 5
}