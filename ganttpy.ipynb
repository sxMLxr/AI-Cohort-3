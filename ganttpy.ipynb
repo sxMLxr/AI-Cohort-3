{
  "nbformat": 4,
  "nbformat_minor": 0,
  "metadata": {
    "colab": {
      "provenance": [],
      "mount_file_id": "1L641doGn7JuY6ncdAtw5Cke5HGt_Zf4E",
      "authorship_tag": "ABX9TyNo9XJ41ped8tG0aTNxzoPf",
      "include_colab_link": true
    },
    "kernelspec": {
      "name": "python3",
      "display_name": "Python 3"
    },
    "language_info": {
      "name": "python"
    }
  },
  "cells": [
    {
      "cell_type": "markdown",
      "metadata": {
        "id": "view-in-github",
        "colab_type": "text"
      },
      "source": [
        "<a href=\"https://colab.research.google.com/github/michaelwnau/ai_academy_notebooks/blob/main/ganttpy.ipynb\" target=\"_parent\"><img src=\"https://colab.research.google.com/assets/colab-badge.svg\" alt=\"Open In Colab\"/></a>"
      ]
    },
    {
      "cell_type": "code",
      "source": [
        "# # Skip the initial 5 rows and read the Excel file\n",
        "# df = pd.read_excel(filename, skiprows=8)\n",
        "\n",
        "# # The first row after the skipped rows contains the column names. Set it as the DataFrame's column names.\n",
        "# df.columns = df.iloc[0]\n",
        "# df = df[1:]\n",
        "\n",
        "# # Print the column names\n",
        "# print(df.columns)\n"
      ],
      "metadata": {
        "colab": {
          "base_uri": "https://localhost:8080/"
        },
        "id": "IDNFxP1wK1yc",
        "outputId": "8eac7733-3bbd-4a9d-c77b-85492e2e7049"
      },
      "execution_count": null,
      "outputs": [
        {
          "output_type": "stream",
          "name": "stdout",
          "text": [
            "Index([                  1,                 '1',              '11.0',\n",
            "                 'Project', 2023-09-22 09:00:00, 2024-10-04 17:00:00,\n",
            "                '271 days',                 nan,                   0,\n",
            "                       nan,                 nan,                 nan,\n",
            "                       nan,                 nan,                 nan,\n",
            "                      'No',                 nan,                 nan,\n",
            "                       nan,                 nan,            'Medium',\n",
            "                       nan,                 nan],\n",
            "      dtype='object', name=0)\n"
          ]
        },
        {
          "output_type": "stream",
          "name": "stderr",
          "text": [
            "/usr/local/lib/python3.10/dist-packages/openpyxl/styles/stylesheet.py:226: UserWarning: Workbook contains no default style, apply openpyxl's default\n",
            "  warn(\"Workbook contains no default style, apply openpyxl's default\")\n"
          ]
        }
      ]
    },
    {
      "cell_type": "code",
      "execution_count": null,
      "metadata": {
        "colab": {
          "base_uri": "https://localhost:8080/"
        },
        "id": "JmyWhocLGVf6",
        "outputId": "b4cfc6bf-c1c0-413e-8cc2-dd86a02b1334"
      },
      "outputs": [
        {
          "output_type": "stream",
          "name": "stderr",
          "text": [
            "/usr/local/lib/python3.10/dist-packages/openpyxl/styles/stylesheet.py:226: UserWarning: Workbook contains no default style, apply openpyxl's default\n",
            "  warn(\"Workbook contains no default style, apply openpyxl's default\")\n"
          ]
        },
        {
          "output_type": "display_data",
          "data": {
            "text/html": [
              "<html>\n",
              "<head><meta charset=\"utf-8\" /></head>\n",
              "<body>\n",
              "    <div>            <script src=\"https://cdnjs.cloudflare.com/ajax/libs/mathjax/2.7.5/MathJax.js?config=TeX-AMS-MML_SVG\"></script><script type=\"text/javascript\">if (window.MathJax && window.MathJax.Hub && window.MathJax.Hub.Config) {window.MathJax.Hub.Config({SVG: {font: \"STIX-Web\"}});}</script>                <script type=\"text/javascript\">window.PlotlyConfig = {MathJaxConfig: 'local'};</script>\n",
              "        <script src=\"https://cdn.plot.ly/plotly-2.18.2.min.js\"></script>                <div id=\"9c1529ee-418a-4f4b-a8e2-699b3f5159e3\" class=\"plotly-graph-div\" style=\"height:525px; width:100%;\"></div>            <script type=\"text/javascript\">                                    window.PLOTLYENV=window.PLOTLYENV || {};                                    if (document.getElementById(\"9c1529ee-418a-4f4b-a8e2-699b3f5159e3\")) {                    Plotly.newPlot(                        \"9c1529ee-418a-4f4b-a8e2-699b3f5159e3\",                        [{\"alignmentgroup\":\"True\",\"base\":[\"2023-09-22T09:00:00\",\"2023-09-22T09:00:00\",\"2023-09-22T09:00:00\",\"2023-09-22T09:00:00\",\"2023-09-22T09:00:00\",\"2023-09-22T09:00:00\",\"2023-09-22T09:00:00\",\"2023-09-22T09:00:00\",\"2023-09-22T09:00:00\",\"2023-09-22T09:00:00\",\"2023-09-22T09:00:00\",\"2023-09-22T09:00:00\",\"2023-09-22T09:00:00\",\"2023-09-22T09:00:00\",\"2023-09-22T09:00:00\",\"2023-09-22T09:00:00\",\"2023-09-25T09:00:00\",\"2023-09-27T09:00:00\",\"2023-10-02T09:00:00\",\"2023-10-02T09:00:00\",\"2023-10-04T09:00:00\",\"2023-10-06T09:00:00\",\"2023-10-16T09:00:00\",\"2023-10-16T09:00:00\",\"2023-10-18T09:00:00\",\"2023-10-20T09:00:00\",\"2023-10-30T09:00:00\",\"2023-10-30T09:00:00\",\"2023-11-01T09:00:00\",\"2023-11-03T09:00:00\",\"2023-11-27T09:00:00\",\"2023-11-27T09:00:00\",\"2023-11-29T09:00:00\",\"2023-12-01T09:00:00\",\"2023-12-11T09:00:00\",\"2023-12-11T09:00:00\",\"2023-12-13T09:00:00\",\"2023-12-15T09:00:00\",\"2023-12-25T09:00:00\",\"2023-12-25T09:00:00\",\"2023-12-27T09:00:00\",\"2023-12-29T09:00:00\",\"2024-01-08T09:00:00\",\"2024-01-08T09:00:00\",\"2024-01-10T09:00:00\",\"2024-01-12T09:00:00\",\"2024-01-22T09:00:00\",\"2024-01-22T09:00:00\",\"2024-01-24T09:00:00\",\"2024-01-26T09:00:00\",\"2024-02-05T09:00:00\",\"2024-02-05T09:00:00\",\"2024-02-07T09:00:00\",\"2024-02-09T09:00:00\",\"2024-02-19T09:00:00\",\"2024-02-19T09:00:00\",\"2024-02-21T09:00:00\",\"2024-02-23T09:00:00\",\"2024-03-04T09:00:00\",\"2024-03-04T09:00:00\",\"2024-03-06T09:00:00\",\"2024-03-08T09:00:00\",\"2024-03-18T09:00:00\",\"2024-03-18T09:00:00\",\"2024-03-20T09:00:00\",\"2024-03-22T09:00:00\",\"2024-04-01T09:00:00\",\"2024-04-01T09:00:00\",\"2024-04-03T09:00:00\",\"2024-04-05T09:00:00\",\"2024-04-15T09:00:00\",\"2024-04-15T09:00:00\",\"2024-04-17T09:00:00\",\"2024-04-19T09:00:00\",\"2024-04-29T09:00:00\",\"2024-04-29T09:00:00\",\"2024-05-01T09:00:00\",\"2024-05-03T09:00:00\",\"2024-05-13T09:00:00\",\"2024-05-13T09:00:00\",\"2024-05-15T09:00:00\",\"2024-05-17T09:00:00\",\"2024-05-27T09:00:00\",\"2024-05-27T09:00:00\",\"2024-05-29T09:00:00\",\"2024-05-31T09:00:00\",\"2024-06-10T09:00:00\",\"2024-06-10T09:00:00\",\"2024-06-12T09:00:00\",\"2024-06-14T09:00:00\",\"2024-06-24T09:00:00\",\"2024-06-24T09:00:00\",\"2024-06-26T09:00:00\",\"2024-06-28T09:00:00\",\"2024-07-08T09:00:00\",\"2024-07-08T09:00:00\",\"2024-07-10T09:00:00\",\"2024-07-12T09:00:00\",\"2024-07-22T09:00:00\",\"2024-07-22T09:00:00\",\"2024-07-24T09:00:00\",\"2024-07-26T09:00:00\",\"2024-08-05T09:00:00\",\"2024-08-05T09:00:00\",\"2024-08-07T09:00:00\",\"2024-08-09T09:00:00\",\"2024-08-19T09:00:00\",\"2024-08-19T09:00:00\",\"2024-08-21T09:00:00\",\"2024-08-23T09:00:00\",\"2024-08-19T09:00:00\",\"2024-08-19T09:00:00\",\"2024-09-04T09:00:00\",\"2024-08-26T09:00:00\",\"2024-09-02T09:00:00\",\"2024-09-02T09:00:00\",\"2024-09-04T09:00:00\",\"2024-09-06T09:00:00\",\"2024-09-16T09:00:00\",\"2024-09-16T09:00:00\",\"2024-09-18T09:00:00\",\"2024-09-20T09:00:00\",\"2023-10-04T09:00:00\",\"2023-10-04T09:00:00\",\"2023-10-04T09:00:00\",\"2023-11-03T09:00:00\",\"2023-11-03T09:00:00\",\"2023-12-05T09:00:00\",\"2023-12-05T09:00:00\",\"2024-01-05T09:00:00\",\"2024-01-05T09:00:00\",\"2024-02-05T09:00:00\",\"2024-02-05T09:00:00\",\"2024-03-05T09:00:00\",\"2024-03-05T09:00:00\",\"2024-04-03T09:00:00\",\"2024-04-03T09:00:00\",\"2024-05-03T09:00:00\",\"2024-05-03T09:00:00\",\"2024-06-05T09:00:00\",\"2024-06-05T09:00:00\",\"2024-07-03T09:00:00\",\"2024-07-03T09:00:00\",\"2024-08-05T09:00:00\",\"2024-08-05T09:00:00\",\"2024-09-04T09:00:00\",\"2024-09-04T09:00:00\",\"2023-09-22T09:00:00\",\"2023-09-22T09:00:00\",\"2023-09-22T09:00:00\",\"2023-09-22T09:00:00\",\"2023-09-22T09:00:00\",\"2023-09-22T09:00:00\",\"2023-09-22T09:00:00\",\"2023-09-22T09:00:00\",\"2023-12-20T09:00:00\",\"2023-12-20T09:00:00\",\"2023-12-22T09:00:00\",\"2023-12-26T09:00:00\",\"2024-03-20T09:00:00\",\"2024-03-20T09:00:00\",\"2024-03-22T09:00:00\",\"2024-03-26T09:00:00\",\"2024-06-20T09:00:00\",\"2024-06-20T09:00:00\",\"2024-06-24T09:00:00\",\"2024-06-26T09:00:00\",\"2024-09-18T09:00:00\",\"2024-09-18T09:00:00\",\"2024-09-20T09:00:00\",\"2024-09-24T09:00:00\",\"2023-09-22T09:00:00\",\"2023-09-22T09:00:00\",\"2023-09-22T09:00:00\",\"2023-09-22T09:00:00\",\"2023-09-22T09:00:00\",\"2023-09-22T09:00:00\",\"2023-09-22T09:00:00\",\"2023-09-22T09:00:00\",\"2023-09-22T09:00:00\",\"2023-09-22T09:00:00\",\"2023-09-22T09:00:00\",\"2023-09-22T09:00:00\",\"2023-09-22T09:00:00\",\"2023-09-22T09:00:00\",\"2023-09-22T09:00:00\",\"2023-09-22T09:00:00\",\"2023-09-22T09:00:00\",\"2023-09-22T09:00:00\",\"2023-09-22T09:00:00\",\"2023-09-22T09:00:00\",\"2023-09-22T09:00:00\",\"2023-09-22T09:00:00\",\"2023-09-22T09:00:00\",\"2023-09-22T09:00:00\"],\"hovertemplate\":\"Start=%{base}<br>Finish=%{x}<br>Name=%{y}<extra></extra>\",\"legendgroup\":\"\",\"marker\":{\"color\":\"#636efa\",\"pattern\":{\"shape\":\"\"}},\"name\":\"\",\"offsetgroup\":\"\",\"orientation\":\"h\",\"showlegend\":false,\"textposition\":\"auto\",\"x\":[32688000000.0,32688000000.0,892800000.0,1152000000.0,1152000000.0,1152000000.0,1756800000.0,1756800000.0,1756800000.0,1756800000.0,1756800000.0,1756800000.0,1756800000.0,32688000000.0,460800000.0,28800000.0,28800000.0,28800000.0,374400000.0,28800000.0,28800000.0,28800000.0,374400000.0,28800000.0,28800000.0,28800000.0,374400000.0,28800000.0,28800000.0,28800000.0,374400000.0,28800000.0,28800000.0,28800000.0,374400000.0,28800000.0,28800000.0,28800000.0,374400000.0,28800000.0,28800000.0,28800000.0,374400000.0,28800000.0,28800000.0,28800000.0,374400000.0,28800000.0,28800000.0,28800000.0,374400000.0,28800000.0,28800000.0,28800000.0,374400000.0,28800000.0,28800000.0,28800000.0,374400000.0,28800000.0,28800000.0,28800000.0,374400000.0,28800000.0,28800000.0,28800000.0,374400000.0,28800000.0,28800000.0,28800000.0,374400000.0,28800000.0,28800000.0,28800000.0,374400000.0,28800000.0,28800000.0,28800000.0,374400000.0,28800000.0,28800000.0,28800000.0,374400000.0,28800000.0,28800000.0,28800000.0,374400000.0,28800000.0,28800000.0,28800000.0,374400000.0,28800000.0,28800000.0,28800000.0,374400000.0,28800000.0,28800000.0,28800000.0,374400000.0,28800000.0,28800000.0,28800000.0,374400000.0,28800000.0,28800000.0,28800000.0,374400000.0,28800000.0,28800000.0,28800000.0,3052800000.0,28800000.0,28800000.0,2448000000.0,2793600000.0,28800000.0,28800000.0,2448000000.0,374400000.0,28800000.0,28800000.0,28800000.0,29059200000.0,28800000.0,28800000.0,28800000.0,28800000.0,28800000.0,28800000.0,28800000.0,28800000.0,28800000.0,28800000.0,28800000.0,28800000.0,28800000.0,28800000.0,28800000.0,28800000.0,28800000.0,28800000.0,28800000.0,28800000.0,28800000.0,28800000.0,28800000.0,28800000.0,1152000000.0,1152000000.0,1152000000.0,1152000000.0,1152000000.0,1152000000.0,1152000000.0,31824000000.0,547200000.0,28800000.0,28800000.0,28800000.0,547200000.0,28800000.0,28800000.0,28800000.0,547200000.0,28800000.0,28800000.0,28800000.0,547200000.0,28800000.0,28800000.0,28800000.0,31478400000.0,3571200000.0,3571200000.0,3571200000.0,3571200000.0,3571200000.0,3571200000.0,3571200000.0,3571200000.0,3571200000.0,28800000.0,28800000.0,31478400000.0,31478400000.0,31478400000.0,31478400000.0,31478400000.0,31478400000.0,31478400000.0,31478400000.0,31478400000.0,3571200000.0,3571200000.0,3571200000.0],\"xaxis\":\"x\",\"y\":[\"Project\",\"Project Management\",\"Post Award Conference\",\"Project Management Plan (PMP)\",\"PMP\",\"Project Schedule\",\"Risk Management Plan\",\"Risk Management Plan\",\"Risk Register Log\",\"Quality Control Plan\",\"Early detection & correction of quality of service \",\"Methods identifying & preventing deficiencies in performance\",\"Quality Control Team identified in organization chart\",\"Performance Review\",\"Performance Review Meeting\",\"Performance Review Meeting Agenda\",\"Performance Review Meeting\",\"Performance Review Meeting Minutes\",\"Performance Review Meeting\",\"Performance Review Meeting Agenda\",\"Performance Review Meeting\",\"Performance Review Meeting Minutes\",\"Performance Review Meeting\",\"Performance Review Meeting Agenda\",\"Performance Review Meeting\",\"Performance Review Meeting Minutes\",\"Performance Review Meeting\",\"Performance Review Meeting Agenda\",\"Performance Review Meeting\",\"Performance Review Meeting Minutes\",\"Performance Review Meeting\",\"Performance Review Meeting Agenda\",\"Performance Review Meeting\",\"Performance Review Meeting Minutes\",\"Performance Review Meeting\",\"Performance Review Meeting Agenda\",\"Performance Review Meeting\",\"Performance Review Meeting Minutes\",\"Performance Review Meeting\",\"Performance Review Meeting Agenda\",\"Performance Review Meeting\",\"Performance Review Meeting Minutes\",\"Performance Review Meeting\",\"Performance Review Meeting Agenda\",\"Performance Review Meeting\",\"Performance Review Meeting Minutes\",\"Performance Review Meeting\",\"Performance Review Meeting Agenda\",\"Performance Review Meeting\",\"Performance Review Meeting Minutes\",\"Performance Review Meeting\",\"Performance Review Meeting Agenda\",\"Performance Review Meeting\",\"Performance Review Meeting Minutes\",\"Performance Review Meeting\",\"Performance Review Meeting Agenda\",\"Performance Review Meeting\",\"Performance Review Meeting Minutes\",\"Performance Review Meeting\",\"Performance Review Meeting Agenda\",\"Performance Review Meeting\",\"Performance Review Meeting Minutes\",\"Performance Review Meeting\",\"Performance Review Meeting Agenda\",\"Performance Review Meeting\",\"Performance Review Meeting Minutes\",\"Performance Review Meeting\",\"Performance Review Meeting Agenda\",\"Performance Review Meeting\",\"Performance Review Meeting Minutes\",\"Performance Review Meeting\",\"Performance Review Meeting Agenda\",\"Performance Review Meeting\",\"Performance Review Meeting Minutes\",\"Performance Review Meeting\",\"Performance Review Meeting Agenda\",\"Performance Review Meeting\",\"Performance Review Meeting Minutes\",\"Performance Review Meeting\",\"Performance Review Meeting Agenda\",\"Performance Review Meeting\",\"Performance Review Meeting Minutes\",\"Performance Review Meeting\",\"Performance Review Meeting Agenda\",\"Performance Review Meeting\",\"Performance Review Meeting Minutes\",\"Performance Review Meeting\",\"Performance Review Meeting Agenda\",\"Performance Review Meeting\",\"Performance Review Meeting Minutes\",\"Performance Review Meeting\",\"Performance Review Meeting Agenda\",\"Performance Review Meeting\",\"Performance Review Meeting Minutes\",\"Performance Review Meeting\",\"Performance Review Meeting Agenda\",\"Performance Review Meeting\",\"Performance Review Meeting Minutes\",\"Performance Review Meeting\",\"Performance Review Meeting Agenda\",\"Performance Review Meeting\",\"Performance Review Meeting Minutes\",\"Performance Review Meeting\",\"Performance Review Meeting Agenda\",\"Performance Review Meeting\",\"Performance Review Meeting Minutes\",\"Performance Review Meeting\",\"Performance Review Meeting Agenda\",\"Performance Review Meeting\",\"Performance Review Meeting Minutes\",\"Performance Review Meeting\",\"Performance Review Meeting Agenda\",\"Performance Review Meeting\",\"Performance Review Meeting Minutes\",\"Performance Review Meeting\",\"Performance Review Meeting Agenda\",\"Performance Review Meeting\",\"Performance Review Meeting Minutes\",\"Performance Review Meeting\",\"Performance Review Meeting Agenda\",\"Performance Review Meeting\",\"Performance Review Meeting Minutes\",\"Monthly Progress\",\"Monthly Progress Report\",\"Brief Presentation 9/2023\",\"Monthly Progress Report\",\"Brief Presentation 10/2023\",\"Monthly Progress Report\",\"Brief Presentation 11/2023\",\"Monthly Progress Report\",\"Brief Presentation 12/2023\",\"Monthly Progress Report\",\"Brief Presentation 1/2024\",\"Monthly Progress Report\",\"Brief Presentation 2/2024\",\"Monthly Progress Report\",\"Brief Presentation 3/2024\",\"Monthly Progress Report\",\"Brief Presentation 4/2024\",\"Monthly Progress Report\",\"Brief Presentation 5/2024\",\"Monthly Progress Report\",\"Brief Presentation 6/2024\",\"Monthly Progress Report\",\"Brief Presentation 7/2024\",\"Monthly Progress Report\",\"Brief Presentation 08/2024\",\"Program Support\",\"Create SharePoint site with workflow and PIR intake form\",\"Prepare and distribute meeting agenda, minutes, and action items report\",\"Track action items with ownership and dues dates\",\"Schedule creation\",\"Risk Registry\",\"Presentation Creation\",\"Quarterly Operational Management Review\",\"Q4 2023 OMR Meeting\",\"Distribute agenda\",\"OMR Meeting\",\"Distribute minutes\",\"Q1 2024 OMR Meeting\",\"Distribute agenda\",\"OMR Meeting\",\"Distribute minutes\",\"Q2 2024 OMR Meeting\",\"Distribute agenda\",\"OMR Meeting\",\"Distribute minutes\",\"Q3 204 OMR Meeting\",\"Distribute agenda\",\"OMR Meeting\",\"Distribute minutes\",\"Prepare and distribute meeting agendas, minutes, and action items reports\",\"Digital Modernization Analysis\",\"Analysis of \\\"smart from\\\" technology\",\"Enhancement analysis of dependent claims\",\"Enhancement and integration of Toxic Exposure data\",\" Automate intake interview (screening) and integrate with VBA backend for adjudication\",\"UX capture, analytics, reporting layers\",\"Capture User Experience (UX) feedback layer\",\"Analysis of UX data - optimization, gap, CBA, timeline\",\"Reporting layer - \\\"virtual\\\" and granular implementation\",\"User Notification Preference implementation at VA.gov\",\"Mobile notifications implementation\",\"Business Optimization Analysis\",\"Task Schedule\",\"Integrated Master Schedule (IMS)9/22/2023\",\"Business Optimization Analysis\",\"User Feedback Solicitation\",\"User Feedback Report\",\"Gap and Cost-Benefit Analysis\",\"Implementation Strategies\",\"Optimization findings briefings\",\"Transition-In\",\"Transition-In Plan\",\"Brief Presentation 09-2023\"],\"yaxis\":\"y\",\"type\":\"bar\"}],                        {\"template\":{\"data\":{\"histogram2dcontour\":[{\"type\":\"histogram2dcontour\",\"colorbar\":{\"outlinewidth\":0,\"ticks\":\"\"},\"colorscale\":[[0.0,\"#0d0887\"],[0.1111111111111111,\"#46039f\"],[0.2222222222222222,\"#7201a8\"],[0.3333333333333333,\"#9c179e\"],[0.4444444444444444,\"#bd3786\"],[0.5555555555555556,\"#d8576b\"],[0.6666666666666666,\"#ed7953\"],[0.7777777777777778,\"#fb9f3a\"],[0.8888888888888888,\"#fdca26\"],[1.0,\"#f0f921\"]]}],\"choropleth\":[{\"type\":\"choropleth\",\"colorbar\":{\"outlinewidth\":0,\"ticks\":\"\"}}],\"histogram2d\":[{\"type\":\"histogram2d\",\"colorbar\":{\"outlinewidth\":0,\"ticks\":\"\"},\"colorscale\":[[0.0,\"#0d0887\"],[0.1111111111111111,\"#46039f\"],[0.2222222222222222,\"#7201a8\"],[0.3333333333333333,\"#9c179e\"],[0.4444444444444444,\"#bd3786\"],[0.5555555555555556,\"#d8576b\"],[0.6666666666666666,\"#ed7953\"],[0.7777777777777778,\"#fb9f3a\"],[0.8888888888888888,\"#fdca26\"],[1.0,\"#f0f921\"]]}],\"heatmap\":[{\"type\":\"heatmap\",\"colorbar\":{\"outlinewidth\":0,\"ticks\":\"\"},\"colorscale\":[[0.0,\"#0d0887\"],[0.1111111111111111,\"#46039f\"],[0.2222222222222222,\"#7201a8\"],[0.3333333333333333,\"#9c179e\"],[0.4444444444444444,\"#bd3786\"],[0.5555555555555556,\"#d8576b\"],[0.6666666666666666,\"#ed7953\"],[0.7777777777777778,\"#fb9f3a\"],[0.8888888888888888,\"#fdca26\"],[1.0,\"#f0f921\"]]}],\"heatmapgl\":[{\"type\":\"heatmapgl\",\"colorbar\":{\"outlinewidth\":0,\"ticks\":\"\"},\"colorscale\":[[0.0,\"#0d0887\"],[0.1111111111111111,\"#46039f\"],[0.2222222222222222,\"#7201a8\"],[0.3333333333333333,\"#9c179e\"],[0.4444444444444444,\"#bd3786\"],[0.5555555555555556,\"#d8576b\"],[0.6666666666666666,\"#ed7953\"],[0.7777777777777778,\"#fb9f3a\"],[0.8888888888888888,\"#fdca26\"],[1.0,\"#f0f921\"]]}],\"contourcarpet\":[{\"type\":\"contourcarpet\",\"colorbar\":{\"outlinewidth\":0,\"ticks\":\"\"}}],\"contour\":[{\"type\":\"contour\",\"colorbar\":{\"outlinewidth\":0,\"ticks\":\"\"},\"colorscale\":[[0.0,\"#0d0887\"],[0.1111111111111111,\"#46039f\"],[0.2222222222222222,\"#7201a8\"],[0.3333333333333333,\"#9c179e\"],[0.4444444444444444,\"#bd3786\"],[0.5555555555555556,\"#d8576b\"],[0.6666666666666666,\"#ed7953\"],[0.7777777777777778,\"#fb9f3a\"],[0.8888888888888888,\"#fdca26\"],[1.0,\"#f0f921\"]]}],\"surface\":[{\"type\":\"surface\",\"colorbar\":{\"outlinewidth\":0,\"ticks\":\"\"},\"colorscale\":[[0.0,\"#0d0887\"],[0.1111111111111111,\"#46039f\"],[0.2222222222222222,\"#7201a8\"],[0.3333333333333333,\"#9c179e\"],[0.4444444444444444,\"#bd3786\"],[0.5555555555555556,\"#d8576b\"],[0.6666666666666666,\"#ed7953\"],[0.7777777777777778,\"#fb9f3a\"],[0.8888888888888888,\"#fdca26\"],[1.0,\"#f0f921\"]]}],\"mesh3d\":[{\"type\":\"mesh3d\",\"colorbar\":{\"outlinewidth\":0,\"ticks\":\"\"}}],\"scatter\":[{\"fillpattern\":{\"fillmode\":\"overlay\",\"size\":10,\"solidity\":0.2},\"type\":\"scatter\"}],\"parcoords\":[{\"type\":\"parcoords\",\"line\":{\"colorbar\":{\"outlinewidth\":0,\"ticks\":\"\"}}}],\"scatterpolargl\":[{\"type\":\"scatterpolargl\",\"marker\":{\"colorbar\":{\"outlinewidth\":0,\"ticks\":\"\"}}}],\"bar\":[{\"error_x\":{\"color\":\"#2a3f5f\"},\"error_y\":{\"color\":\"#2a3f5f\"},\"marker\":{\"line\":{\"color\":\"#E5ECF6\",\"width\":0.5},\"pattern\":{\"fillmode\":\"overlay\",\"size\":10,\"solidity\":0.2}},\"type\":\"bar\"}],\"scattergeo\":[{\"type\":\"scattergeo\",\"marker\":{\"colorbar\":{\"outlinewidth\":0,\"ticks\":\"\"}}}],\"scatterpolar\":[{\"type\":\"scatterpolar\",\"marker\":{\"colorbar\":{\"outlinewidth\":0,\"ticks\":\"\"}}}],\"histogram\":[{\"marker\":{\"pattern\":{\"fillmode\":\"overlay\",\"size\":10,\"solidity\":0.2}},\"type\":\"histogram\"}],\"scattergl\":[{\"type\":\"scattergl\",\"marker\":{\"colorbar\":{\"outlinewidth\":0,\"ticks\":\"\"}}}],\"scatter3d\":[{\"type\":\"scatter3d\",\"line\":{\"colorbar\":{\"outlinewidth\":0,\"ticks\":\"\"}},\"marker\":{\"colorbar\":{\"outlinewidth\":0,\"ticks\":\"\"}}}],\"scattermapbox\":[{\"type\":\"scattermapbox\",\"marker\":{\"colorbar\":{\"outlinewidth\":0,\"ticks\":\"\"}}}],\"scatterternary\":[{\"type\":\"scatterternary\",\"marker\":{\"colorbar\":{\"outlinewidth\":0,\"ticks\":\"\"}}}],\"scattercarpet\":[{\"type\":\"scattercarpet\",\"marker\":{\"colorbar\":{\"outlinewidth\":0,\"ticks\":\"\"}}}],\"carpet\":[{\"aaxis\":{\"endlinecolor\":\"#2a3f5f\",\"gridcolor\":\"white\",\"linecolor\":\"white\",\"minorgridcolor\":\"white\",\"startlinecolor\":\"#2a3f5f\"},\"baxis\":{\"endlinecolor\":\"#2a3f5f\",\"gridcolor\":\"white\",\"linecolor\":\"white\",\"minorgridcolor\":\"white\",\"startlinecolor\":\"#2a3f5f\"},\"type\":\"carpet\"}],\"table\":[{\"cells\":{\"fill\":{\"color\":\"#EBF0F8\"},\"line\":{\"color\":\"white\"}},\"header\":{\"fill\":{\"color\":\"#C8D4E3\"},\"line\":{\"color\":\"white\"}},\"type\":\"table\"}],\"barpolar\":[{\"marker\":{\"line\":{\"color\":\"#E5ECF6\",\"width\":0.5},\"pattern\":{\"fillmode\":\"overlay\",\"size\":10,\"solidity\":0.2}},\"type\":\"barpolar\"}],\"pie\":[{\"automargin\":true,\"type\":\"pie\"}]},\"layout\":{\"autotypenumbers\":\"strict\",\"colorway\":[\"#636efa\",\"#EF553B\",\"#00cc96\",\"#ab63fa\",\"#FFA15A\",\"#19d3f3\",\"#FF6692\",\"#B6E880\",\"#FF97FF\",\"#FECB52\"],\"font\":{\"color\":\"#2a3f5f\"},\"hovermode\":\"closest\",\"hoverlabel\":{\"align\":\"left\"},\"paper_bgcolor\":\"white\",\"plot_bgcolor\":\"#E5ECF6\",\"polar\":{\"bgcolor\":\"#E5ECF6\",\"angularaxis\":{\"gridcolor\":\"white\",\"linecolor\":\"white\",\"ticks\":\"\"},\"radialaxis\":{\"gridcolor\":\"white\",\"linecolor\":\"white\",\"ticks\":\"\"}},\"ternary\":{\"bgcolor\":\"#E5ECF6\",\"aaxis\":{\"gridcolor\":\"white\",\"linecolor\":\"white\",\"ticks\":\"\"},\"baxis\":{\"gridcolor\":\"white\",\"linecolor\":\"white\",\"ticks\":\"\"},\"caxis\":{\"gridcolor\":\"white\",\"linecolor\":\"white\",\"ticks\":\"\"}},\"coloraxis\":{\"colorbar\":{\"outlinewidth\":0,\"ticks\":\"\"}},\"colorscale\":{\"sequential\":[[0.0,\"#0d0887\"],[0.1111111111111111,\"#46039f\"],[0.2222222222222222,\"#7201a8\"],[0.3333333333333333,\"#9c179e\"],[0.4444444444444444,\"#bd3786\"],[0.5555555555555556,\"#d8576b\"],[0.6666666666666666,\"#ed7953\"],[0.7777777777777778,\"#fb9f3a\"],[0.8888888888888888,\"#fdca26\"],[1.0,\"#f0f921\"]],\"sequentialminus\":[[0.0,\"#0d0887\"],[0.1111111111111111,\"#46039f\"],[0.2222222222222222,\"#7201a8\"],[0.3333333333333333,\"#9c179e\"],[0.4444444444444444,\"#bd3786\"],[0.5555555555555556,\"#d8576b\"],[0.6666666666666666,\"#ed7953\"],[0.7777777777777778,\"#fb9f3a\"],[0.8888888888888888,\"#fdca26\"],[1.0,\"#f0f921\"]],\"diverging\":[[0,\"#8e0152\"],[0.1,\"#c51b7d\"],[0.2,\"#de77ae\"],[0.3,\"#f1b6da\"],[0.4,\"#fde0ef\"],[0.5,\"#f7f7f7\"],[0.6,\"#e6f5d0\"],[0.7,\"#b8e186\"],[0.8,\"#7fbc41\"],[0.9,\"#4d9221\"],[1,\"#276419\"]]},\"xaxis\":{\"gridcolor\":\"white\",\"linecolor\":\"white\",\"ticks\":\"\",\"title\":{\"standoff\":15},\"zerolinecolor\":\"white\",\"automargin\":true,\"zerolinewidth\":2},\"yaxis\":{\"gridcolor\":\"white\",\"linecolor\":\"white\",\"ticks\":\"\",\"title\":{\"standoff\":15},\"zerolinecolor\":\"white\",\"automargin\":true,\"zerolinewidth\":2},\"scene\":{\"xaxis\":{\"backgroundcolor\":\"#E5ECF6\",\"gridcolor\":\"white\",\"linecolor\":\"white\",\"showbackground\":true,\"ticks\":\"\",\"zerolinecolor\":\"white\",\"gridwidth\":2},\"yaxis\":{\"backgroundcolor\":\"#E5ECF6\",\"gridcolor\":\"white\",\"linecolor\":\"white\",\"showbackground\":true,\"ticks\":\"\",\"zerolinecolor\":\"white\",\"gridwidth\":2},\"zaxis\":{\"backgroundcolor\":\"#E5ECF6\",\"gridcolor\":\"white\",\"linecolor\":\"white\",\"showbackground\":true,\"ticks\":\"\",\"zerolinecolor\":\"white\",\"gridwidth\":2}},\"shapedefaults\":{\"line\":{\"color\":\"#2a3f5f\"}},\"annotationdefaults\":{\"arrowcolor\":\"#2a3f5f\",\"arrowhead\":0,\"arrowwidth\":1},\"geo\":{\"bgcolor\":\"white\",\"landcolor\":\"#E5ECF6\",\"subunitcolor\":\"white\",\"showland\":true,\"showlakes\":true,\"lakecolor\":\"white\"},\"title\":{\"x\":0.05},\"mapbox\":{\"style\":\"light\"}}},\"xaxis\":{\"anchor\":\"y\",\"domain\":[0.0,1.0],\"type\":\"date\"},\"yaxis\":{\"anchor\":\"x\",\"domain\":[0.0,1.0],\"title\":{\"text\":\"Name\"},\"autorange\":\"reversed\"},\"legend\":{\"tracegroupgap\":0},\"margin\":{\"t\":60},\"barmode\":\"overlay\"},                        {\"responsive\": true}                    ).then(function(){\n",
              "                            \n",
              "var gd = document.getElementById('9c1529ee-418a-4f4b-a8e2-699b3f5159e3');\n",
              "var x = new MutationObserver(function (mutations, observer) {{\n",
              "        var display = window.getComputedStyle(gd).display;\n",
              "        if (!display || display === 'none') {{\n",
              "            console.log([gd, 'removed!']);\n",
              "            Plotly.purge(gd);\n",
              "            observer.disconnect();\n",
              "        }}\n",
              "}});\n",
              "\n",
              "// Listen for the removal of the full notebook cells\n",
              "var notebookContainer = gd.closest('#notebook-container');\n",
              "if (notebookContainer) {{\n",
              "    x.observe(notebookContainer, {childList: true});\n",
              "}}\n",
              "\n",
              "// Listen for the clearing of the current output cell\n",
              "var outputEl = gd.closest('.output');\n",
              "if (outputEl) {{\n",
              "    x.observe(outputEl, {childList: true});\n",
              "}}\n",
              "\n",
              "                        })                };                            </script>        </div>\n",
              "</body>\n",
              "</html>"
            ]
          },
          "metadata": {}
        }
      ],
      "source": [
        "import pandas as pd\n",
        "import plotly.express as px\n",
        "\n",
        "# We already have the file uploaded and its name\n",
        "filename = 'OAB-PWS-v1.xlsx'\n",
        "\n",
        "# Skip the initial 8 rows and read the Excel file\n",
        "df = pd.read_excel(filename, skiprows=8)\n",
        "\n",
        "# Ensure that the 'Start' and 'Finish' columns are in datetime format\n",
        "df['Start'] = pd.to_datetime(df['Start'])\n",
        "df['Finish'] = pd.to_datetime(df['Finish'])\n",
        "\n",
        "# Create the Gantt chart\n",
        "fig = px.timeline(df, x_start=\"Start\", x_end=\"Finish\", y=\"Name\")\n",
        "fig.update_yaxes(autorange=\"reversed\") # This is to make sure that the tasks are displayed from top to bottom in the order they are in the DataFrame\n",
        "fig.show()\n",
        "\n"
      ]
    }
  ]
}